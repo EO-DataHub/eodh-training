{
 "cells": [
  {
   "cell_type": "markdown",
   "metadata": {},
   "source": [
    "\n",
    "https://github.com/cedadev/stac-notebooks/blob/main/stac-api-example.ipynb"
   ]
  },
  {
   "cell_type": "code",
   "execution_count": 1,
   "metadata": {},
   "outputs": [],
   "source": [
    "# Import the Python API Client\n",
    "import pyeodh"
   ]
  },
  {
   "cell_type": "code",
   "execution_count": 2,
   "metadata": {},
   "outputs": [
    {
     "name": "stdout",
     "output_type": "stream",
     "text": [
      "- cmip6: CMIP6\n",
      "- cordex: CORDEX\n",
      "- ukcp: UKCP\n",
      "- airbus_sar_data: The German TerraSAR-X / TanDEM-X satellite formation and the Spanish PAZ satellite (managed by Hisdesat Servicios Estratégicos S.A.) are being operated in the same orbit tube and feature identical ground swaths and imaging modes - allowing Airbus and Hisdesat to establish a unique commercial Radar Constellation. The satellites carry a high frequency X-band Synthetic Aperture Radar (SAR) sensor in order to acquire datasets ranging from very high-resolution imagery to wide area coverage.\n",
      "- defra-airbus: A collection of Airbus data for the DEFRA use case.\n",
      "- defra-planet: A collection of Planet data for the DEFRA use case.\n",
      "- eocis-sst-cdrv3: EOCIS Sea-Surface Temperatures V3\n",
      "- sentinel2_ard: sentinel 2 ARD\n",
      "- sentinel1: Sentinel 1\n",
      "- naip: The [National Agriculture Imagery Program](https://www.fsa.usda.gov/programs-and-services/aerial-photography/imagery-programs/naip-imagery/) (NAIP) provides U.S.-wide, high-resolution aerial imagery, with four spectral bands (R, G, B, IR).  NAIP is administered by the [Aerial Field Photography Office](https://www.fsa.usda.gov/programs-and-services/aerial-photography/) (AFPO) within the [US Department of Agriculture](https://www.usda.gov/) (USDA).  Data are captured at least once every three years for each state.  This dataset represents NAIP data from 2010-present, in [cloud-optimized GeoTIFF](https://www.cogeo.org/) format.\n",
      "\n"
     ]
    }
   ],
   "source": [
    "# Connect to the Hub\n",
    "client = pyeodh.Client().get_catalog_service()\n",
    "\n",
    "# Print a list of the collections held in the Resource Catalogue (their id and description).\n",
    "# As the Resource Catalogue fills and development continues, the number of collections and the richness of their descriptions will increase\n",
    "for collect in client.get_collections():\n",
    "    print(f\"- {collect.id}: {collect.description}\")"
   ]
  },
  {
   "cell_type": "code",
   "execution_count": 5,
   "metadata": {},
   "outputs": [],
   "source": [
    "cmip6 = client.get_catalog(\"supported-datasets/ceda-stac-catalogue\").get_collection('cmip6')\n",
    "\n",
    "cmip6.extent.to_dict()\n",
    "\n",
    "item_search = client.search(\n",
    "    collections=['cmip6'],\n",
    "    query=[\n",
    "        'start_datetime<=2023-01-01',\n",
    "        'end_datetime>=2023-02-28',\n",
    "        'experiment_id=ssp585',\n",
    "    ],\n",
    "    limit=10,\n",
    ")"
   ]
  },
  {
   "cell_type": "code",
   "execution_count": 6,
   "metadata": {},
   "outputs": [
    {
     "data": {
      "text/plain": [
       "<pyeodh.pagination.PaginatedList at 0x7dd003ff1400>"
      ]
     },
     "execution_count": 6,
     "metadata": {},
     "output_type": "execute_result"
    }
   ],
   "source": [
    "item_search"
   ]
  },
  {
   "cell_type": "code",
   "execution_count": null,
   "metadata": {},
   "outputs": [],
   "source": []
  }
 ],
 "metadata": {
  "kernelspec": {
   "display_name": "eodh",
   "language": "python",
   "name": "python3"
  },
  "language_info": {
   "codemirror_mode": {
    "name": "ipython",
    "version": 3
   },
   "file_extension": ".py",
   "mimetype": "text/x-python",
   "name": "python",
   "nbconvert_exporter": "python",
   "pygments_lexer": "ipython3",
   "version": "3.12.2"
  }
 },
 "nbformat": 4,
 "nbformat_minor": 2
}
