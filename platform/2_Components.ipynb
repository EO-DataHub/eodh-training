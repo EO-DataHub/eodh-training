{
 "cells": [
  {
   "cell_type": "markdown",
   "metadata": {},
   "source": [
    "# EODH Components"
   ]
  },
  {
   "cell_type": "markdown",
   "metadata": {},
   "source": [
    "__Description & purpose__: This webpage is designed to provide an introduction to the core components of the EODH.  \n",
    "\n",
    "__Author(s)__: Alastair Graham\n",
    "\n",
    "__Date created__: 2024-12-05\n",
    "\n",
    "__Date last modified__: 2025-03-11\n",
    "\n",
    "__Licence__: This file is licensed under [Creative Commons Attribution-ShareAlike 4.0 International](https://creativecommons.org/licenses/by-sa/4.0/).  Any included code is released using the [BSD-2-Clause](https://www.tldrlegal.com/license/bsd-2-clause-license-freebsd) license.\n",
    "\n",
    "\n",
    "<span style=\"font-size:0.75em;\">\n",
    "Copyright (c) , All rights reserved.</span>\n",
    "\n",
    "<span style=\"font-size:0.75em;\">\n",
    "Redistribution and use in source and binary forms, with or without modification, are permitted provided that the following conditions are met:</span>\n",
    "\n",
    "<span style=\"font-size:0.75em;\">\n",
    "Redistributions of source code must retain the above copyright notice, this list of conditions and the following disclaimer. Redistributions in binary form must reproduce the above copyright notice, this list of conditions and the following disclaimer in the documentation and/or other materials provided with the distribution. THIS SOFTWARE IS PROVIDED BY THE COPYRIGHT HOLDERS AND CONTRIBUTORS \"AS IS\" AND ANY EXPRESS OR IMPLIED WARRANTIES, INCLUDING, BUT NOT LIMITED TO, THE IMPLIED WARRANTIES OF MERCHANTABILITY AND FITNESS FOR A PARTICULAR PURPOSE ARE DISCLAIMED. IN NO EVENT SHALL THE COPYRIGHT HOLDER OR CONTRIBUTORS BE LIABLE FOR ANY DIRECT, INDIRECT, INCIDENTAL, SPECIAL, EXEMPLARY, OR CONSEQUENTIAL DAMAGES (INCLUDING, BUT NOT LIMITED TO, PROCUREMENT OF SUBSTITUTE GOODS OR SERVICES; LOSS OF USE, DATA, OR PROFITS; OR BUSINESS INTERRUPTION) HOWEVER CAUSED AND ON ANY THEORY OF LIABILITY, WHETHER IN CONTRACT, STRICT LIABILITY, OR TORT (INCLUDING NEGLIGENCE OR OTHERWISE) ARISING IN ANY WAY OUT OF THE USE OF THIS SOFTWARE, EVEN IF ADVISED OF THE POSSIBILITY OF SUCH DAMAGE.</span>"
   ]
  },
  {
   "cell_type": "markdown",
   "metadata": {},
   "source": [
    "# Web Presence\n",
    "\n",
    "The Web Presence (WP) is likely to be the route most new users take to interact with the EODH platform. This is a UI hosted on the Hub website that allows users to interface with EODH and manage their user account. From here API keys can be generated and managed, and the AppHub and Resource Catalogue can be accessed. "
   ]
  },
  {
   "cell_type": "markdown",
   "metadata": {},
   "source": [
    "# Resource Catalogue\n",
    "\n",
    "The Resource Catalogue (RC) is a searchable store of data links and a way to access saved workflows and processed datasets. It is a collection of STAC catalogues ([click for more information regarding STAC](https://stacspec.org/en/)) that can be searched visually via the Web Presence or programatically via clients such as `pyeodh`. There are a series of fully open public resources, commercial resources that point towards an ordering service and private workspace resources. A complex resource access system manages this on the back-end.  "
   ]
  },
  {
   "cell_type": "markdown",
   "metadata": {},
   "source": [
    "# AppHub and Notebook Service\n",
    "\n",
    "The AppHub is a [JupyterHub](https://jupyter.org/hub) instance made available to users to ensure simple access to information held within the Resource Catalogue. It also allows the creation of scientific analytical workflows and associated data processing. Once logged in to the AppHub a user is able to upload notebooks and data, or create new notebooks, from where they can interact with other EODH components using tools such as `pyeodh`.\n",
    "\n",
    "## Tips\n",
    "In this section we present some tips that might be useful to users looking to use the JupyterHub in slightly more advanced ways. \n",
    "\n",
    "There are ways of creating Virtual Environments in JupyterHub and instructions for that can be found [here](https://help.jasmin.ac.uk/docs/interactive-computing/creating-a-virtual-environment-in-the-notebooks-service/). It's also possible to do the same thing using [conda](https://help.jasmin.ac.uk/docs/interactive-computing/creating-a-virtual-environment-in-the-notebooks-service/#can-i-use-conda-instead-of-a-virtual-environment). This can be particularly helpful when trying to run specific packages that need their own environment."
   ]
  },
  {
   "cell_type": "markdown",
   "metadata": {},
   "source": [
    "# Workflow Runner\n",
    "The workflow runner (WR) is a component that the majority of users will not have direct access to but which will be important to any process looking to scale up data processing to generate a data service. Advanced technical users (ideally with some dev-ops experience) will be able to create workflows that run on the WR. However, all users will be able to submit publically available workflows to their workspace and run them, either via the AppHub, `pyeodh` or QGIS."
   ]
  }
 ],
 "metadata": {
  "language_info": {
   "name": "python"
  }
 },
 "nbformat": 4,
 "nbformat_minor": 2
}
