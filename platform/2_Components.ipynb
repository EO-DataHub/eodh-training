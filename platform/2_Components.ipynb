{
 "cells": [
  {
   "cell_type": "markdown",
   "metadata": {},
   "source": [
    "Web presence\n",
    "\n",
    "Resource Catalogue\n",
    "\n",
    "AppHub and Notebooks\n",
    "\n",
    "Workflow Runner\n",
    "\n",
    "Map Viewer\n",
    "\n",
    "Links to native API endpoints"
   ]
  }
 ],
 "metadata": {
  "language_info": {
   "name": "python"
  }
 },
 "nbformat": 4,
 "nbformat_minor": 2
}
