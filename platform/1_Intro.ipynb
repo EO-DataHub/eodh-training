{
 "cells": [
  {
   "cell_type": "markdown",
   "metadata": {},
   "source": [
    "__Description & purpose__: This webpage is designed to provide an introduction to the idea behind the Hub and borrows text from the EODH test server 'About' page. It also outlines the potential user journey that different practitioners might take.  \n",
    "\n",
    "__Author(s)__: Alastair Graham, EODH\n",
    "\n",
    "__Date created__: 2024-10-23\n",
    "\n",
    "__Date last modified__: 2024-12-05\n",
    "\n",
    "__Licence__: This file is licensed under [Creative Commons Attribution-ShareAlike 4.0 International](https://creativecommons.org/licenses/by-sa/4.0/).  Any included code is released using the [BSD-2-Clause](https://www.tldrlegal.com/license/bsd-2-clause-license-freebsd) license.\n",
    "\n",
    "\n",
    "<span style=\"font-size:0.75em;\">\n",
    "Copyright (c) , All rights reserved.</span>\n",
    "\n",
    "<span style=\"font-size:0.75em;\">\n",
    "Redistribution and use in source and binary forms, with or without modification, are permitted provided that the following conditions are met:</span>\n",
    "\n",
    "<span style=\"font-size:0.75em;\">\n",
    "Redistributions of source code must retain the above copyright notice, this list of conditions and the following disclaimer. Redistributions in binary form must reproduce the above copyright notice, this list of conditions and the following disclaimer in the documentation and/or other materials provided with the distribution. THIS SOFTWARE IS PROVIDED BY THE COPYRIGHT HOLDERS AND CONTRIBUTORS \"AS IS\" AND ANY EXPRESS OR IMPLIED WARRANTIES, INCLUDING, BUT NOT LIMITED TO, THE IMPLIED WARRANTIES OF MERCHANTABILITY AND FITNESS FOR A PARTICULAR PURPOSE ARE DISCLAIMED. IN NO EVENT SHALL THE COPYRIGHT HOLDER OR CONTRIBUTORS BE LIABLE FOR ANY DIRECT, INDIRECT, INCIDENTAL, SPECIAL, EXEMPLARY, OR CONSEQUENTIAL DAMAGES (INCLUDING, BUT NOT LIMITED TO, PROCUREMENT OF SUBSTITUTE GOODS OR SERVICES; LOSS OF USE, DATA, OR PROFITS; OR BUSINESS INTERRUPTION) HOWEVER CAUSED AND ON ANY THEORY OF LIABILITY, WHETHER IN CONTRACT, STRICT LIABILITY, OR TORT (INCLUDING NEGLIGENCE OR OTHERWISE) ARISING IN ANY WAY OUT OF THE USE OF THIS SOFTWARE, EVEN IF ADVISED OF THE POSSIBILITY OF SUCH DAMAGE.</span>"
   ]
  },
  {
   "cell_type": "markdown",
   "metadata": {},
   "source": [
    "# EODH Introduction\n",
    "\n",
    "The overall goal of the Earth Observation Data Hub (EODH) project is to develop and operate a new centralised software infrastructure – the Hub – to provide a ‘single point’ of access for UK Earth Observation (EO) data obtained from distributed sources, to include public and commercial centres.  \n",
    "\n",
    "By providing this single point of access, the objective is to provide a standard common set of services and APIs upon which new EO services and tools can be developed and accessed by the UK EO data community. The project is currently in a Pathfinder phase (2023-2025) that brings new thinking and experimental developments to bear, resulting in practical services for a variety of users in a short period of time. \n",
    "\n",
    "By the end of the pathfinder phase (March 2025), it is expected that there will be a community of researchers, industry and government users working together to provide and intereact with EO data in new and innovative ways. "
   ]
  },
  {
   "cell_type": "markdown",
   "metadata": {},
   "source": [
    "# Example User Journeys\n",
    "\n",
    "The journey through the technology made accessbile by the Hub will be different depending on the needs of the user. The following diagram presents a simplified and high level route for four different user types:\n",
    "* a GIS user who spends most of their working time in QGIS\n",
    "* a web application developer, interested in hooking into the processing power of the EODH and the associated datasets\n",
    "* a data scientist, who will use code in a Jupyter notebook to process different spatial datasets\n",
    "* a dev-ops specialist, tasked with creating and maintaining data services hosted on the EODH\n",
    "\n",
    "![](../img/wf1.jpg){width=900px}"
   ]
  },
  {
   "cell_type": "markdown",
   "metadata": {},
   "source": [
    "The concepts of the AppHub and its associated notebook service, workflows, data collections and the Resource Catalogue, and account access are all covered in other sections of these training materials. "
   ]
  }
 ],
 "metadata": {
  "language_info": {
   "name": "python"
  }
 },
 "nbformat": 4,
 "nbformat_minor": 2
}
