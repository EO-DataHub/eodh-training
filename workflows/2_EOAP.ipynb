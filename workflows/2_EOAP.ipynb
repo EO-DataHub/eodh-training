{
 "cells": [
  {
   "cell_type": "markdown",
   "metadata": {},
   "source": [
    "# EOAPs"
   ]
  },
  {
   "cell_type": "markdown",
   "metadata": {},
   "source": [
    "__Description & purpose__: This Notebook introduces the concept of Earth Observation Application Packages (EOAPs). \n",
    "\n",
    "__Author(s)__: Alastair Graham\n",
    "\n",
    "__Date created__: 2024-11-08\n",
    "\n",
    "__Date last modified__: 2024-12-19\n",
    "\n",
    "__Licence__: This file is licensed under [Creative Commons Attribution-ShareAlike 4.0 International](https://creativecommons.org/licenses/by-sa/4.0/).  Any included code is released using the [BSD-2-Clause](https://www.tldrlegal.com/license/bsd-2-clause-license-freebsd) license.\n",
    "\n",
    "\n",
    "<span style=\"font-size:0.75em;\">\n",
    "Copyright (c) , All rights reserved.</span>\n",
    "\n",
    "<span style=\"font-size:0.75em;\">\n",
    "Redistribution and use in source and binary forms, with or without modification, are permitted provided that the following conditions are met:</span>\n",
    "\n",
    "<span style=\"font-size:0.75em;\">\n",
    "Redistributions of source code must retain the above copyright notice, this list of conditions and the following disclaimer. Redistributions in binary form must reproduce the above copyright notice, this list of conditions and the following disclaimer in the documentation and/or other materials provided with the distribution. THIS SOFTWARE IS PROVIDED BY THE COPYRIGHT HOLDERS AND CONTRIBUTORS \"AS IS\" AND ANY EXPRESS OR IMPLIED WARRANTIES, INCLUDING, BUT NOT LIMITED TO, THE IMPLIED WARRANTIES OF MERCHANTABILITY AND FITNESS FOR A PARTICULAR PURPOSE ARE DISCLAIMED. IN NO EVENT SHALL THE COPYRIGHT HOLDER OR CONTRIBUTORS BE LIABLE FOR ANY DIRECT, INDIRECT, INCIDENTAL, SPECIAL, EXEMPLARY, OR CONSEQUENTIAL DAMAGES (INCLUDING, BUT NOT LIMITED TO, PROCUREMENT OF SUBSTITUTE GOODS OR SERVICES; LOSS OF USE, DATA, OR PROFITS; OR BUSINESS INTERRUPTION) HOWEVER CAUSED AND ON ANY THEORY OF LIABILITY, WHETHER IN CONTRACT, STRICT LIABILITY, OR TORT (INCLUDING NEGLIGENCE OR OTHERWISE) ARISING IN ANY WAY OUT OF THE USE OF THIS SOFTWARE, EVEN IF ADVISED OF THE POSSIBILITY OF SUCH DAMAGE.</span>"
   ]
  },
  {
   "cell_type": "markdown",
   "metadata": {},
   "source": [
    "# What are Earth Observation Application Packages?\n",
    "\n",
    "EOAPs are self contained amalgamations of tools and code that allow an algorithm, or set of algorithms, to be shared between and run on different data processing platforms. The core concepts behind this are that:\n",
    "* Algorithms and processing methods are not tied to a specific platform\n",
    "* The underlying infrastructure is not important as long as a suitable workflow runner exists on that infrastructure\n",
    "* The workflows preferentially create data services\n",
    "\n",
    "The EOAP is the complete unit of code that is submitted to the workflow runner and comprises:\n",
    "* A CWL workflow file, itself made up of a descriptive component and a series of command line tools\n",
    "* A Dockerfile or Docker image\n",
    "* An optional application file that is usually required for any but the most simple workflows \n",
    "\n",
    "A functioning and stable EOAP is challenging to create even for experienced developers and generally the creation of EOAPs is limited to specialist users with some knowledge of dev-ops or with higher programming skills.\n"
   ]
  },
  {
   "cell_type": "markdown",
   "metadata": {},
   "source": [
    "# How do I create a workflow?\n",
    "\n",
    "The guidance around EOAPs is that handcrafting a package is possible but not recommended. These workflows can become very complex very quickly and it is recommended that some form of tooling is used to automate or semi-automate the generation of an EOAP. As part of the Pathfinder phase of the project, the EODH (via a 3rd party contractor, Oxidian) has created eoap-gen to help specialist technicians to create service workflows. "
   ]
  },
  {
   "cell_type": "markdown",
   "metadata": {},
   "source": [
    "# Other information\n",
    "\n",
    "Additional information on the EOAP specification and construction is available here: https://eoap.github.io/mastering-app-package/. This is a comprehensive tutorial that introduces the user to different tools (some of which are mentioned elsewhere in these training materials). Much of the tutorial uses hand-crafted code which is generally not recommended as a method of generation (see notes on the [EOAP Generator](3_eoapgen.ipynb) for further details) but in this case it does enable detailed assesment of the different components. \n",
    "\n",
    "A full set of resources are available from the official EOAP Github repository: https://github.com/eoap. \n",
    "\n",
    "Further to this, a related 'hands on' tutorial for the creation and use of an EOAp is available [here](https://github.com/Terradue/ogc-eo-application-package-hands-on)."
   ]
  },
  {
   "cell_type": "markdown",
   "metadata": {},
   "source": [
    "# Links\n",
    "\n",
    "The following bullet points direct the reader at a set of further reading around EOAPs and the standards they relate to.  \n",
    "\n",
    "* EO Application Package example: [Waterbodies](https://github.com/Terradue/ogc-eo-application-package-hands-on/tree/master/water-bodies)\n",
    "* OGC best practices: [EO Application packages](https://docs.ogc.org/bp/20-089r1.html#toc18)\n",
    "* CWL for EO tutorials: [Adding conditions](https://cwl-for-eo.github.io/guide/how-to/cwl-how-to/08-conditional-workflows/conditional-workflows/)\n",
    "* Terradue training: [hands-on](https://github.com/Terradue/ogc-eo-application-package-hands-on)  (there do seem to be some typographic errors in the scripts)\n",
    "* EO Application Packages: [overview](https://github.com/eoap), [examples](https://github.com/EOEPCA/deployment-guide/tree/main/deploy/samples/requests/processing)\n"
   ]
  }
 ],
 "metadata": {
  "language_info": {
   "name": "python"
  }
 },
 "nbformat": 4,
 "nbformat_minor": 2
}
