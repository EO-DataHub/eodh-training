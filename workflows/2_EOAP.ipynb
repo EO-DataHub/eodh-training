{
 "cells": [
  {
   "cell_type": "markdown",
   "metadata": {},
   "source": [
    "# What are Earth Observation Application Packages?\n",
    "\n",
    "EOAPs are self contained amalgamations of tools and code that allows an algorithm, or set of algorithms, to be shared between and run on different data processing platforms. The core concepts behind this are that:\n",
    "* algorithms and processing methods are not tied to a specific platform\n",
    "* the underlying infrastructure is not important as long as a suitable workflow runner exists on that infrastructure\n",
    "* the workflows preferentially create data services\n",
    "\n"
   ]
  },
  {
   "cell_type": "markdown",
   "metadata": {},
   "source": [
    "\n",
    "\n",
    "Additional information is available here: https://eoap.github.io/mastering-app-package/\n",
    "\n",
    "and a full set of resources are available from the official EOAP Github repository: https://github.com/eoap\n",
    "\n",
    "\n",
    "EOEPCA App Pkg assistant - INCLUDE???\n",
    "https://eoepca.readthedocs.io/projects/eo-app-packaging-assistant/en/latest/\n",
    "\n",
    "gdal example: https://github.com/EO-DataHub/eodhp-ades-workspace-access/blob/main/gdal-example/gdal-workflow-test.cwl\n",
    "\n",
    "\n",
    "More examples: https://github.com/EO-DataHub/eodhp-ades-demonstration/blob/main/eodhp-ades-demonstration.ipynb"
   ]
  }
 ],
 "metadata": {
  "language_info": {
   "name": "python"
  }
 },
 "nbformat": 4,
 "nbformat_minor": 2
}
