{
 "cells": [
  {
   "cell_type": "markdown",
   "metadata": {},
   "source": [
    "# What are Earth Observation Application Packages?\n",
    "\n",
    "EOAPs are self contained amalgamations of tools and code that allows an algorithm, or set of algorithms, to be shared between and run on different data processing platforms. The core concepts behind this are that:\n",
    "* algorithms and processing methods are not tied to a specific platform\n",
    "* the underlying infrastructure is not important as long as a suitable workflow runner exists on that infrastructure\n",
    "* the workflows preferentially create data services\n",
    "\n"
   ]
  },
  {
   "cell_type": "markdown",
   "metadata": {},
   "source": [
    "# Why containers?\n",
    "Containers solve the need for dependencies between software required to run specific commands. Containers are described by an image file (a template), where the container itself is an instantiation of the image.\n"
   ]
  },
  {
   "cell_type": "markdown",
   "metadata": {},
   "source": [
    "# Other information\n",
    "\n",
    "Additional information on the EOAP specification and construction is available here: https://eoap.github.io/mastering-app-package/. This is a comprehensive tutorial that introduces the user to different tools (some of which are mentioned elsewhere in these training materials). Much of the tutorial uses hand-crafted code which is generally not recommended as a method of generation (see notes on the [EOAP Generator](3_eoapgen.ipynb) for further details) but in this case it does enable detailed assesment of the different components. A full set of resources are available from the official EOAP Github repository: https://github.com/eoap. Further to this, a related 'hands on' tutorial is available [here](https://github.com/Terradue/ogc-eo-application-package-hands-on).\n",
    "\n",
    "\n",
    "gdal example: https://github.com/EO-DataHub/eodhp-ades-workspace-access/blob/main/gdal-example/gdal-workflow-test.cwl\n",
    "\n",
    "\n",
    "More examples: https://github.com/EO-DataHub/eodhp-ades-demonstration/blob/main/eodhp-ades-demonstration.ipynb"
   ]
  },
  {
   "cell_type": "markdown",
   "metadata": {},
   "source": [
    "# Links\n",
    "\n",
    "* My first CWL workflow: [explainer](https://github.com/EO-DataHub/eodh-training/blob/main/temporary/first_workflow.md)\n",
    "* EO Application Package example: [Waterbodies](https://github.com/Terradue/ogc-eo-application-package-hands-on/tree/master/water-bodies)\n",
    "* OGC best practices: [EO app pkg](https://docs.ogc.org/bp/20-089r1.html#toc18)\n",
    "* CWL for EO tutorials: [adding conditions](https://cwl-for-eo.github.io/guide/how-to/cwl-how-to/08-conditional-workflows/conditional-workflows/)\n",
    "* Terradue training: [hands-on](https://github.com/Terradue/ogc-eo-application-package-hands-on) - not sure all the scripts work as they are supposed to...\n",
    "* EO App Pkgs: [overview](https://github.com/eoap), [examples](https://github.com/EOEPCA/deployment-guide/tree/main/deploy/samples/requests/processing)\n"
   ]
  }
 ],
 "metadata": {
  "language_info": {
   "name": "python"
  }
 },
 "nbformat": 4,
 "nbformat_minor": 2
}
