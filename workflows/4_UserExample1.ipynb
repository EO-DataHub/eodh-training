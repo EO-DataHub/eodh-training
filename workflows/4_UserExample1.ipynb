{
 "cells": [
  {
   "cell_type": "markdown",
   "metadata": {},
   "source": [
    "# User Example 1: coherence"
   ]
  },
  {
   "cell_type": "markdown",
   "metadata": {},
   "source": [
    "__Description & purpose__: TODO \n",
    "\n",
    "__Author(s)__: Alastair Graham, Dusan Figala\n",
    "\n",
    "__Date created__: 2024-11-08\n",
    "\n",
    "__Date last modified__: 2024-11-08\n",
    "\n",
    "__Licence__: This file is licensed under [Creative Commons Attribution-ShareAlike 4.0 International](https://creativecommons.org/licenses/by-sa/4.0/).  Any included code is released using the [BSD-2-Clause](https://www.tldrlegal.com/license/bsd-2-clause-license-freebsd) license.\n",
    "\n",
    "\n",
    "<span style=\"font-size:0.75em;\">\n",
    "Copyright (c) , All rights reserved.</span>\n",
    "\n",
    "<span style=\"font-size:0.75em;\">\n",
    "Redistribution and use in source and binary forms, with or without modification, are permitted provided that the following conditions are met:</span>\n",
    "\n",
    "<span style=\"font-size:0.75em;\">\n",
    "Redistributions of source code must retain the above copyright notice, this list of conditions and the following disclaimer. Redistributions in binary form must reproduce the above copyright notice, this list of conditions and the following disclaimer in the documentation and/or other materials provided with the distribution. THIS SOFTWARE IS PROVIDED BY THE COPYRIGHT HOLDERS AND CONTRIBUTORS \"AS IS\" AND ANY EXPRESS OR IMPLIED WARRANTIES, INCLUDING, BUT NOT LIMITED TO, THE IMPLIED WARRANTIES OF MERCHANTABILITY AND FITNESS FOR A PARTICULAR PURPOSE ARE DISCLAIMED. IN NO EVENT SHALL THE COPYRIGHT HOLDER OR CONTRIBUTORS BE LIABLE FOR ANY DIRECT, INDIRECT, INCIDENTAL, SPECIAL, EXEMPLARY, OR CONSEQUENTIAL DAMAGES (INCLUDING, BUT NOT LIMITED TO, PROCUREMENT OF SUBSTITUTE GOODS OR SERVICES; LOSS OF USE, DATA, OR PROFITS; OR BUSINESS INTERRUPTION) HOWEVER CAUSED AND ON ANY THEORY OF LIABILITY, WHETHER IN CONTRACT, STRICT LIABILITY, OR TORT (INCLUDING NEGLIGENCE OR OTHERWISE) ARISING IN ANY WAY OUT OF THE USE OF THIS SOFTWARE, EVEN IF ADVISED OF THE POSSIBILITY OF SUCH DAMAGE.</span>"
   ]
  },
  {
   "cell_type": "markdown",
   "metadata": {},
   "source": [
    "# Background"
   ]
  },
  {
   "cell_type": "markdown",
   "metadata": {
    "vscode": {
     "languageId": "plaintext"
    }
   },
   "source": [
    "A requirement to process coherence from Sentinel 1 data was articulated.  \n",
    "\n",
    "Needs SLC data: \"The Sentinel 1 Level 1 SLC products are images in the slant range by azimuth imaging plane, in the image plane of satellite data acquisition. Each image pixel is represented by a complex (I and Q) magnitude value and therefore contains both amplitude and phase information. Each I and Q value is 16 bits per pixel. The processing for all SLC products results in a single look in each dimension using the full available signal bandwidth. The imagery is geo-referenced using orbit and attitude data from the satellite.\"[ref](https://documentation.dataspace.copernicus.eu/Data/SentinelMissions/Sentinel1.html)\n",
    "\n",
    "\n",
    "Information on Sentinel 1 and the different products that are available at source can be found on the Copernicus Data Space Ecosystem (CDSE) [website](https://dataspace.copernicus.eu/explore-data/data-collections/sentinel-data/sentinel-1) and [here](https://documentation.dataspace.copernicus.eu/Data/SentinelMissions/Sentinel1.html)\n",
    "\n",
    "\"Coherence is the amplitude of the complex correlation coefficient between two images. In simple way, coherence describes similarity between two images in a range between zero to one. Zero means pixels were totally different where one means pixels were same exactly.\" [ref](https://cmr.earthdata.nasa.gov/search/concepts/C2207478496-FEDEO.html)\n",
    "\n",
    "Method to create coherence using the [Sentinel 1 toolbox](https://earthdata.nasa.gov/learn/data-recipes/create-interferogram-using-esas-sentinel-1-toolbox#:~:text=For%20interferometric%20processing%2C%20two%20or,image%20to%20sub%2Dpixel%20accuracy.)\n",
    "\n",
    "More information about [Sentinel Toolbox](https://senbox.atlassian.net/wiki/spaces/SNAP/pages/24051769/Cookbook)\n",
    "\n",
    "\n",
    "[eo-tools](https://eo-tools.readthedocs.io/en/latest/) calls [pygmtsar](https://github.com/AlexeyPechnikov/pygmtsar)??\n"
   ]
  },
  {
   "cell_type": "markdown",
   "metadata": {},
   "source": [
    "# The process\n"
   ]
  },
  {
   "cell_type": "markdown",
   "metadata": {},
   "source": [
    "some of the packages and confgurations that are required\n",
    "e.g. yaml file and account on copernicus"
   ]
  },
  {
   "cell_type": "code",
   "execution_count": 1,
   "metadata": {},
   "outputs": [],
   "source": [
    "import logging\n",
    "\n",
    "logging.basicConfig(level=logging.INFO)\n",
    "import json\n",
    "from itertools import combinations\n",
    "\n",
    "import eo_tools as eo\n",
    "import geopandas as gpd\n",
    "import matplotlib.pyplot as plt\n",
    "import rioxarray as riox\n",
    "import shapely\n",
    "from eo_tools.S1.process import process_insar\n",
    "from eodag import EODataAccessGateway\n",
    "from shapely.geometry import shape\n",
    "\n",
    "import pyeodh"
   ]
  },
  {
   "cell_type": "markdown",
   "metadata": {},
   "source": [
    "Set the following for your system"
   ]
  },
  {
   "cell_type": "code",
   "execution_count": 7,
   "metadata": {},
   "outputs": [],
   "source": [
    "# Set download dirs\n",
    "data_dir = \"/home/al/Downloads/eotools\""
   ]
  },
  {
   "cell_type": "code",
   "execution_count": 2,
   "metadata": {},
   "outputs": [],
   "source": [
    "# location\n",
    "bbox = {\n",
    "    \"lonmin\": 0.08905898091569497,\n",
    "    \"latmin\": 52.15527412683906,\n",
    "    \"lonmax\": 0.9565339502005088,\n",
    "    \"latmax\": 52.69722175598818,\n",
    "}\n",
    "shp = shapely.box(bbox[\"lonmin\"], bbox[\"latmin\"], bbox[\"lonmax\"], bbox[\"latmax\"])"
   ]
  },
  {
   "cell_type": "markdown",
   "metadata": {},
   "source": [
    "## Scientific method\n",
    "\n",
    "We start with searching the data on Copernicus Data Space Ecosystem.\n",
    "\n",
    "Need to create an access point to do the search."
   ]
  },
  {
   "cell_type": "code",
   "execution_count": 3,
   "metadata": {},
   "outputs": [
    {
     "name": "stderr",
     "output_type": "stream",
     "text": [
      "INFO:eodag.config:Loading user configuration from: /home/al/.config/eodag/eodag.yml\n",
      "INFO:eodag.core:usgs: provider needing auth for search has been pruned because no crendentials could be found\n",
      "INFO:eodag.core:aws_eos: provider needing auth for search has been pruned because no crendentials could be found\n",
      "INFO:eodag.core:meteoblue: provider needing auth for search has been pruned because no crendentials could be found\n",
      "INFO:eodag.core:hydroweb_next: provider needing auth for search has been pruned because no crendentials could be found\n",
      "INFO:eodag.core:wekeo: provider needing auth for search has been pruned because no crendentials could be found\n",
      "INFO:eodag.core:creodias_s3: provider needing auth for search has been pruned because no crendentials could be found\n",
      "INFO:eodag.core:Locations configuration loaded from /home/al/.config/eodag/locations.yml\n"
     ]
    }
   ],
   "source": [
    "dag = EODataAccessGateway()\n",
    "# make sure cop_dataspace will be used\n",
    "dag.set_preferred_provider(\"cop_dataspace\")\n",
    "logging.basicConfig(level=logging.INFO)"
   ]
  },
  {
   "cell_type": "code",
   "execution_count": 4,
   "metadata": {},
   "outputs": [
    {
     "name": "stderr",
     "output_type": "stream",
     "text": [
      "INFO:eodag.core:Searching product type 'S1_SAR_SLC' on provider: cop_dataspace\n",
      "INFO:eodag.search.qssearch:Sending search request: http://catalogue.dataspace.copernicus.eu/resto/api/collections/Sentinel1/search.json?startDate=2023-09-03&completionDate=2023-09-17&geometry=POLYGON ((0.0891 52.1553, 0.0891 52.6972, 0.9565 52.6972, 0.9565 52.1553, 0.0891 52.1553))&productType=SLC&maxRecords=20&page=1&exactCount=1\n",
      "INFO:eodag.core:Found 7 result(s) on provider 'cop_dataspace'\n"
     ]
    }
   ],
   "source": [
    "# Run search using the bbox set earlier\n",
    "\n",
    "search_criteria = {\n",
    "    \"productType\": \"S1_SAR_SLC\",\n",
    "    \"start\": \"2023-09-03\",\n",
    "    \"end\": \"2023-09-17\",\n",
    "    \"geom\": bbox,\n",
    "}\n",
    "\n",
    "results, _ = dag.search(**search_criteria)"
   ]
  },
  {
   "cell_type": "code",
   "execution_count": 10,
   "metadata": {},
   "outputs": [],
   "source": [
    "# You can supply a file\n",
    "# AOI around Thetford\n",
    "file_aoi = f\"data/thetfordaoi.geojson\"\n",
    "shp2 = gpd.read_file(file_aoi).geometry[0]"
   ]
  },
  {
   "cell_type": "markdown",
   "metadata": {},
   "source": [
    "Can also use pyeodh to search the hub"
   ]
  },
  {
   "cell_type": "code",
   "execution_count": null,
   "metadata": {},
   "outputs": [],
   "source": [
    "# add in pyeodh search"
   ]
  },
  {
   "cell_type": "code",
   "execution_count": 9,
   "metadata": {},
   "outputs": [
    {
     "data": {
      "text/html": [
       "<div style=\"width:100%;\"><div style=\"position:relative;width:100%;height:0;padding-bottom:60%;\"><span style=\"color:#565656\">Make this Notebook Trusted to load map: File -> Trust Notebook</span><iframe srcdoc=\"&lt;!DOCTYPE html&gt;\n",
       "&lt;html&gt;\n",
       "&lt;head&gt;\n",
       "    \n",
       "    &lt;meta http-equiv=&quot;content-type&quot; content=&quot;text/html; charset=UTF-8&quot; /&gt;\n",
       "    \n",
       "        &lt;script&gt;\n",
       "            L_NO_TOUCH = false;\n",
       "            L_DISABLE_3D = false;\n",
       "        &lt;/script&gt;\n",
       "    \n",
       "    &lt;style&gt;html, body {width: 100%;height: 100%;margin: 0;padding: 0;}&lt;/style&gt;\n",
       "    &lt;style&gt;#map {position:absolute;top:0;bottom:0;right:0;left:0;}&lt;/style&gt;\n",
       "    &lt;script src=&quot;https://cdn.jsdelivr.net/npm/leaflet@1.9.3/dist/leaflet.js&quot;&gt;&lt;/script&gt;\n",
       "    &lt;script src=&quot;https://code.jquery.com/jquery-3.7.1.min.js&quot;&gt;&lt;/script&gt;\n",
       "    &lt;script src=&quot;https://cdn.jsdelivr.net/npm/bootstrap@5.2.2/dist/js/bootstrap.bundle.min.js&quot;&gt;&lt;/script&gt;\n",
       "    &lt;script src=&quot;https://cdnjs.cloudflare.com/ajax/libs/Leaflet.awesome-markers/2.0.2/leaflet.awesome-markers.js&quot;&gt;&lt;/script&gt;\n",
       "    &lt;link rel=&quot;stylesheet&quot; href=&quot;https://cdn.jsdelivr.net/npm/leaflet@1.9.3/dist/leaflet.css&quot;/&gt;\n",
       "    &lt;link rel=&quot;stylesheet&quot; href=&quot;https://cdn.jsdelivr.net/npm/bootstrap@5.2.2/dist/css/bootstrap.min.css&quot;/&gt;\n",
       "    &lt;link rel=&quot;stylesheet&quot; href=&quot;https://netdna.bootstrapcdn.com/bootstrap/3.0.0/css/bootstrap-glyphicons.css&quot;/&gt;\n",
       "    &lt;link rel=&quot;stylesheet&quot; href=&quot;https://cdn.jsdelivr.net/npm/@fortawesome/fontawesome-free@6.2.0/css/all.min.css&quot;/&gt;\n",
       "    &lt;link rel=&quot;stylesheet&quot; href=&quot;https://cdnjs.cloudflare.com/ajax/libs/Leaflet.awesome-markers/2.0.2/leaflet.awesome-markers.css&quot;/&gt;\n",
       "    &lt;link rel=&quot;stylesheet&quot; href=&quot;https://cdn.jsdelivr.net/gh/python-visualization/folium/folium/templates/leaflet.awesome.rotate.min.css&quot;/&gt;\n",
       "    \n",
       "            &lt;meta name=&quot;viewport&quot; content=&quot;width=device-width,\n",
       "                initial-scale=1.0, maximum-scale=1.0, user-scalable=no&quot; /&gt;\n",
       "            &lt;style&gt;\n",
       "                #map_28d41cdebf39a4ddabe0c27baa61ad8c {\n",
       "                    position: relative;\n",
       "                    width: 100.0%;\n",
       "                    height: 100.0%;\n",
       "                    left: 0.0%;\n",
       "                    top: 0.0%;\n",
       "                }\n",
       "                .leaflet-container { font-size: 1rem; }\n",
       "            &lt;/style&gt;\n",
       "        \n",
       "&lt;/head&gt;\n",
       "&lt;body&gt;\n",
       "    \n",
       "    \n",
       "            &lt;div class=&quot;folium-map&quot; id=&quot;map_28d41cdebf39a4ddabe0c27baa61ad8c&quot; &gt;&lt;/div&gt;\n",
       "        \n",
       "&lt;/body&gt;\n",
       "&lt;script&gt;\n",
       "    \n",
       "    \n",
       "            var map_28d41cdebf39a4ddabe0c27baa61ad8c = L.map(\n",
       "                &quot;map_28d41cdebf39a4ddabe0c27baa61ad8c&quot;,\n",
       "                {\n",
       "                    center: [0.0, 0.0],\n",
       "                    crs: L.CRS.EPSG3857,\n",
       "                    zoom: 1,\n",
       "                    zoomControl: true,\n",
       "                    preferCanvas: false,\n",
       "                }\n",
       "            );\n",
       "\n",
       "            \n",
       "\n",
       "        \n",
       "    \n",
       "            var tile_layer_e6e685d9219ab199bf04bb7e4f87e6f4 = L.tileLayer(\n",
       "                &quot;https://tile.openstreetmap.org/{z}/{x}/{y}.png&quot;,\n",
       "                {&quot;attribution&quot;: &quot;\\u0026copy; \\u003ca href=\\&quot;https://www.openstreetmap.org/copyright\\&quot;\\u003eOpenStreetMap\\u003c/a\\u003e contributors&quot;, &quot;detectRetina&quot;: false, &quot;maxNativeZoom&quot;: 19, &quot;maxZoom&quot;: 19, &quot;minZoom&quot;: 0, &quot;noWrap&quot;: false, &quot;opacity&quot;: 1, &quot;subdomains&quot;: &quot;abc&quot;, &quot;tms&quot;: false}\n",
       "            );\n",
       "        \n",
       "    \n",
       "            tile_layer_e6e685d9219ab199bf04bb7e4f87e6f4.addTo(map_28d41cdebf39a4ddabe0c27baa61ad8c);\n",
       "        \n",
       "    \n",
       "        function geo_json_519d02aa34362e265cf29f326d2f2856_styler(feature) {\n",
       "            switch(feature.id) {\n",
       "                default:\n",
       "                    return {&quot;color&quot;: &quot;black&quot;, &quot;fillColor&quot;: &quot;none&quot;};\n",
       "            }\n",
       "        }\n",
       "\n",
       "        function geo_json_519d02aa34362e265cf29f326d2f2856_onEachFeature(feature, layer) {\n",
       "            layer.on({\n",
       "            });\n",
       "        };\n",
       "        var geo_json_519d02aa34362e265cf29f326d2f2856 = L.geoJson(null, {\n",
       "                onEachFeature: geo_json_519d02aa34362e265cf29f326d2f2856_onEachFeature,\n",
       "            \n",
       "                style: geo_json_519d02aa34362e265cf29f326d2f2856_styler,\n",
       "        });\n",
       "\n",
       "        function geo_json_519d02aa34362e265cf29f326d2f2856_add (data) {\n",
       "            geo_json_519d02aa34362e265cf29f326d2f2856\n",
       "                .addData(data);\n",
       "        }\n",
       "            geo_json_519d02aa34362e265cf29f326d2f2856_add({&quot;features&quot;: [{&quot;geometry&quot;: {&quot;coordinates&quot;: [[[0.108530558052996, 52.548527343311214], [0.685652665706907, 52.55804798614935], [0.677823489827881, 52.45388885682422], [0.105734423810487, 52.44639077957711], [0.108530558052996, 52.548527343311214]]], &quot;type&quot;: &quot;Polygon&quot;}, &quot;id&quot;: &quot;0&quot;, &quot;type&quot;: &quot;Feature&quot;}], &quot;type&quot;: &quot;FeatureCollection&quot;});\n",
       "\n",
       "        \n",
       "    \n",
       "            geo_json_519d02aa34362e265cf29f326d2f2856.bindTooltip(\n",
       "                `&lt;div&gt;\n",
       "                     Area of Interest\n",
       "                 &lt;/div&gt;`,\n",
       "                {&quot;sticky&quot;: true}\n",
       "            );\n",
       "        \n",
       "    \n",
       "            geo_json_519d02aa34362e265cf29f326d2f2856.addTo(map_28d41cdebf39a4ddabe0c27baa61ad8c);\n",
       "        \n",
       "    \n",
       "\n",
       "        function geo_json_35049480a519c9ae3b4df6e5600be5d8_onEachFeature(feature, layer) {\n",
       "            layer.on({\n",
       "            });\n",
       "        };\n",
       "        var geo_json_35049480a519c9ae3b4df6e5600be5d8 = L.geoJson(null, {\n",
       "                onEachFeature: geo_json_35049480a519c9ae3b4df6e5600be5d8_onEachFeature,\n",
       "            \n",
       "        });\n",
       "\n",
       "        function geo_json_35049480a519c9ae3b4df6e5600be5d8_add (data) {\n",
       "            geo_json_35049480a519c9ae3b4df6e5600be5d8\n",
       "                .addData(data);\n",
       "        }\n",
       "            geo_json_35049480a519c9ae3b4df6e5600be5d8_add({&quot;coordinates&quot;: [[[3.475866, 51.159492], [4.017843, 52.777412], [0.185597, 53.187542], [0.0, 52.44009389844227], [-0.216913, 51.566528], [0.0, 51.54261879777913], [3.475866, 51.159492]]], &quot;type&quot;: &quot;Polygon&quot;});\n",
       "        geo_json_35049480a519c9ae3b4df6e5600be5d8.setStyle(function(feature) {return feature.properties.style;});\n",
       "\n",
       "        \n",
       "    \n",
       "            geo_json_35049480a519c9ae3b4df6e5600be5d8.bindTooltip(\n",
       "                `&lt;div&gt;\n",
       "                     &lt;b&gt;Configuration:&lt;/b&gt;&lt;br&gt;DESCENDING, Orbit: 8&lt;br&gt;&lt;b&gt;Product list (index / date):&lt;/b&gt;&lt;br&gt;4 / 2023-09-13 06:06:59\n",
       "                 &lt;/div&gt;`,\n",
       "                {&quot;sticky&quot;: true}\n",
       "            );\n",
       "        \n",
       "    \n",
       "            geo_json_35049480a519c9ae3b4df6e5600be5d8.addTo(map_28d41cdebf39a4ddabe0c27baa61ad8c);\n",
       "        \n",
       "    \n",
       "\n",
       "        function geo_json_eb076054ac9e91ef8148d09704bb27e8_onEachFeature(feature, layer) {\n",
       "            layer.on({\n",
       "            });\n",
       "        };\n",
       "        var geo_json_eb076054ac9e91ef8148d09704bb27e8 = L.geoJson(null, {\n",
       "                onEachFeature: geo_json_eb076054ac9e91ef8148d09704bb27e8_onEachFeature,\n",
       "            \n",
       "        });\n",
       "\n",
       "        function geo_json_eb076054ac9e91ef8148d09704bb27e8_add (data) {\n",
       "            geo_json_eb076054ac9e91ef8148d09704bb27e8\n",
       "                .addData(data);\n",
       "        }\n",
       "            geo_json_eb076054ac9e91ef8148d09704bb27e8_add({&quot;coordinates&quot;: [[[3.404867, 52.338833], [0.0, 51.96867375512488], [-0.31966, 51.933922], [-0.87165, 53.543831], [-0.8693628407905536, 53.54407244446059], [-0.869386, 53.54414], [-0.0, 53.63589557674331], [1.9816227301074734, 53.84503735782636], [2.996698, 53.952194], [2.99670414135705, 53.95216972518748], [2.998886, 53.9524], [3.406874, 52.339394], [3.4047825796451026, 52.33916668655679], [3.404867, 52.338833]]], &quot;type&quot;: &quot;Polygon&quot;});\n",
       "        geo_json_eb076054ac9e91ef8148d09704bb27e8.setStyle(function(feature) {return feature.properties.style;});\n",
       "\n",
       "        \n",
       "    \n",
       "            geo_json_eb076054ac9e91ef8148d09704bb27e8.bindTooltip(\n",
       "                `&lt;div&gt;\n",
       "                     &lt;b&gt;Configuration:&lt;/b&gt;&lt;br&gt;ASCENDING, Orbit: 59&lt;br&gt;&lt;b&gt;Product list (index / date):&lt;/b&gt;&lt;br&gt;0 / 2023-09-04 17:42:09&lt;br&gt;6 / 2023-09-16 17:42:09\n",
       "                 &lt;/div&gt;`,\n",
       "                {&quot;sticky&quot;: true}\n",
       "            );\n",
       "        \n",
       "    \n",
       "            geo_json_eb076054ac9e91ef8148d09704bb27e8.addTo(map_28d41cdebf39a4ddabe0c27baa61ad8c);\n",
       "        \n",
       "    \n",
       "\n",
       "        function geo_json_8334dd931d08418240ab98869ef0c522_onEachFeature(feature, layer) {\n",
       "            layer.on({\n",
       "            });\n",
       "        };\n",
       "        var geo_json_8334dd931d08418240ab98869ef0c522 = L.geoJson(null, {\n",
       "                onEachFeature: geo_json_8334dd931d08418240ab98869ef0c522_onEachFeature,\n",
       "            \n",
       "        });\n",
       "\n",
       "        function geo_json_8334dd931d08418240ab98869ef0c522_add (data) {\n",
       "            geo_json_8334dd931d08418240ab98869ef0c522\n",
       "                .addData(data);\n",
       "        }\n",
       "            geo_json_8334dd931d08418240ab98869ef0c522_add({&quot;coordinates&quot;: [[[3.768378, 50.853363], [0.16506, 50.450912], [0.0, 50.95493233840877], [-0.362645, 52.06229], [-0.36044207268318657, 52.062528930495695], [-0.36054, 52.062828], [-0.0, 52.10192341512558], [3.374908, 52.467884], [3.770281, 50.854034], [3.7682686396849103, 50.85380929650556], [3.768378, 50.853363]]], &quot;type&quot;: &quot;Polygon&quot;});\n",
       "        geo_json_8334dd931d08418240ab98869ef0c522.setStyle(function(feature) {return feature.properties.style;});\n",
       "\n",
       "        \n",
       "    \n",
       "            geo_json_8334dd931d08418240ab98869ef0c522.bindTooltip(\n",
       "                `&lt;div&gt;\n",
       "                     &lt;b&gt;Configuration:&lt;/b&gt;&lt;br&gt;ASCENDING, Orbit: 59&lt;br&gt;&lt;b&gt;Product list (index / date):&lt;/b&gt;&lt;br&gt;1 / 2023-09-04 17:41:44&lt;br&gt;5 / 2023-09-16 17:41:45\n",
       "                 &lt;/div&gt;`,\n",
       "                {&quot;sticky&quot;: true}\n",
       "            );\n",
       "        \n",
       "    \n",
       "            geo_json_8334dd931d08418240ab98869ef0c522.addTo(map_28d41cdebf39a4ddabe0c27baa61ad8c);\n",
       "        \n",
       "    \n",
       "\n",
       "        function geo_json_de887279637dfe5cb9b11358db722f50_onEachFeature(feature, layer) {\n",
       "            layer.on({\n",
       "            });\n",
       "        };\n",
       "        var geo_json_de887279637dfe5cb9b11358db722f50 = L.geoJson(null, {\n",
       "                onEachFeature: geo_json_de887279637dfe5cb9b11358db722f50_onEachFeature,\n",
       "            \n",
       "        });\n",
       "\n",
       "        function geo_json_de887279637dfe5cb9b11358db722f50_add (data) {\n",
       "            geo_json_de887279637dfe5cb9b11358db722f50\n",
       "                .addData(data);\n",
       "        }\n",
       "            geo_json_de887279637dfe5cb9b11358db722f50_add({&quot;coordinates&quot;: [[[1.456613, 51.28133], [2.000225, 52.898014], [0.0, 53.11161240558363], [-1.842043, 53.308319], [-2.245346, 51.688484], [0.0, 51.44153323547668], [1.456613, 51.28133]]], &quot;type&quot;: &quot;Polygon&quot;});\n",
       "        geo_json_de887279637dfe5cb9b11358db722f50.setStyle(function(feature) {return feature.properties.style;});\n",
       "\n",
       "        \n",
       "    \n",
       "            geo_json_de887279637dfe5cb9b11358db722f50.bindTooltip(\n",
       "                `&lt;div&gt;\n",
       "                     &lt;b&gt;Configuration:&lt;/b&gt;&lt;br&gt;DESCENDING, Orbit: 81&lt;br&gt;&lt;b&gt;Product list (index / date):&lt;/b&gt;&lt;br&gt;2 / 2023-09-06 06:15:10\n",
       "                 &lt;/div&gt;`,\n",
       "                {&quot;sticky&quot;: true}\n",
       "            );\n",
       "        \n",
       "    \n",
       "            geo_json_de887279637dfe5cb9b11358db722f50.addTo(map_28d41cdebf39a4ddabe0c27baa61ad8c);\n",
       "        \n",
       "    \n",
       "\n",
       "        function geo_json_7c08bbabf560cdb9b8935674ed58a476_onEachFeature(feature, layer) {\n",
       "            layer.on({\n",
       "            });\n",
       "        };\n",
       "        var geo_json_7c08bbabf560cdb9b8935674ed58a476 = L.geoJson(null, {\n",
       "                onEachFeature: geo_json_7c08bbabf560cdb9b8935674ed58a476_onEachFeature,\n",
       "            \n",
       "        });\n",
       "\n",
       "        function geo_json_7c08bbabf560cdb9b8935674ed58a476_add (data) {\n",
       "            geo_json_7c08bbabf560cdb9b8935674ed58a476\n",
       "                .addData(data);\n",
       "        }\n",
       "            geo_json_7c08bbabf560cdb9b8935674ed58a476_add({&quot;coordinates&quot;: [[[-2.161909, 51.320732], [0.0, 51.55829738530797], [1.500185, 51.723148], [1.097608, 53.336254], [-0.0, 53.21913496812211], [-2.702863, 52.930729], [-2.161909, 51.320732]]], &quot;type&quot;: &quot;Polygon&quot;});\n",
       "        geo_json_7c08bbabf560cdb9b8935674ed58a476.setStyle(function(feature) {return feature.properties.style;});\n",
       "\n",
       "        \n",
       "    \n",
       "            geo_json_7c08bbabf560cdb9b8935674ed58a476.bindTooltip(\n",
       "                `&lt;div&gt;\n",
       "                     &lt;b&gt;Configuration:&lt;/b&gt;&lt;br&gt;ASCENDING, Orbit: 132&lt;br&gt;&lt;b&gt;Product list (index / date):&lt;/b&gt;&lt;br&gt;3 / 2023-09-09 17:50:13\n",
       "                 &lt;/div&gt;`,\n",
       "                {&quot;sticky&quot;: true}\n",
       "            );\n",
       "        \n",
       "    \n",
       "            geo_json_7c08bbabf560cdb9b8935674ed58a476.addTo(map_28d41cdebf39a4ddabe0c27baa61ad8c);\n",
       "        \n",
       "    \n",
       "            var layer_control_e7bfe5eec0bacc1053084a9fa08fa294_layers = {\n",
       "                base_layers : {\n",
       "                    &quot;openstreetmap&quot; : tile_layer_e6e685d9219ab199bf04bb7e4f87e6f4,\n",
       "                },\n",
       "                overlays :  {\n",
       "                    &quot;Area of Interest&quot; : geo_json_519d02aa34362e265cf29f326d2f2856,\n",
       "                    &quot;Orbit 8, group 1&quot; : geo_json_35049480a519c9ae3b4df6e5600be5d8,\n",
       "                    &quot;Orbit 59, group 1&quot; : geo_json_eb076054ac9e91ef8148d09704bb27e8,\n",
       "                    &quot;Orbit 59, group 2&quot; : geo_json_8334dd931d08418240ab98869ef0c522,\n",
       "                    &quot;Orbit 81, group 1&quot; : geo_json_de887279637dfe5cb9b11358db722f50,\n",
       "                    &quot;Orbit 132, group 1&quot; : geo_json_7c08bbabf560cdb9b8935674ed58a476,\n",
       "                },\n",
       "            };\n",
       "            let layer_control_e7bfe5eec0bacc1053084a9fa08fa294 = L.control.layers(\n",
       "                layer_control_e7bfe5eec0bacc1053084a9fa08fa294_layers.base_layers,\n",
       "                layer_control_e7bfe5eec0bacc1053084a9fa08fa294_layers.overlays,\n",
       "                {&quot;autoZIndex&quot;: true, &quot;collapsed&quot;: true, &quot;position&quot;: &quot;topright&quot;}\n",
       "            ).addTo(map_28d41cdebf39a4ddabe0c27baa61ad8c);\n",
       "\n",
       "        \n",
       "    \n",
       "            map_28d41cdebf39a4ddabe0c27baa61ad8c.fitBounds(\n",
       "                [[50.450912, -2.702863], [53.9524, 4.017843]],\n",
       "                {}\n",
       "            );\n",
       "        \n",
       "&lt;/script&gt;\n",
       "&lt;/html&gt;\" style=\"position:absolute;width:100%;height:100%;left:0;top:0;border:none !important;\" allowfullscreen webkitallowfullscreen mozallowfullscreen></iframe></div></div>"
      ],
      "text/plain": [
       "<folium.folium.Map at 0x72375842c9e0>"
      ]
     },
     "execution_count": 9,
     "metadata": {},
     "output_type": "execute_result"
    }
   ],
   "source": [
    "eo.util.explore_products(results, shp2)"
   ]
  },
  {
   "cell_type": "markdown",
   "metadata": {},
   "source": [
    "We are only interested in image pairs. The S1 SLC file name doesn't make it clear which these are so the following code finds image footprints with 98% overlap"
   ]
  },
  {
   "cell_type": "code",
   "execution_count": 4,
   "metadata": {},
   "outputs": [
    {
     "data": {
      "text/plain": [
       "[('S1A_IW_SLC__1SDV_20230904T174209_20230904T174236_050181_060A2D_E88F',\n",
       "  'S1A_IW_SLC__1SDV_20230916T174209_20230916T174236_050356_061016_8033'),\n",
       " ('S1A_IW_SLC__1SDV_20230904T174144_20230904T174211_050181_060A2D_46E8',\n",
       "  'S1A_IW_SLC__1SDV_20230916T174145_20230916T174212_050356_061016_9D13')]"
      ]
     },
     "execution_count": 4,
     "metadata": {},
     "output_type": "execute_result"
    }
   ],
   "source": [
    "# Find overlaps\n",
    "data = []\n",
    "for item in results:\n",
    "    id = item.properties[\"id\"]\n",
    "    geom = shape(item.geometry)\n",
    "    data.append({\"id\": id, \"geometry\": geom})\n",
    "\n",
    "gdf = gpd.GeoDataFrame(data, crs=\"EPSG:4326\")  # Assuming WGS84\n",
    "\n",
    "# 98% overlap\n",
    "threshold = 0.98\n",
    "\n",
    "overlaps = []\n",
    "for (idx1, row1), (idx2, row2) in combinations(gdf.iterrows(), 2):\n",
    "    intersection = row1[\"geometry\"].intersection(row2[\"geometry\"])\n",
    "    if not intersection.is_empty:\n",
    "        # Calculate overlap ratio as the area of intersection divided by the area of the smaller polygon\n",
    "        overlap_ratio = intersection.area / min(\n",
    "            row1[\"geometry\"].area, row2[\"geometry\"].area\n",
    "        )\n",
    "        if overlap_ratio >= threshold:\n",
    "            overlaps.append((row1[\"id\"], row2[\"id\"], overlap_ratio))\n",
    "\n",
    "overlap_ids = [entry[:-1] for entry in overlaps]\n",
    "overlap_ids"
   ]
  },
  {
   "cell_type": "markdown",
   "metadata": {},
   "source": [
    "The data files are large (8GB). Use a tool such as wget to download the S1 image pair that you want  "
   ]
  },
  {
   "cell_type": "code",
   "execution_count": null,
   "metadata": {},
   "outputs": [],
   "source": [
    "# Set download dirs\n",
    "ids = [\n",
    "    \"S1A_IW_SLC__1SDV_20241016T174206_20241016T174233_056131_06DE72_1B0C\",\n",
    "    \"S1A_IW_SLC__1SDV_20241028T174206_20241028T174233_056306_06E564_F046\"\n",
    "]\n",
    "    #\"S1A_IW_SLC__1SDV_20230904T174209_20230904T174236_050181_060A2D_E88F\",\n",
    "    #\"S1A_IW_SLC__1SDV_20230916T174209_20230916T174236_050356_061016_8033\",\n",
    "#]\n",
    "\n",
    "primary_dir = f\"{data_dir}/{ids[0]}.zip\"\n",
    "secondary_dir = f\"{data_dir}/{ids[1]}.zip\"\n",
    "outputs_prefix = f\"{data_dir}/res/test-full-processor\""
   ]
  },
  {
   "cell_type": "code",
   "execution_count": null,
   "metadata": {},
   "outputs": [],
   "source": [
    "out_dir = process_insar(\n",
    "    dir_prm=primary_dir,\n",
    "    dir_sec=secondary_dir,\n",
    "    outputs_prefix=outputs_prefix,\n",
    "    aoi_name=None,\n",
    "    shp=shp2,\n",
    "    pol=\"vv\",\n",
    "    subswaths=[\"IW1\", \"IW2\", \"IW3\"],\n",
    "    write_coherence=True,\n",
    "    write_interferogram=True,\n",
    "    write_primary_amplitude=False,\n",
    "    write_secondary_amplitude=False,\n",
    "    apply_fast_esd=True,\n",
    "    dem_upsampling=1.8,\n",
    "    dem_force_download=False,\n",
    "    dem_buffer_arc_sec=40,\n",
    "    boxcar_coherence=[3, 3],\n",
    "    filter_ifg=True,\n",
    "    multilook=[1, 4],\n",
    "    warp_kernel=\"bicubic\",\n",
    "    clip_to_shape=True,\n",
    ")"
   ]
  },
  {
   "cell_type": "markdown",
   "metadata": {},
   "source": [
    "![AOI](../img/co/co1.png){width=1000px}\n",
    "\n",
    "![Coherence](../img/co/co2.png){width=1000px}\n",
    "\n",
    "![Close up of coherence](../img/co/co3.png){width=900px}\n"
   ]
  },
  {
   "cell_type": "markdown",
   "metadata": {},
   "source": [
    "# Generating the workflow"
   ]
  },
  {
   "cell_type": "code",
   "execution_count": null,
   "metadata": {},
   "outputs": [],
   "source": []
  },
  {
   "cell_type": "markdown",
   "metadata": {},
   "source": [
    "# Commercial data and processing services\n",
    "\n",
    "Airbus ONEATLAS DEVELOPER PORTAL https://www.geoapi-airbusds.com/index.html\n",
    "\n",
    "* High Resolution SAR data: https://intelligence.airbus.com/imagery/our-optical-and-radar-satellite-imagery/radar-constellation/\n",
    "* Interferometry case studies: https://intelligence.airbus.com/search/?q=interferometry"
   ]
  }
 ],
 "metadata": {
  "kernelspec": {
   "display_name": "workflows",
   "language": "python",
   "name": "python3"
  },
  "language_info": {
   "codemirror_mode": {
    "name": "ipython",
    "version": 3
   },
   "file_extension": ".py",
   "mimetype": "text/x-python",
   "name": "python",
   "nbconvert_exporter": "python",
   "pygments_lexer": "ipython3",
   "version": "3.12.7"
  }
 },
 "nbformat": 4,
 "nbformat_minor": 2
}
