{
 "cells": [
  {
   "cell_type": "markdown",
   "metadata": {},
   "source": [
    "# User Example 1: coherence"
   ]
  },
  {
   "cell_type": "markdown",
   "metadata": {},
   "source": [
    "__Description & purpose__: TODO \n",
    "\n",
    "__Author(s)__: Alastair Graham, Dusan Figala\n",
    "\n",
    "__Date created__: 2024-11-08\n",
    "\n",
    "__Date last modified__: 2024-11-08\n",
    "\n",
    "__Licence__: This file is licensed under [Creative Commons Attribution-ShareAlike 4.0 International](https://creativecommons.org/licenses/by-sa/4.0/).  Any included code is released using the [BSD-2-Clause](https://www.tldrlegal.com/license/bsd-2-clause-license-freebsd) license.\n",
    "\n",
    "\n",
    "<span style=\"font-size:0.75em;\">\n",
    "Copyright (c) , All rights reserved.</span>\n",
    "\n",
    "<span style=\"font-size:0.75em;\">\n",
    "Redistribution and use in source and binary forms, with or without modification, are permitted provided that the following conditions are met:</span>\n",
    "\n",
    "<span style=\"font-size:0.75em;\">\n",
    "Redistributions of source code must retain the above copyright notice, this list of conditions and the following disclaimer. Redistributions in binary form must reproduce the above copyright notice, this list of conditions and the following disclaimer in the documentation and/or other materials provided with the distribution. THIS SOFTWARE IS PROVIDED BY THE COPYRIGHT HOLDERS AND CONTRIBUTORS \"AS IS\" AND ANY EXPRESS OR IMPLIED WARRANTIES, INCLUDING, BUT NOT LIMITED TO, THE IMPLIED WARRANTIES OF MERCHANTABILITY AND FITNESS FOR A PARTICULAR PURPOSE ARE DISCLAIMED. IN NO EVENT SHALL THE COPYRIGHT HOLDER OR CONTRIBUTORS BE LIABLE FOR ANY DIRECT, INDIRECT, INCIDENTAL, SPECIAL, EXEMPLARY, OR CONSEQUENTIAL DAMAGES (INCLUDING, BUT NOT LIMITED TO, PROCUREMENT OF SUBSTITUTE GOODS OR SERVICES; LOSS OF USE, DATA, OR PROFITS; OR BUSINESS INTERRUPTION) HOWEVER CAUSED AND ON ANY THEORY OF LIABILITY, WHETHER IN CONTRACT, STRICT LIABILITY, OR TORT (INCLUDING NEGLIGENCE OR OTHERWISE) ARISING IN ANY WAY OUT OF THE USE OF THIS SOFTWARE, EVEN IF ADVISED OF THE POSSIBILITY OF SUCH DAMAGE.</span>"
   ]
  },
  {
   "cell_type": "markdown",
   "metadata": {},
   "source": [
    "# Background"
   ]
  },
  {
   "cell_type": "markdown",
   "metadata": {
    "vscode": {
     "languageId": "plaintext"
    }
   },
   "source": [
    "A requirement to process coherence from Sentinel 1 data was articulated.  \n",
    "\n",
    "Coherence data are a measure of the similarity between two complex radar signals acquired over the same area. In this use case those radar signals are captured by the Sentinel-1 Synthetic Aperture Radar (SAR) sensor using its Single Look Complex (SLC) mode. Coherence is calculated by comparing the phase information of the radar signals across consecutive or closely spaced acquisitions. High coherence indicates strong similarity in phase, which typically occurs when the surface properties remain stable between acquisitions, such as in urban areas or bare soil. Conversely, low coherence suggests changes in the surface, such as vegetation growth, soil moisture variations, or physical displacement caused by events such as earthquakes or landslides. The coherence value, ranging between 0 and 1, provides valuable information about the temporal stability of the observed area.\n",
    "\n",
    "Coherence data derived from Sentinel-1 SLC imagery are crucial in various remote sensing applications, including land-use classification, vegetation monitoring, and deformation analysis. In particular, coherence is a key component of interferometric SAR (InSAR) techniques, which rely on phase differences to measure ground displacement with millimeter precision. Coherence can be used to monitor dynamic changes in the environment, such as detecting deforestation, tracking agricultural practices, or studying snow cover variations. By leveraging Sentinel-1's high spatial resolution, regular revisit times, and all-weather imaging capabilities, coherence data provide a robust tool for understanding and managing natural and human-induced changes on the Earth's surface.\n",
    "\n",
    "\"The Sentinel 1 Level 1 SLC products are images in the slant range by azimuth imaging plane, in the image plane of satellite data acquisition. Each image pixel is represented by a complex (I and Q) magnitude value and therefore contains both amplitude and phase information. Each I and Q value is 16 bits per pixel. The processing for all SLC products results in a single look in each dimension using the full available signal bandwidth. The imagery is geo-referenced using orbit and attitude data from the satellite.\"[ref](https://documentation.dataspace.copernicus.eu/Data/SentinelMissions/Sentinel1.html)\n",
    "\n",
    "Information on Sentinel 1 and the different products that are available at source can be found on the Copernicus Data Space Ecosystem (CDSE) [website](https://dataspace.copernicus.eu/explore-data/data-collections/sentinel-data/sentinel-1) and [here](https://documentation.dataspace.copernicus.eu/Data/SentinelMissions/Sentinel1.html)"
   ]
  },
  {
   "cell_type": "markdown",
   "metadata": {},
   "source": [
    "# The Scientific Process\n"
   ]
  },
  {
   "cell_type": "markdown",
   "metadata": {},
   "source": [
    "Before creating a workflow on the EODH platform it was important to step through the scientific process to make sure that the correct tools and data were being considered. To create the coherence outputs we use a relatively new Python package called [eo-tools](https://eo-tools.readthedocs.io/en/latest/) which calls another powerful packaged called [pygmtsar](https://github.com/AlexeyPechnikov/pygmtsar) (see also [https://insar.dev/](https://insar.dev/)).\n",
    "\n",
    "As part of this discovery phase, and in line with the how-to tutorial on the eo-tools website, there is a need to access data on the CDSE. If you want to do this you will need a free account on that platform and will need to set up an `eodag.yaml` file as explained [here](https://eodag.readthedocs.io/en/stable/getting_started_guide/configure.html). \n",
    "\n",
    "The following tutorial will demonstrate how to process a single SLC pair."
   ]
  },
  {
   "cell_type": "markdown",
   "metadata": {},
   "source": [
    "First we need to import the required packages"
   ]
  },
  {
   "cell_type": "code",
   "execution_count": 1,
   "metadata": {},
   "outputs": [],
   "source": [
    "import logging\n",
    "logging.basicConfig(level=logging.INFO)\n",
    "\n",
    "from itertools import combinations\n",
    "\n",
    "# general geospatial tools\n",
    "import geopandas as gpd\n",
    "import shapely\n",
    "from shapely.geometry import shape\n",
    "\n",
    "# eo-tools and related packages\n",
    "import eo_tools as eo\n",
    "from eo_tools.S1.process import process_insar\n",
    "from eodag import EODataAccessGateway\n",
    "\n",
    "import pyeodh"
   ]
  },
  {
   "cell_type": "markdown",
   "metadata": {},
   "source": [
    "Make sure that a suitable directory is set as the working directory for this exploratory work. Set the following for your system."
   ]
  },
  {
   "cell_type": "code",
   "execution_count": 4,
   "metadata": {},
   "outputs": [],
   "source": [
    "# Set download dirs\n",
    "data_dir = \"/home/al/Downloads/eotools\""
   ]
  },
  {
   "cell_type": "markdown",
   "metadata": {},
   "source": [
    "The first thing to do is set an Area of Interest (AOI). The simplest way to do this is to supply a geojson file and we have provided in the repository a small area near Thetford, UK.  "
   ]
  },
  {
   "cell_type": "code",
   "execution_count": 5,
   "metadata": {},
   "outputs": [],
   "source": [
    "# You can supply an suitable geojson file\n",
    "\n",
    "# AOI around Thetford\n",
    "file_aoi = f\"data/thetfordaoi.geojson\"\n",
    "shp = gpd.read_file(file_aoi).geometry[0]\n",
    "\n",
    "# Alternatively you can set the AOI in code using the following format. The numbers are in decimal degrees and should be set for your AOI \n",
    "# bbox = {\n",
    "#     \"lonmin\": 0.1,\n",
    "#     \"latmin\": 52.1,\n",
    "#     \"lonmax\": 0.9,\n",
    "#     \"latmax\": 52.9,\n",
    "# }\n",
    "# shp = shapely.box(bbox[\"lonmin\"], bbox[\"latmin\"], bbox[\"lonmax\"], bbox[\"latmax\"])"
   ]
  },
  {
   "cell_type": "markdown",
   "metadata": {},
   "source": [
    "## Scientific method\n",
    "\n",
    "We start with searching the data on Copernicus Data Space Ecosystem.\n",
    "\n",
    "Need to create an access point to do the search."
   ]
  },
  {
   "cell_type": "code",
   "execution_count": 6,
   "metadata": {},
   "outputs": [
    {
     "name": "stderr",
     "output_type": "stream",
     "text": [
      "INFO:eodag.config:Loading user configuration from: /home/al/.config/eodag/eodag.yml\n",
      "INFO:eodag.core:usgs: provider needing auth for search has been pruned because no crendentials could be found\n",
      "INFO:eodag.core:aws_eos: provider needing auth for search has been pruned because no crendentials could be found\n",
      "INFO:eodag.core:meteoblue: provider needing auth for search has been pruned because no crendentials could be found\n",
      "INFO:eodag.core:hydroweb_next: provider needing auth for search has been pruned because no crendentials could be found\n",
      "INFO:eodag.core:wekeo: provider needing auth for search has been pruned because no crendentials could be found\n",
      "INFO:eodag.core:creodias_s3: provider needing auth for search has been pruned because no crendentials could be found\n",
      "INFO:eodag.core:Locations configuration loaded from /home/al/.config/eodag/locations.yml\n"
     ]
    }
   ],
   "source": [
    "dag = EODataAccessGateway()\n",
    "# make sure cop_dataspace will be used\n",
    "dag.set_preferred_provider(\"cop_dataspace\")\n",
    "logging.basicConfig(level=logging.INFO)"
   ]
  },
  {
   "cell_type": "code",
   "execution_count": 7,
   "metadata": {},
   "outputs": [
    {
     "name": "stderr",
     "output_type": "stream",
     "text": [
      "INFO:eodag.core:Searching product type 'S1_SAR_SLC' on provider: cop_dataspace\n",
      "INFO:eodag.search.qssearch:Sending search request: http://catalogue.dataspace.copernicus.eu/resto/api/collections/Sentinel1/search.json?startDate=2023-09-03&completionDate=2023-09-17&geometry=POLYGON ((0.1085 52.5485, 0.6857 52.5580, 0.6778 52.4539, 0.1057 52.4464, 0.1085 52.5485))&productType=SLC&maxRecords=20&page=1&exactCount=1\n",
      "INFO:eodag.core:Found 5 result(s) on provider 'cop_dataspace'\n"
     ]
    }
   ],
   "source": [
    "# Run search using the bbox set earlier\n",
    "\n",
    "search_criteria = {\n",
    "    \"productType\": \"S1_SAR_SLC\",\n",
    "    \"start\": \"2023-09-03\",\n",
    "    \"end\": \"2023-09-17\",\n",
    "    \"geom\": shp,\n",
    "}\n",
    "\n",
    "results, _ = dag.search(**search_criteria)"
   ]
  },
  {
   "cell_type": "code",
   "execution_count": null,
   "metadata": {},
   "outputs": [],
   "source": []
  },
  {
   "cell_type": "markdown",
   "metadata": {},
   "source": [
    "Can also use pyeodh to search the hub"
   ]
  },
  {
   "cell_type": "code",
   "execution_count": 16,
   "metadata": {},
   "outputs": [],
   "source": [
    "# add in pyeodh search"
   ]
  },
  {
   "cell_type": "code",
   "execution_count": 8,
   "metadata": {},
   "outputs": [
    {
     "data": {
      "text/html": [
       "<div style=\"width:100%;\"><div style=\"position:relative;width:100%;height:0;padding-bottom:60%;\"><span style=\"color:#565656\">Make this Notebook Trusted to load map: File -> Trust Notebook</span><iframe srcdoc=\"&lt;!DOCTYPE html&gt;\n",
       "&lt;html&gt;\n",
       "&lt;head&gt;\n",
       "    \n",
       "    &lt;meta http-equiv=&quot;content-type&quot; content=&quot;text/html; charset=UTF-8&quot; /&gt;\n",
       "    \n",
       "        &lt;script&gt;\n",
       "            L_NO_TOUCH = false;\n",
       "            L_DISABLE_3D = false;\n",
       "        &lt;/script&gt;\n",
       "    \n",
       "    &lt;style&gt;html, body {width: 100%;height: 100%;margin: 0;padding: 0;}&lt;/style&gt;\n",
       "    &lt;style&gt;#map {position:absolute;top:0;bottom:0;right:0;left:0;}&lt;/style&gt;\n",
       "    &lt;script src=&quot;https://cdn.jsdelivr.net/npm/leaflet@1.9.3/dist/leaflet.js&quot;&gt;&lt;/script&gt;\n",
       "    &lt;script src=&quot;https://code.jquery.com/jquery-3.7.1.min.js&quot;&gt;&lt;/script&gt;\n",
       "    &lt;script src=&quot;https://cdn.jsdelivr.net/npm/bootstrap@5.2.2/dist/js/bootstrap.bundle.min.js&quot;&gt;&lt;/script&gt;\n",
       "    &lt;script src=&quot;https://cdnjs.cloudflare.com/ajax/libs/Leaflet.awesome-markers/2.0.2/leaflet.awesome-markers.js&quot;&gt;&lt;/script&gt;\n",
       "    &lt;link rel=&quot;stylesheet&quot; href=&quot;https://cdn.jsdelivr.net/npm/leaflet@1.9.3/dist/leaflet.css&quot;/&gt;\n",
       "    &lt;link rel=&quot;stylesheet&quot; href=&quot;https://cdn.jsdelivr.net/npm/bootstrap@5.2.2/dist/css/bootstrap.min.css&quot;/&gt;\n",
       "    &lt;link rel=&quot;stylesheet&quot; href=&quot;https://netdna.bootstrapcdn.com/bootstrap/3.0.0/css/bootstrap-glyphicons.css&quot;/&gt;\n",
       "    &lt;link rel=&quot;stylesheet&quot; href=&quot;https://cdn.jsdelivr.net/npm/@fortawesome/fontawesome-free@6.2.0/css/all.min.css&quot;/&gt;\n",
       "    &lt;link rel=&quot;stylesheet&quot; href=&quot;https://cdnjs.cloudflare.com/ajax/libs/Leaflet.awesome-markers/2.0.2/leaflet.awesome-markers.css&quot;/&gt;\n",
       "    &lt;link rel=&quot;stylesheet&quot; href=&quot;https://cdn.jsdelivr.net/gh/python-visualization/folium/folium/templates/leaflet.awesome.rotate.min.css&quot;/&gt;\n",
       "    \n",
       "            &lt;meta name=&quot;viewport&quot; content=&quot;width=device-width,\n",
       "                initial-scale=1.0, maximum-scale=1.0, user-scalable=no&quot; /&gt;\n",
       "            &lt;style&gt;\n",
       "                #map_5142cd2aadccd0f93eedceb07d7d644d {\n",
       "                    position: relative;\n",
       "                    width: 100.0%;\n",
       "                    height: 100.0%;\n",
       "                    left: 0.0%;\n",
       "                    top: 0.0%;\n",
       "                }\n",
       "                .leaflet-container { font-size: 1rem; }\n",
       "            &lt;/style&gt;\n",
       "        \n",
       "&lt;/head&gt;\n",
       "&lt;body&gt;\n",
       "    \n",
       "    \n",
       "            &lt;div class=&quot;folium-map&quot; id=&quot;map_5142cd2aadccd0f93eedceb07d7d644d&quot; &gt;&lt;/div&gt;\n",
       "        \n",
       "&lt;/body&gt;\n",
       "&lt;script&gt;\n",
       "    \n",
       "    \n",
       "            var map_5142cd2aadccd0f93eedceb07d7d644d = L.map(\n",
       "                &quot;map_5142cd2aadccd0f93eedceb07d7d644d&quot;,\n",
       "                {\n",
       "                    center: [0.0, 0.0],\n",
       "                    crs: L.CRS.EPSG3857,\n",
       "                    zoom: 1,\n",
       "                    zoomControl: true,\n",
       "                    preferCanvas: false,\n",
       "                }\n",
       "            );\n",
       "\n",
       "            \n",
       "\n",
       "        \n",
       "    \n",
       "            var tile_layer_df4d9d84d3cf795a04a5dfa53f4ff009 = L.tileLayer(\n",
       "                &quot;https://tile.openstreetmap.org/{z}/{x}/{y}.png&quot;,\n",
       "                {&quot;attribution&quot;: &quot;\\u0026copy; \\u003ca href=\\&quot;https://www.openstreetmap.org/copyright\\&quot;\\u003eOpenStreetMap\\u003c/a\\u003e contributors&quot;, &quot;detectRetina&quot;: false, &quot;maxNativeZoom&quot;: 19, &quot;maxZoom&quot;: 19, &quot;minZoom&quot;: 0, &quot;noWrap&quot;: false, &quot;opacity&quot;: 1, &quot;subdomains&quot;: &quot;abc&quot;, &quot;tms&quot;: false}\n",
       "            );\n",
       "        \n",
       "    \n",
       "            tile_layer_df4d9d84d3cf795a04a5dfa53f4ff009.addTo(map_5142cd2aadccd0f93eedceb07d7d644d);\n",
       "        \n",
       "    \n",
       "        function geo_json_99127d6020bad6c1c019d690e648a331_styler(feature) {\n",
       "            switch(feature.id) {\n",
       "                default:\n",
       "                    return {&quot;color&quot;: &quot;black&quot;, &quot;fillColor&quot;: &quot;none&quot;};\n",
       "            }\n",
       "        }\n",
       "\n",
       "        function geo_json_99127d6020bad6c1c019d690e648a331_onEachFeature(feature, layer) {\n",
       "            layer.on({\n",
       "            });\n",
       "        };\n",
       "        var geo_json_99127d6020bad6c1c019d690e648a331 = L.geoJson(null, {\n",
       "                onEachFeature: geo_json_99127d6020bad6c1c019d690e648a331_onEachFeature,\n",
       "            \n",
       "                style: geo_json_99127d6020bad6c1c019d690e648a331_styler,\n",
       "        });\n",
       "\n",
       "        function geo_json_99127d6020bad6c1c019d690e648a331_add (data) {\n",
       "            geo_json_99127d6020bad6c1c019d690e648a331\n",
       "                .addData(data);\n",
       "        }\n",
       "            geo_json_99127d6020bad6c1c019d690e648a331_add({&quot;features&quot;: [{&quot;geometry&quot;: {&quot;coordinates&quot;: [[[0.108530558052996, 52.548527343311214], [0.685652665706907, 52.55804798614935], [0.677823489827881, 52.45388885682422], [0.105734423810487, 52.44639077957711], [0.108530558052996, 52.548527343311214]]], &quot;type&quot;: &quot;Polygon&quot;}, &quot;id&quot;: &quot;0&quot;, &quot;type&quot;: &quot;Feature&quot;}], &quot;type&quot;: &quot;FeatureCollection&quot;});\n",
       "\n",
       "        \n",
       "    \n",
       "            geo_json_99127d6020bad6c1c019d690e648a331.bindTooltip(\n",
       "                `&lt;div&gt;\n",
       "                     Area of Interest\n",
       "                 &lt;/div&gt;`,\n",
       "                {&quot;sticky&quot;: true}\n",
       "            );\n",
       "        \n",
       "    \n",
       "            geo_json_99127d6020bad6c1c019d690e648a331.addTo(map_5142cd2aadccd0f93eedceb07d7d644d);\n",
       "        \n",
       "    \n",
       "\n",
       "        function geo_json_713a070ceaebe75301c349806786603e_onEachFeature(feature, layer) {\n",
       "            layer.on({\n",
       "            });\n",
       "        };\n",
       "        var geo_json_713a070ceaebe75301c349806786603e = L.geoJson(null, {\n",
       "                onEachFeature: geo_json_713a070ceaebe75301c349806786603e_onEachFeature,\n",
       "            \n",
       "        });\n",
       "\n",
       "        function geo_json_713a070ceaebe75301c349806786603e_add (data) {\n",
       "            geo_json_713a070ceaebe75301c349806786603e\n",
       "                .addData(data);\n",
       "        }\n",
       "            geo_json_713a070ceaebe75301c349806786603e_add({&quot;coordinates&quot;: [[[3.475866, 51.159492], [4.017843, 52.777412], [0.185597, 53.187542], [0.0, 52.44009389844227], [-0.216913, 51.566528], [0.0, 51.54261879777913], [3.475866, 51.159492]]], &quot;type&quot;: &quot;Polygon&quot;});\n",
       "        geo_json_713a070ceaebe75301c349806786603e.setStyle(function(feature) {return feature.properties.style;});\n",
       "\n",
       "        \n",
       "    \n",
       "            geo_json_713a070ceaebe75301c349806786603e.bindTooltip(\n",
       "                `&lt;div&gt;\n",
       "                     &lt;b&gt;Configuration:&lt;/b&gt;&lt;br&gt;DESCENDING, Orbit: 8&lt;br&gt;&lt;b&gt;Product list (index / date):&lt;/b&gt;&lt;br&gt;1 / 2023-09-13 06:06:59\n",
       "                 &lt;/div&gt;`,\n",
       "                {&quot;sticky&quot;: true}\n",
       "            );\n",
       "        \n",
       "    \n",
       "            geo_json_713a070ceaebe75301c349806786603e.addTo(map_5142cd2aadccd0f93eedceb07d7d644d);\n",
       "        \n",
       "    \n",
       "\n",
       "        function geo_json_a23c004ec887403dd5f6bef9a01cd9b3_onEachFeature(feature, layer) {\n",
       "            layer.on({\n",
       "            });\n",
       "        };\n",
       "        var geo_json_a23c004ec887403dd5f6bef9a01cd9b3 = L.geoJson(null, {\n",
       "                onEachFeature: geo_json_a23c004ec887403dd5f6bef9a01cd9b3_onEachFeature,\n",
       "            \n",
       "        });\n",
       "\n",
       "        function geo_json_a23c004ec887403dd5f6bef9a01cd9b3_add (data) {\n",
       "            geo_json_a23c004ec887403dd5f6bef9a01cd9b3\n",
       "                .addData(data);\n",
       "        }\n",
       "            geo_json_a23c004ec887403dd5f6bef9a01cd9b3_add({&quot;coordinates&quot;: [[[3.404867, 52.338833], [0.0, 51.96867375512488], [-0.31966, 51.933922], [-0.87165, 53.543831], [-0.8693628407905536, 53.54407244446059], [-0.869386, 53.54414], [-0.0, 53.63589557674331], [1.9816227301074734, 53.84503735782636], [2.996698, 53.952194], [2.99670414135705, 53.95216972518748], [2.998886, 53.9524], [3.406874, 52.339394], [3.4047825796451026, 52.33916668655679], [3.404867, 52.338833]]], &quot;type&quot;: &quot;Polygon&quot;});\n",
       "        geo_json_a23c004ec887403dd5f6bef9a01cd9b3.setStyle(function(feature) {return feature.properties.style;});\n",
       "\n",
       "        \n",
       "    \n",
       "            geo_json_a23c004ec887403dd5f6bef9a01cd9b3.bindTooltip(\n",
       "                `&lt;div&gt;\n",
       "                     &lt;b&gt;Configuration:&lt;/b&gt;&lt;br&gt;ASCENDING, Orbit: 59&lt;br&gt;&lt;b&gt;Product list (index / date):&lt;/b&gt;&lt;br&gt;2 / 2023-09-04 17:42:09&lt;br&gt;4 / 2023-09-16 17:42:09\n",
       "                 &lt;/div&gt;`,\n",
       "                {&quot;sticky&quot;: true}\n",
       "            );\n",
       "        \n",
       "    \n",
       "            geo_json_a23c004ec887403dd5f6bef9a01cd9b3.addTo(map_5142cd2aadccd0f93eedceb07d7d644d);\n",
       "        \n",
       "    \n",
       "\n",
       "        function geo_json_eb72cec76b643e4bdce380acc822bcfd_onEachFeature(feature, layer) {\n",
       "            layer.on({\n",
       "            });\n",
       "        };\n",
       "        var geo_json_eb72cec76b643e4bdce380acc822bcfd = L.geoJson(null, {\n",
       "                onEachFeature: geo_json_eb72cec76b643e4bdce380acc822bcfd_onEachFeature,\n",
       "            \n",
       "        });\n",
       "\n",
       "        function geo_json_eb72cec76b643e4bdce380acc822bcfd_add (data) {\n",
       "            geo_json_eb72cec76b643e4bdce380acc822bcfd\n",
       "                .addData(data);\n",
       "        }\n",
       "            geo_json_eb72cec76b643e4bdce380acc822bcfd_add({&quot;coordinates&quot;: [[[1.456613, 51.28133], [2.000225, 52.898014], [0.0, 53.11161240558363], [-1.842043, 53.308319], [-2.245346, 51.688484], [0.0, 51.44153323547668], [1.456613, 51.28133]]], &quot;type&quot;: &quot;Polygon&quot;});\n",
       "        geo_json_eb72cec76b643e4bdce380acc822bcfd.setStyle(function(feature) {return feature.properties.style;});\n",
       "\n",
       "        \n",
       "    \n",
       "            geo_json_eb72cec76b643e4bdce380acc822bcfd.bindTooltip(\n",
       "                `&lt;div&gt;\n",
       "                     &lt;b&gt;Configuration:&lt;/b&gt;&lt;br&gt;DESCENDING, Orbit: 81&lt;br&gt;&lt;b&gt;Product list (index / date):&lt;/b&gt;&lt;br&gt;0 / 2023-09-06 06:15:10\n",
       "                 &lt;/div&gt;`,\n",
       "                {&quot;sticky&quot;: true}\n",
       "            );\n",
       "        \n",
       "    \n",
       "            geo_json_eb72cec76b643e4bdce380acc822bcfd.addTo(map_5142cd2aadccd0f93eedceb07d7d644d);\n",
       "        \n",
       "    \n",
       "\n",
       "        function geo_json_f7f5be0fe637896a37343744cf04627e_onEachFeature(feature, layer) {\n",
       "            layer.on({\n",
       "            });\n",
       "        };\n",
       "        var geo_json_f7f5be0fe637896a37343744cf04627e = L.geoJson(null, {\n",
       "                onEachFeature: geo_json_f7f5be0fe637896a37343744cf04627e_onEachFeature,\n",
       "            \n",
       "        });\n",
       "\n",
       "        function geo_json_f7f5be0fe637896a37343744cf04627e_add (data) {\n",
       "            geo_json_f7f5be0fe637896a37343744cf04627e\n",
       "                .addData(data);\n",
       "        }\n",
       "            geo_json_f7f5be0fe637896a37343744cf04627e_add({&quot;coordinates&quot;: [[[-2.161909, 51.320732], [0.0, 51.55829738530797], [1.500185, 51.723148], [1.097608, 53.336254], [-0.0, 53.21913496812211], [-2.702863, 52.930729], [-2.161909, 51.320732]]], &quot;type&quot;: &quot;Polygon&quot;});\n",
       "        geo_json_f7f5be0fe637896a37343744cf04627e.setStyle(function(feature) {return feature.properties.style;});\n",
       "\n",
       "        \n",
       "    \n",
       "            geo_json_f7f5be0fe637896a37343744cf04627e.bindTooltip(\n",
       "                `&lt;div&gt;\n",
       "                     &lt;b&gt;Configuration:&lt;/b&gt;&lt;br&gt;ASCENDING, Orbit: 132&lt;br&gt;&lt;b&gt;Product list (index / date):&lt;/b&gt;&lt;br&gt;3 / 2023-09-09 17:50:13\n",
       "                 &lt;/div&gt;`,\n",
       "                {&quot;sticky&quot;: true}\n",
       "            );\n",
       "        \n",
       "    \n",
       "            geo_json_f7f5be0fe637896a37343744cf04627e.addTo(map_5142cd2aadccd0f93eedceb07d7d644d);\n",
       "        \n",
       "    \n",
       "            var layer_control_7f2bb6a40e7e4425ba61213069298cde_layers = {\n",
       "                base_layers : {\n",
       "                    &quot;openstreetmap&quot; : tile_layer_df4d9d84d3cf795a04a5dfa53f4ff009,\n",
       "                },\n",
       "                overlays :  {\n",
       "                    &quot;Area of Interest&quot; : geo_json_99127d6020bad6c1c019d690e648a331,\n",
       "                    &quot;Orbit 8, group 1&quot; : geo_json_713a070ceaebe75301c349806786603e,\n",
       "                    &quot;Orbit 59, group 1&quot; : geo_json_a23c004ec887403dd5f6bef9a01cd9b3,\n",
       "                    &quot;Orbit 81, group 1&quot; : geo_json_eb72cec76b643e4bdce380acc822bcfd,\n",
       "                    &quot;Orbit 132, group 1&quot; : geo_json_f7f5be0fe637896a37343744cf04627e,\n",
       "                },\n",
       "            };\n",
       "            let layer_control_7f2bb6a40e7e4425ba61213069298cde = L.control.layers(\n",
       "                layer_control_7f2bb6a40e7e4425ba61213069298cde_layers.base_layers,\n",
       "                layer_control_7f2bb6a40e7e4425ba61213069298cde_layers.overlays,\n",
       "                {&quot;autoZIndex&quot;: true, &quot;collapsed&quot;: true, &quot;position&quot;: &quot;topright&quot;}\n",
       "            ).addTo(map_5142cd2aadccd0f93eedceb07d7d644d);\n",
       "\n",
       "        \n",
       "    \n",
       "            map_5142cd2aadccd0f93eedceb07d7d644d.fitBounds(\n",
       "                [[51.159492, -2.702863], [53.9524, 4.017843]],\n",
       "                {}\n",
       "            );\n",
       "        \n",
       "&lt;/script&gt;\n",
       "&lt;/html&gt;\" style=\"position:absolute;width:100%;height:100%;left:0;top:0;border:none !important;\" allowfullscreen webkitallowfullscreen mozallowfullscreen></iframe></div></div>"
      ],
      "text/plain": [
       "<folium.folium.Map at 0x76aeab1733e0>"
      ]
     },
     "execution_count": 8,
     "metadata": {},
     "output_type": "execute_result"
    }
   ],
   "source": [
    "eo.util.explore_products(results, shp)"
   ]
  },
  {
   "cell_type": "markdown",
   "metadata": {},
   "source": [
    "We are only interested in image pairs. The S1 SLC file name doesn't make it clear which these are so the following code finds image footprints with 98% overlap"
   ]
  },
  {
   "cell_type": "code",
   "execution_count": 9,
   "metadata": {},
   "outputs": [
    {
     "data": {
      "text/plain": [
       "[('S1A_IW_SLC__1SDV_20230904T174209_20230904T174236_050181_060A2D_E88F',\n",
       "  'S1A_IW_SLC__1SDV_20230916T174209_20230916T174236_050356_061016_8033')]"
      ]
     },
     "execution_count": 9,
     "metadata": {},
     "output_type": "execute_result"
    }
   ],
   "source": [
    "# Find overlaps\n",
    "data = []\n",
    "for item in results:\n",
    "    id = item.properties[\"id\"]\n",
    "    geom = shape(item.geometry)\n",
    "    data.append({\"id\": id, \"geometry\": geom})\n",
    "\n",
    "gdf = gpd.GeoDataFrame(data, crs=\"EPSG:4326\")  # Assuming WGS84\n",
    "\n",
    "# 98% overlap\n",
    "threshold = 0.98\n",
    "\n",
    "overlaps = []\n",
    "for (idx1, row1), (idx2, row2) in combinations(gdf.iterrows(), 2):\n",
    "    intersection = row1[\"geometry\"].intersection(row2[\"geometry\"])\n",
    "    if not intersection.is_empty:\n",
    "        # Calculate overlap ratio as the area of intersection divided by the area of the smaller polygon\n",
    "        overlap_ratio = intersection.area / min(\n",
    "            row1[\"geometry\"].area, row2[\"geometry\"].area\n",
    "        )\n",
    "        if overlap_ratio >= threshold:\n",
    "            overlaps.append((row1[\"id\"], row2[\"id\"], overlap_ratio))\n",
    "\n",
    "overlap_ids = [entry[:-1] for entry in overlaps]\n",
    "overlap_ids"
   ]
  },
  {
   "cell_type": "markdown",
   "metadata": {},
   "source": [
    "The data files are large (8GB). Use a tool such as wget to download the S1 image pair that you want  "
   ]
  },
  {
   "cell_type": "code",
   "execution_count": 11,
   "metadata": {},
   "outputs": [],
   "source": [
    "# Set download dirs\n",
    "ids = [\n",
    "    \"S1A_IW_SLC__1SDV_20241016T174206_20241016T174233_056131_06DE72_1B0C\",\n",
    "    \"S1A_IW_SLC__1SDV_20241028T174206_20241028T174233_056306_06E564_F046\"\n",
    "]\n",
    "    #\"S1A_IW_SLC__1SDV_20230904T174209_20230904T174236_050181_060A2D_E88F\",\n",
    "    #\"S1A_IW_SLC__1SDV_20230916T174209_20230916T174236_050356_061016_8033\",\n",
    "#]\n",
    "\n",
    "primary_dir = f\"{data_dir}/{ids[0]}.zip\"\n",
    "secondary_dir = f\"{data_dir}/{ids[1]}.zip\"\n",
    "outputs_prefix = f\"{data_dir}/res/test-full-processor\""
   ]
  },
  {
   "cell_type": "markdown",
   "metadata": {},
   "source": [
    "The next cell runs `eo-tools` on the SAR SLC data pair. There are a multitude of configuration parameters but the most important one for this application is to ensure that `write_coherence` is set to `True`. This will generate an image of coherence in the project path set earlier in the Notebook. To effectively set the remainder of the parameters you will need some level of competence in SAR interferometry. For the purposes of this demonstration we leave them on the default values."
   ]
  },
  {
   "cell_type": "code",
   "execution_count": 12,
   "metadata": {},
   "outputs": [
    {
     "name": "stderr",
     "output_type": "stream",
     "text": [
      "INFO:eo_tools.S1.process:---- Processing subswath IW1 in VV polarization\n",
      "INFO:eo_tools.S1.core:S1IWSwath Initialization:\n",
      "INFO:eo_tools.S1.core:- Read metadata file /home/al/Downloads/eotools/S1A_IW_SLC__1SDV_20241016T174206_20241016T174233_056131_06DE72_1B0C.zip/S1A_IW_SLC__1SDV_20241016T174206_20241016T174233_056131_06DE72_1B0C.SAFE/annotation/s1a-iw1-slc-vv-20241016t174207-20241016t174232-056131-06de72-004.xml\n",
      "INFO:eo_tools.S1.core:- Read calibration file /home/al/Downloads/eotools/S1A_IW_SLC__1SDV_20241016T174206_20241016T174233_056131_06DE72_1B0C.zip/S1A_IW_SLC__1SDV_20241016T174206_20241016T174233_056131_06DE72_1B0C.SAFE/annotation/calibration/calibration-s1a-iw1-slc-vv-20241016t174207-20241016t174232-056131-06de72-004.xml\n",
      "INFO:eo_tools.S1.core:- Set up raster path zip:///home/al/Downloads/eotools/S1A_IW_SLC__1SDV_20241016T174206_20241016T174233_056131_06DE72_1B0C.zip/S1A_IW_SLC__1SDV_20241016T174206_20241016T174233_056131_06DE72_1B0C.SAFE/measurement/s1a-iw1-slc-vv-20241016t174207-20241016t174232-056131-06de72-004.tiff\n",
      "INFO:eo_tools.S1.core:- Look for available OSV (Orbit State Vectors)\n",
      "INFO:eo_tools.S1.core:-- Precise orbit found\n",
      "INFO:eo_tools.S1.core:S1IWSwath Initialization:\n",
      "INFO:eo_tools.S1.core:- Read metadata file /home/al/Downloads/eotools/S1A_IW_SLC__1SDV_20241028T174206_20241028T174233_056306_06E564_F046.zip/S1A_IW_SLC__1SDV_20241028T174206_20241028T174233_056306_06E564_F046.SAFE/annotation/s1a-iw1-slc-vv-20241028t174207-20241028t174232-056306-06e564-004.xml\n",
      "INFO:eo_tools.S1.core:- Read calibration file /home/al/Downloads/eotools/S1A_IW_SLC__1SDV_20241028T174206_20241028T174233_056306_06E564_F046.zip/S1A_IW_SLC__1SDV_20241028T174206_20241028T174233_056306_06E564_F046.SAFE/annotation/calibration/calibration-s1a-iw1-slc-vv-20241028t174207-20241028t174232-056306-06e564-004.xml\n",
      "INFO:eo_tools.S1.core:- Set up raster path zip:///home/al/Downloads/eotools/S1A_IW_SLC__1SDV_20241028T174206_20241028T174233_056306_06E564_F046.zip/S1A_IW_SLC__1SDV_20241028T174206_20241028T174233_056306_06E564_F046.SAFE/measurement/s1a-iw1-slc-vv-20241028t174207-20241028t174232-056306-06e564-004.tiff\n",
      "INFO:eo_tools.S1.core:- Look for available OSV (Orbit State Vectors)\n",
      "INFO:eo_tools.S1.core:-- Precise orbit found\n",
      "INFO:eo_tools.S1.core:--DEM already on disk\n",
      "INFO:eo_tools.S1.process:---- Processing burst 3 ----\n",
      "INFO:eo_tools.S1.core:Extract DEM coordinates\n",
      "INFO:eo_tools.S1.core:Convert latitude, longitude & altitude to ECEF x, y & z\n",
      "INFO:eo_tools.S1.core:Interpolate orbit\n",
      "INFO:eo_tools.S1.core:Range-Doppler terrain correction (LUT computation)\n",
      "INFO:eo_tools.S1.core:Extract DEM coordinates\n",
      "INFO:eo_tools.S1.core:Convert latitude, longitude & altitude to ECEF x, y & z\n",
      "INFO:eo_tools.S1.core:Interpolate orbit\n",
      "INFO:eo_tools.S1.core:Range-Doppler terrain correction (LUT computation)\n",
      "INFO:eo_tools.S1.core:Compute beta nought calibration factor.\n",
      "INFO:eo_tools.S1.core:Compute beta nought calibration factor.\n",
      "INFO:eo_tools.S1.process:Apply calibration factor\n",
      "INFO:eo_tools.S1.core:Compute TOPS deramping phase\n",
      "INFO:eo_tools.S1.process:Apply phase deramping\n",
      "INFO:eo_tools.S1.core:Project secondary coordinates to primary grid.\n",
      "INFO:eo_tools.S1.core:Warp secondary to primary geometry.\n",
      "INFO:eo_tools.S1.core:Warp secondary to primary geometry.\n",
      "INFO:eo_tools.S1.process:Apply phase reramping\n",
      "INFO:eo_tools.S1.core:Compute topographic phase\n",
      "INFO:eo_tools.S1.core:Compute topographic phase\n",
      "INFO:eo_tools.S1.process:Apply topographic phase removal\n",
      "INFO:eo_tools.auxils:Removing /home/al/Downloads/eotools/res/test-full-processor/S1_InSAR_2024-10-16-174206__2024-10-28-174206/sar/dem_burst.vrt\n",
      "INFO:eo_tools.S1.process:Cleaning temporary files\n",
      "INFO:eo_tools.S1.process:---- Interferometric outputs for VV IW1\n",
      "INFO:eo_tools.S1.process:Compute coherence & interferogram\n",
      "INFO:eo_tools.S1.process:---- Interferometric outputs for VV IW2\n",
      "INFO:eo_tools.S1.process:Compute coherence & interferogram\n",
      "INFO:eo_tools.S1.process:Geocode file coh_vv_iw1.tif.\n",
      "INFO:eo_tools.S1.process:Project image with the lookup table.\n",
      "INFO:eo_tools.S1.process:Geocode file coh_vv_iw2.tif.\n",
      "INFO:eo_tools.S1.process:Project image with the lookup table.\n",
      "INFO:eo_tools.S1.process:Merge file coh_vv.tif\n",
      "INFO:eo_tools.auxils:Removing /home/al/Downloads/eotools/res/test-full-processor/S1_InSAR_2024-10-16-174206__2024-10-28-174206/sar/coh_vv_iw1_geo.tif\n",
      "INFO:eo_tools.auxils:Removing /home/al/Downloads/eotools/res/test-full-processor/S1_InSAR_2024-10-16-174206__2024-10-28-174206/sar/coh_vv_iw2_geo.tif\n",
      "INFO:eo_tools.S1.process:Geocode file ifg_vv_iw1.tif.\n",
      "INFO:eo_tools.S1.process:Project image with the lookup table.\n",
      "INFO:eo_tools.S1.process:Geocode file ifg_vv_iw2.tif.\n",
      "INFO:eo_tools.S1.process:Project image with the lookup table.\n",
      "INFO:eo_tools.S1.process:Merge file phi_vv.tif\n",
      "INFO:eo_tools.auxils:Removing /home/al/Downloads/eotools/res/test-full-processor/S1_InSAR_2024-10-16-174206__2024-10-28-174206/sar/phi_vv_iw1_geo.tif\n",
      "INFO:eo_tools.auxils:Removing /home/al/Downloads/eotools/res/test-full-processor/S1_InSAR_2024-10-16-174206__2024-10-28-174206/sar/phi_vv_iw2_geo.tif\n"
     ]
    }
   ],
   "source": [
    "out_dir = process_insar(\n",
    "    dir_prm=primary_dir,\n",
    "    dir_sec=secondary_dir,\n",
    "    outputs_prefix=outputs_prefix,\n",
    "    aoi_name=None,\n",
    "    shp=shp,\n",
    "    pol=\"vv\",\n",
    "    subswaths=[\"IW1\", \"IW2\", \"IW3\"],\n",
    "    write_coherence=True,\n",
    "    write_interferogram=True,\n",
    "    write_primary_amplitude=False,\n",
    "    write_secondary_amplitude=False,\n",
    "    apply_fast_esd=True,\n",
    "    dem_upsampling=1.8,\n",
    "    dem_force_download=False,\n",
    "    dem_buffer_arc_sec=40,\n",
    "    boxcar_coherence=[3, 3],\n",
    "    filter_ifg=True,\n",
    "    multilook=[1, 4],\n",
    "    warp_kernel=\"bicubic\",\n",
    "    clip_to_shape=True,\n",
    ")"
   ]
  },
  {
   "cell_type": "markdown",
   "metadata": {},
   "source": [
    "## Outputs\n",
    "\n",
    "The following figues show, in order:\n",
    "* The AOI - covers an area between the Fenland town of March to the west and Thetford Forest to the east. The 100 Foot Drain complex is covered in the western portion of the AOI\n",
    "* The full coherence image - low coherence values are represented in dark blue and high values in yellow, with a gradient between them.\n",
    "* A portion of the coherence image near the town of March "
   ]
  },
  {
   "cell_type": "markdown",
   "metadata": {},
   "source": [
    "![AOI](../img/co/co1.png){width=1000px}\n",
    "\n",
    "![Coherence](../img/co/co2.png){width=1000px}\n",
    "\n",
    "![Close up of coherence](../img/co/co3.png){width=900px}\n"
   ]
  },
  {
   "cell_type": "markdown",
   "metadata": {},
   "source": [
    "# Generating the workflow"
   ]
  },
  {
   "cell_type": "code",
   "execution_count": null,
   "metadata": {},
   "outputs": [],
   "source": [
    "# TO ADD"
   ]
  },
  {
   "cell_type": "markdown",
   "metadata": {},
   "source": [
    "# Commercial data and processing services\n",
    "\n",
    "Commercial SLC data can also be used to generate coherence datasets. Commercial Airbus Synthetic Aperture Radar (SAR) data, such as those from the TerraSAR-X or TanDEM-X missions, can be used to generate coherence products by leveraging their high-resolution and high-quality Single Look Complex (SLC) imagery. These Airbus supplied SAR data provide precise orbital control and excellent temporal and spatial resolution, which are critical for ensuring accurate phase comparisons. By processing pairs of TerraSAR-X or TanDEM-X images, coherence maps can be derived to assess temporal stability and surface dynamics. Additionally, the fine spatial resolution of Airbus SAR data enhances the detail and accuracy of coherence products, making them particularly valuable for localized studies and detailed environmental or industrial assessments.\n",
    "\n",
    "The [Airbus One-ATLAS Developer portal](https://www.geoapi-airbusds.com/index.html) provides access to such data and case-studies related to interferrometry and coherence are linked to in the following bullet points:\n",
    "* High Resolution SAR data: https://intelligence.airbus.com/imagery/our-optical-and-radar-satellite-imagery/radar-constellation/\n",
    "* Interferometry case studies: https://intelligence.airbus.com/search/?q=interferometry"
   ]
  }
 ],
 "metadata": {
  "kernelspec": {
   "display_name": "workflows",
   "language": "python",
   "name": "python3"
  },
  "language_info": {
   "codemirror_mode": {
    "name": "ipython",
    "version": 3
   },
   "file_extension": ".py",
   "mimetype": "text/x-python",
   "name": "python",
   "nbconvert_exporter": "python",
   "pygments_lexer": "ipython3",
   "version": "3.12.7"
  }
 },
 "nbformat": 4,
 "nbformat_minor": 2
}
