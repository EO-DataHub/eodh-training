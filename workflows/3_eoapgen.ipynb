{
 "cells": [
  {
   "cell_type": "markdown",
   "metadata": {},
   "source": [
    "__Description & purpose__: TODO \n",
    "\n",
    "__Author(s)__: Alastair Graham, Dusan Figala\n",
    "\n",
    "__Date created__: 2024-11-08\n",
    "\n",
    "__Date last modified__: 2024-11-08\n",
    "\n",
    "__Licence__: This file is licensed under [Creative Commons Attribution-ShareAlike 4.0 International](https://creativecommons.org/licenses/by-sa/4.0/).  Any included code is released using the [BSD-2-Clause](https://www.tldrlegal.com/license/bsd-2-clause-license-freebsd) license.\n",
    "\n",
    "\n",
    "<span style=\"font-size:0.75em;\">\n",
    "Copyright (c) , All rights reserved.</span>\n",
    "\n",
    "<span style=\"font-size:0.75em;\">\n",
    "Redistribution and use in source and binary forms, with or without modification, are permitted provided that the following conditions are met:</span>\n",
    "\n",
    "<span style=\"font-size:0.75em;\">\n",
    "Redistributions of source code must retain the above copyright notice, this list of conditions and the following disclaimer. Redistributions in binary form must reproduce the above copyright notice, this list of conditions and the following disclaimer in the documentation and/or other materials provided with the distribution. THIS SOFTWARE IS PROVIDED BY THE COPYRIGHT HOLDERS AND CONTRIBUTORS \"AS IS\" AND ANY EXPRESS OR IMPLIED WARRANTIES, INCLUDING, BUT NOT LIMITED TO, THE IMPLIED WARRANTIES OF MERCHANTABILITY AND FITNESS FOR A PARTICULAR PURPOSE ARE DISCLAIMED. IN NO EVENT SHALL THE COPYRIGHT HOLDER OR CONTRIBUTORS BE LIABLE FOR ANY DIRECT, INDIRECT, INCIDENTAL, SPECIAL, EXEMPLARY, OR CONSEQUENTIAL DAMAGES (INCLUDING, BUT NOT LIMITED TO, PROCUREMENT OF SUBSTITUTE GOODS OR SERVICES; LOSS OF USE, DATA, OR PROFITS; OR BUSINESS INTERRUPTION) HOWEVER CAUSED AND ON ANY THEORY OF LIABILITY, WHETHER IN CONTRACT, STRICT LIABILITY, OR TORT (INCLUDING NEGLIGENCE OR OTHERWISE) ARISING IN ANY WAY OUT OF THE USE OF THIS SOFTWARE, EVEN IF ADVISED OF THE POSSIBILITY OF SUCH DAMAGE.</span>"
   ]
  },
  {
   "cell_type": "markdown",
   "metadata": {},
   "source": [
    "# EOAP Generator\n",
    "\n",
    "One of the Pathfinder delivery partners, Oxidian, has created a tool to help dev-ops specialists or specialist technicians to create compliant EOAPs that will run on the EODH. The eoap-gen tool can be found here: https://github.com/EO-DataHub/eoap-gen  \n",
    "\n",
    "It describes itself as \"a CLI tool for generating Earth Observation Application Packages including CWL workflows and Dockerfiles from user supplied python scripts\"."
   ]
  },
  {
   "cell_type": "markdown",
   "metadata": {},
   "source": [
    "## Requirements\n",
    "\n",
    "There are three main requirements that are needed for the tool to create a working EOAP. These are:\n",
    "* Python scripts. These must use [argparse](https://docs.python.org/3/library/argparse.html) or [click](https://click.palletsprojects.com/en/stable/) and the parameters will be mapped to the CWL `CommandLineTool` inputs\n",
    "* A `pip` requirements file for each script being wrapped into the EOAP    __TO DO: check this can now also take conda__ \n",
    "* A compliant `eoap-gen` configuration file"
   ]
  },
  {
   "cell_type": "markdown",
   "metadata": {},
   "source": [
    "## Steps\n",
    "\n",
    "A full tutorial is provided with the repository (see https://github.com/EO-DataHub/eoap-gen/blob/main/ades_guide.md). Here, we will outline the main steps required in using the `eoap-gen` tool.\n",
    "\n",
    "The first thing a user is required to do is understand the workflow that they want to wrap. At it's most simple the steps of a workflow are threefold: \n",
    "* find your input data, \n",
    "* process your input data, and \n",
    "* create a STAC output of the processed data. \n",
    "\n",
    "For the `eoap-gen` tool these steps will always be required and when using the workflow runner (WR) (aka ADES) on the EODH the output will always need to be a directory output containing a STAC catalog. When using the EODH it is recommended that the Python API client `pyeodh` is used to access the API endpoints on the Hub. \n",
    "\n",
    "The following directory structure is recommended when using the `eoap-gen` tool:"
   ]
  },
  {
   "cell_type": "code",
   "execution_count": null,
   "metadata": {
    "vscode": {
     "languageId": "plaintext"
    }
   },
   "outputs": [],
   "source": [
    ".github\n",
    "└── workflows\n",
    "    └── build.yml\n",
    "get_urls\n",
    "├── get_urls.py\n",
    "└── get_urls_reqs.txt\n",
    "make_stac\n",
    "├── make_stac.py\n",
    "└── make_stac_reqs.txt\n",
    "config.yml"
   ]
  },
  {
   "cell_type": "markdown",
   "metadata": {},
   "source": [
    "# MORE!"
   ]
  },
  {
   "cell_type": "markdown",
   "metadata": {},
   "source": [
    "## Other tools\n",
    "\n",
    "Other useful tools that you may want to try include:\n",
    "\n",
    "### cwltool\n",
    "The [cwltool](https://cwltool.readthedocs.io/en/latest/index.html) is \"the reference implementation of the Common Workflow Language open standards. It is intended to be feature complete and provide comprehensive validation of CWL files as well as provide other tools related to working with CWL\". It is a commandline tool designed to run locally and is an excellent piece of software to help check that CWL is compliant. It is designed for use on Linux and will also run on a Mac or Windows (through WSL - windows Subsystem for Linux). It can implement Docker, Podman, Singularity and others for the containerisatoion of commandline components.  \n",
    "\n",
    "### scriptcwl\n",
    "[Scriptcwl](https://github.com/NLeSC/scriptcwl) is a Python package for creating CWL workflows and the latest [doscumentation](https://scriptcwl.readthedocs.io/en/latest/) gives an indepth explanation of its use. Be aware that this tool has not been developed on or updated for many years.\n",
    "\n",
    "### cwl-utils\n",
    "Still actively developed, [cwl-utils](https://github.com/common-workflow-language/cwl-utils) provides Python utilities and autogenerated classes for loading and parsing CWL documents. Although not specific to EOAPs this set of tools may be helpful when developing your workflows. [Documentation](https://cwl-utils.readthedocs.io/en/latest/#) is relatively sparse.\n"
   ]
  },
  {
   "cell_type": "markdown",
   "metadata": {},
   "source": [
    "https://github.com/EO-DataHub/eoap-gen/blob/main/ades_guide.md"
   ]
  }
 ],
 "metadata": {
  "language_info": {
   "name": "python"
  }
 },
 "nbformat": 4,
 "nbformat_minor": 2
}
