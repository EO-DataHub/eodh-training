{
 "cells": [
  {
   "cell_type": "markdown",
   "metadata": {},
   "source": [
    "# EOAP Generator\n",
    "\n",
    "One of the Pathfinder delivery partners, Oxidian, has created a tool to help dev-ops specialists or specialist technicians to create compliant EOAPs that will run on the EODH. The eoap-gen tool can be found here: https://github.com/EO-DataHub/eoap-gen  \n",
    "\n",
    "It describes itself as \"a CLI tool for generating Earth Observation Application Packages including CWL workflows and Dockerfiles from user supplied python scripts\"."
   ]
  },
  {
   "cell_type": "markdown",
   "metadata": {},
   "source": []
  },
  {
   "cell_type": "markdown",
   "metadata": {},
   "source": [
    "Other tools exist\n",
    "scriptcwl: https://github.com/NLeSC/scriptcwl and https://scriptcwl.readthedocs.io/en/latest/\n",
    "cwl-utils: https://github.com/common-workflow-language/cwl-utils and https://cwl-utils.readthedocs.io/en/latest/#\n",
    "\n",
    "\n",
    "\n",
    "\n",
    "\n",
    "Installation and set up of eoap-gen\n",
    "\n",
    "\n"
   ]
  },
  {
   "cell_type": "markdown",
   "metadata": {},
   "source": [
    "https://github.com/EO-DataHub/eoap-gen/blob/main/ades_guide.md"
   ]
  }
 ],
 "metadata": {
  "language_info": {
   "name": "python"
  }
 },
 "nbformat": 4,
 "nbformat_minor": 2
}
