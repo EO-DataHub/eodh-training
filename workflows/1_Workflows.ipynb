{
 "cells": [
  {
   "cell_type": "markdown",
   "metadata": {},
   "source": [
    "# What is a Workflow\n",
    "\n",
    "One of the provisioned services made available to users of the EODH is the Workflow Runner (WR). More information about the WR is provided later on this page, but the fundamental question that requires answering is...\n",
    "\n",
    "_<p style=\"text-align:center;\"> In the context of the EODH, what is a workflow? </p>_\n",
    "\n",
    "Using the terminology of the EODH, a workflow is a file written in CWL (the Common Workflow Language) that creates a data processing chain. However, this CWL file only provides the orchestration of a wider set of tools that are brought together as an entity known as an Earth Observation Application Package (EOAP)."
   ]
  },
  {
   "cell_type": "markdown",
   "metadata": {},
   "source": [
    "# What is the Workflow Runner?\n",
    "\n",
    "The WR is a required component of the Hub designed to interprate CWL files and ensure that the algorithms wrapped within them are sensibly scaled across the available infrastructure. In the case of the EODH, the infrastructure is a Kubernetes cluster running on an AWS backend, but this is not a hard-set requirement. \n",
    "\n",
    "The WR itself is a piece of software called ADES. If you want to understand the internal components of the WR then the ADES Design Document is avialable here: https://eoepca.github.io/proc-ades/master/. \n",
    "\n",
    "The use is that EOAPs can be transfered from platform to platform e.g. they could be developed on EODH and run on EOEPCA or the other way round. Platforms run by DLR and NASA also utilise EOAPs and procesisng algorithms can be shared between them.  \n",
    "\n",
    "Good introduction here: https://carpentries-incubator.github.io/cwl-novice-tutorial/aio/index.html"
   ]
  },
  {
   "cell_type": "markdown",
   "metadata": {},
   "source": [
    "# What is CWL?"
   ]
  },
  {
   "cell_type": "markdown",
   "metadata": {},
   "source": [
    "\n",
    "cwltool is a great way to test workflows locally: https://cwltool.readthedocs.io/en/latest/cli.html\n",
    "\n",
    "Good tutorial here: https://andrewjesaitis.com/posts/2017-02-06-cwl-tutorial/\n",
    "\n",
    "Check your workflow: https://view.commonwl.org/\n",
    "\n",
    "Examples - link to Lot 1 & 2\n",
    "Other tools - link to Lot 2 tool\n"
   ]
  },
  {
   "cell_type": "markdown",
   "metadata": {},
   "source": [
    "# How do I create a workflow?\n",
    "\n",
    "The guidance around EOAPs is that handcrafting a package is possible but not recommended. These workflows can become very complex very quickly and it is recommended that some form of tooling is used to automate or semi-automate the generation of an EOAP. As part of the Pathfinder phase of the project, the EODH (via a 3rd party contractor, Oxidian) has created eoap-gen to help specialist technicians to create service workflows. "
   ]
  },
  {
   "cell_type": "markdown",
   "metadata": {},
   "source": []
  }
 ],
 "metadata": {
  "language_info": {
   "name": "python"
  }
 },
 "nbformat": 4,
 "nbformat_minor": 2
}
