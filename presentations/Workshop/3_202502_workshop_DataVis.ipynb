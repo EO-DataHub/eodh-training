{
 "cells": [
  {
   "cell_type": "markdown",
   "metadata": {},
   "source": [
    "# Pathfinder Phase Workshop: Visualising Data"
   ]
  },
  {
   "cell_type": "markdown",
   "metadata": {},
   "source": [
    "__Description & purpose__: This Notebook is designed to showcase the functionality of the Earth Observation Data Hub (EODH) as the project approaches the end of the Pathfinder Phase. It provides a snapshot of the Hub, the `pyeodh` API client and the various datasets as of February 2025.  \n",
    "\n",
    "__Author(s)__: Alastair Graham, Dusan Figala, James Hinton, Daniel Westwood\n",
    "\n",
    "__Date created__: 2025-02-18\n",
    "\n",
    "__Date last modified__: 2025-02-25\n",
    "\n",
    "__Licence__: This notebook is licensed under [Creative Commons Attribution-ShareAlike 4.0 International](https://creativecommons.org/licenses/by-sa/4.0/).  The code is released using the [BSD-2-Clause](https://www.tldrlegal.com/license/bsd-2-clause-license-freebsd) license.\n",
    "\n",
    "\n",
    "<span style=\"font-size:0.75em;\">\n",
    "Copyright (c) , All rights reserved.</span>\n",
    "\n",
    "<span style=\"font-size:0.75em;\">\n",
    "Redistribution and use in source and binary forms, with or without modification, are permitted provided that the following conditions are met:</span>\n",
    "\n",
    "<span style=\"font-size:0.75em;\">\n",
    "Redistributions of source code must retain the above copyright notice, this list of conditions and the following disclaimer. Redistributions in binary form must reproduce the above copyright notice, this list of conditions and the following disclaimer in the documentation and/or other materials provided with the distribution. THIS SOFTWARE IS PROVIDED BY THE COPYRIGHT HOLDERS AND CONTRIBUTORS \"AS IS\" AND ANY EXPRESS OR IMPLIED WARRANTIES, INCLUDING, BUT NOT LIMITED TO, THE IMPLIED WARRANTIES OF MERCHANTABILITY AND FITNESS FOR A PARTICULAR PURPOSE ARE DISCLAIMED. IN NO EVENT SHALL THE COPYRIGHT HOLDER OR CONTRIBUTORS BE LIABLE FOR ANY DIRECT, INDIRECT, INCIDENTAL, SPECIAL, EXEMPLARY, OR CONSEQUENTIAL DAMAGES (INCLUDING, BUT NOT LIMITED TO, PROCUREMENT OF SUBSTITUTE GOODS OR SERVICES; LOSS OF USE, DATA, OR PROFITS; OR BUSINESS INTERRUPTION) HOWEVER CAUSED AND ON ANY THEORY OF LIABILITY, WHETHER IN CONTRACT, STRICT LIABILITY, OR TORT (INCLUDING NEGLIGENCE OR OTHERWISE) ARISING IN ANY WAY OUT OF THE USE OF THIS SOFTWARE, EVEN IF ADVISED OF THE POSSIBILITY OF SUCH DAMAGE.</span>"
   ]
  },
  {
   "cell_type": "markdown",
   "metadata": {},
   "source": [
    "### Presentation set up\n",
    "\n",
    "The following cell only needs to be run on the EODH AppHub.  If you have a local Python environment running, please install the required packages as you would normally."
   ]
  },
  {
   "cell_type": "code",
   "execution_count": null,
   "metadata": {},
   "outputs": [],
   "source": [
    "# If needed you can install a package in the current AppHub Jupyter environment using pip\n",
    "# For instance, we will need at least the following libraries\n",
    "import sys\n",
    "!{sys.executable} -m pip install --upgrade pyeodh geopandas matplotlib numpy folium xarray geoviews hvplot holoviews datashader cartopy"
   ]
  },
  {
   "cell_type": "markdown",
   "metadata": {},
   "source": [
    "# Introduction\n",
    "\n",
    "In this notebook we will explore different ways to visualise data held on the Hub. The Notebooks can be run on the JupyterHub instance on the Hub (linked to your user account) or locally with a suitably set up environment."
   ]
  },
  {
   "cell_type": "code",
   "execution_count": null,
   "metadata": {},
   "outputs": [],
   "source": [
    "# Imports\n",
    "import os\n",
    "\n",
    "# Import the Python API Client\n",
    "import pyeodh\n",
    "\n",
    "import folium\n",
    "import xarray as xr\n",
    "\n",
    "import hvplot.xarray  # Needed for xarray plotting with geoviews\n",
    "import holoviews as hv\n",
    "import datashader as ds\n",
    "from holoviews import opts\n",
    "from holoviews.operation.datashader import rasterize\n",
    "import cartopy.crs as ccrs  # For coordinate reference systems\n",
    "import geoviews as gv\n",
    "\n",
    "import requests\n",
    "from IPython.display import Image, display\n",
    "\n",
    "# Parameterise geoviews\n",
    "gv.extension(\"bokeh\", \"matplotlib\")"
   ]
  },
  {
   "cell_type": "markdown",
   "metadata": {},
   "source": [
    "# Accessing Different DataTypes"
   ]
  },
  {
   "cell_type": "markdown",
   "metadata": {},
   "source": [
    "For this part of the workshop exercises we are going to look at how to visualise two different datasets. This should give you the foundation and understanding about how you could do this for other data held on the Hub and elsewhere. The first thing we need to do is connect to the EODH and get information about the collections we are interested in: cmip6 and the sentinel 2 ARD."
   ]
  },
  {
   "cell_type": "code",
   "execution_count": null,
   "metadata": {},
   "outputs": [],
   "source": [
    "# Connect to the Hub\n",
    "# Change base_url to point to the server that you want to connect to\n",
    "\n",
    "client = pyeodh.Client(\n",
    "    base_url=\"https://staging.eodatahub.org.uk\"\n",
    ").get_catalog_service()\n",
    "\n",
    "catalog = client.get_catalog(\"supported-datasets/catalogs/ceda-stac-catalogue\")\n",
    "\n",
    "# Get each collection\n",
    "cmip6 = catalog.get_collection(\"cmip6\")\n",
    "sentinel2_ard = catalog.get_collection(\"sentinel2_ard\")"
   ]
  },
  {
   "cell_type": "markdown",
   "metadata": {},
   "source": [
    "We can interrogate the temporal and spatial extents of the data holdings. Below, we have printed out one of each for each dataset that we have connected to. This can help us understand what date ranges or spatial extents we can use when visualising the data."
   ]
  },
  {
   "cell_type": "code",
   "execution_count": null,
   "metadata": {},
   "outputs": [],
   "source": [
    "# Get the collection metadata\n",
    "extent = ['spatial', 'temporal']\n",
    "\n",
    "print(\"Dataset extent - CMIP6: \", cmip6.extent.to_dict()[extent[1]])\n",
    "print(\"Dataset extent - Sentinel 2 ARD: \", sentinel2_ard.extent.to_dict()[extent[0]])"
   ]
  },
  {
   "cell_type": "markdown",
   "metadata": {},
   "source": [
    "As this is an exercise, we have already chosen some data to look at.\n",
    "\n",
    "The CMIP6 item has been generated using the CIESM model, running the high-emission SSP5-8.5 scenario. It contains monthly-averaged upward shortwave radiation at the surface (rsus) on a regular grid.\n",
    "\n",
    "The Sentinel 2 ARD image covers an area acros sthe south of England, including the Solent. "
   ]
  },
  {
   "cell_type": "code",
   "execution_count": null,
   "metadata": {},
   "outputs": [],
   "source": [
    "# Look for a specific item\n",
    "cmip6_item = cmip6.get_item(\n",
    "    \"CMIP6.ScenarioMIP.THU.CIESM.ssp585.r1i1p1f1.Amon.rsus.gr.v20200806\"\n",
    ")\n",
    "sentinel_item = sentinel2_ard.get_item(\n",
    "    \"neodc.sentinel_ard.data.sentinel_2.2023.11.17.S2A_20231117_latn509lonw0008_T30UXB_ORB137_20231117131218_utm30n_osgb\"\n",
    ")"
   ]
  },
  {
   "cell_type": "code",
   "execution_count": null,
   "metadata": {},
   "outputs": [],
   "source": [
    "# Get information and links to the item assets held in STAC\n",
    "\n",
    "print(\"---\"*20, \"CMIP6\", \"---\"*20)\n",
    "\n",
    "print(cmip6_item.assets)\n",
    "\n",
    "print(\"\")\n",
    "print(\"---\"*20, \"SENTINEL 2\", \"---\"*20)\n",
    "\n",
    "print(sentinel_item.assets)\n"
   ]
  },
  {
   "cell_type": "markdown",
   "metadata": {},
   "source": [
    "We can then use the information above to gather links to the asset data"
   ]
  },
  {
   "cell_type": "code",
   "execution_count": null,
   "metadata": {},
   "outputs": [],
   "source": [
    "cmip6_kerchunk_asset = cmip6_item.assets[\"reference_file\"]\n",
    "sentinel2_ard_cog_asset = sentinel_item.assets[\"cog\"]\n",
    "\n",
    "# print the href\n",
    "print(cmip6_kerchunk_asset.href)\n",
    "print(sentinel2_ard_cog_asset.href)"
   ]
  },
  {
   "cell_type": "markdown",
   "metadata": {},
   "source": [
    "# Manipulating and plotting data \n",
    "\n",
    "## Plot a single timestep\n",
    "\n",
    "For the next part of this exercise we will undertake the following steps:\n",
    " - Access our CMIP6 Dataset\n",
    " - Extract the dataset (Kerchunk)\n",
    " - Select a single timestep\n",
    " - Plot resulting image"
   ]
  },
  {
   "cell_type": "code",
   "execution_count": null,
   "metadata": {},
   "outputs": [],
   "source": [
    "# Get information on the cloud product\n",
    "product = cmip6_item.get_cloud_products()\n",
    "product"
   ]
  },
  {
   "cell_type": "markdown",
   "metadata": {},
   "source": [
    "We can see that this item contains a single product, a kerchunk reference file which allows us to access the dataset as a single object. The format doesn't actually matter here, as the tools we are using here allows us to open any recognised format into xarray with minimal understanding of the data format on the user side.\n",
    "\n",
    "The following code cell opens the file as an xarray dataset and presents the user with information about the array structure."
   ]
  },
  {
   "cell_type": "code",
   "execution_count": null,
   "metadata": {},
   "outputs": [],
   "source": [
    "ds = product.open_dataset()\n",
    "ds"
   ]
  },
  {
   "cell_type": "markdown",
   "metadata": {},
   "source": [
    "Looking at the output above we can see that the dataset has four `Data variables`. We can perform various selections on the data but specifically we need to choose the variable containng the data to plot, and then select the time step we are interested in. We will use the `geoviews` package to plot the resulting map."
   ]
  },
  {
   "cell_type": "code",
   "execution_count": null,
   "metadata": {},
   "outputs": [],
   "source": [
    "data_var = list(ds.data_vars)[2]  # Choose the data variable (modify if needed)\n",
    "print(\"Variable: \", data_var)\n",
    "\n",
    "timestep = 555 # choose any number within the range presented in the xarray oiutput i.e. up to 1032 in this case\n"
   ]
  },
  {
   "cell_type": "code",
   "execution_count": null,
   "metadata": {},
   "outputs": [],
   "source": [
    "selected_data = ds[data_var].isel(time=timestep)  # Select the data for the time step\n",
    "\n",
    "# Plot the data\n",
    "plot = selected_data.hvplot.quadmesh(\n",
    "    x='lon', y='lat', cmap='plasma', geo=True, \n",
    "    projection=ccrs.PlateCarree(), coastline=True, \n",
    "    title=f\"Time Step: {ds.time.values[timestep]}\"\n",
    ")\n",
    "plot\n"
   ]
  },
  {
   "cell_type": "markdown",
   "metadata": {},
   "source": [
    "## Plot an NDVI Analysis \n",
    "\n",
    "Next we will use the Sentinel 2 ARD dataset to create a simple normalised difference vegetation index (NDVI) - the 'Hello World' of the Earth observation sector! \n",
    "\n",
    "NDVI is a widely used metric that assesses vegetation health and density by measuring the difference between near-infrared (NIR) and red light reflectance. Healthy vegetation absorbs most red light for photosynthesis while reflecting NIR, resulting in high NDVI values (close to +1). Sparse or unhealthy vegetation has lower values, while barren areas like water or built-up surfaces have values near zero or negative. \n",
    "\n",
    "We will undertake the following steps:\n",
    " - Access a Sentinel 2 ARD Dataset.\n",
    " - Open the dataset (COG) file.\n",
    " - Perform calculation for NDVI analysis over an AOI.\n",
    " - Plot resulting image."
   ]
  },
  {
   "cell_type": "markdown",
   "metadata": {},
   "source": [
    "We can access the selected search result as before, and open the cloud product which this time is a Cloud Optimised GeoTiff (COG) file.\n"
   ]
  },
  {
   "cell_type": "code",
   "execution_count": null,
   "metadata": {},
   "outputs": [],
   "source": [
    "product = sentinel_item.get_cloud_products()\n",
    "print(product)\n",
    "ds1 = product.open_dataset()\n",
    "ds1"
   ]
  },
  {
   "cell_type": "markdown",
   "metadata": {},
   "source": [
    "We are using a very simple area of interest (AOI) for this exercise - we define the AOI as slice ranges to apply to the xarray DataArray.\n",
    "\n",
    "There are other spatially contiguous methods for defining AOIs that require handling of projections and spatial file formats that are out of scope for this exercise. These would all work using the data we are manipuulating here. "
   ]
  },
  {
   "cell_type": "code",
   "execution_count": null,
   "metadata": {},
   "outputs": [],
   "source": [
    "# Create a data slice to act as an AOI\n",
    "crop_ds1 = ds1.isel(x=slice(1200, 2200), y=slice(2200, 3200))"
   ]
  },
  {
   "cell_type": "code",
   "execution_count": null,
   "metadata": {},
   "outputs": [],
   "source": [
    "# Extract the red and nir bands for the AOI\n",
    "red = crop_ds1.isel(band=2)\n",
    "nir = crop_ds1.isel(band=6)\n",
    "\n",
    "# Calculate NDVI\n",
    "ndvi = (nir - red) / (nir + red)"
   ]
  },
  {
   "cell_type": "code",
   "execution_count": null,
   "metadata": {},
   "outputs": [],
   "source": [
    "# Plot the NDVI output\n",
    "# Note: clim sets the colourmap limits to allow a data stretch\n",
    "plot = ndvi.hvplot.quadmesh(\n",
    "    x='x', y='y', cmap='RdYlGn', colorbar=True, clim=(0, 1), title=\"Vegetation (NDVI) Plot\"\n",
    ")\n",
    "plot"
   ]
  },
  {
   "cell_type": "markdown",
   "metadata": {},
   "source": [
    "# Streaming data using Titiler\n",
    "\n",
    "In this section we will investigate how to access tiled data that is being served by `titiler`. Titiler is a lightweight, fast and customisable dynamic tile server for geospatial data, built on FastAPI and Rasterio. It enables on-the-fly serving of raster tiles, mosaics, and previews from cloud-optimized GeoTIFFs (COGs) and other raster sources. Designed for scalability and efficiency, Titiler supports advanced features like dynamic tiling, custom styling, and integration with modern web mapping applications. It is increasingly used in geospatial analysis, remote sensing, and web-based GIS applications."
   ]
  },
  {
   "cell_type": "markdown",
   "metadata": {},
   "source": [
    "## Using Preview with COGs"
   ]
  },
  {
   "cell_type": "markdown",
   "metadata": {},
   "source": [
    "Here we can use the `Preview` feature to customise some of the parameters we are going to use to dynamically visualise the data.\n",
    "\n",
    "- `bidx` is the band index we want to preview. In this case, we are previewing the first band.\n",
    "- `rescale` is the range of values we want to display. In this case, we are rescaling the values between 9 and 255. \n",
    "- `colormap_name` is the name of the colormap we want to use. In this case, we are using the `rain_r` colormap.\n",
    "\n",
    "For testing, experiment with different colormaps, here's a few to try:\n",
    "\n",
    "`'accent',  'afmhot', 'afmhot_r', 'algae', 'algae_r', 'amp_r', 'autumn', 'balance', 'binary', 'binary_r', 'blues',  'bone', 'bone_r', 'hot', 'viridis', ...`"
   ]
  },
  {
   "cell_type": "code",
   "execution_count": null,
   "metadata": {},
   "outputs": [],
   "source": [
    "# Set up the parameters \n",
    "ENVIRONMENT = 'staging'\n",
    "\n",
    "COG_PREVIEW_URL = f'https://{ENVIRONMENT}.eodatahub.org.uk/titiler/core/cog/preview'\n",
    "COG_PREVIEW_PARAMS = {\n",
    "    'url': sentinel2_ard_cog_asset.href,\n",
    "    'bidx': 1,\n",
    "    'rescale': '9,255',\n",
    "    'colormap_name': 'rain_r'\n",
    "}\n",
    "\n",
    "# Request the titiler preview\n",
    "response = requests.get(COG_PREVIEW_URL, params=COG_PREVIEW_PARAMS)\n",
    "\n",
    "# Display the image\n",
    "image = Image(response.content)\n",
    "display(image)"
   ]
  },
  {
   "cell_type": "markdown",
   "metadata": {},
   "source": [
    "## Using Preview with Kerchunk"
   ]
  },
  {
   "cell_type": "markdown",
   "metadata": {},
   "source": [
    "Lets follow a similar approach for the xarray data. This xarray data is a Kerchunk dataset - remember that it contains a single variable called `rsus`. We can preview the data similarly to how we previewed the COG data.\n",
    "\n",
    "This time, focus on the `rescale` parameter. This parameter is used to rescale the values of the data. In this example we are rescaling between `-50,100`, but try something new like `50,400` and see how the data changes."
   ]
  },
  {
   "cell_type": "code",
   "execution_count": null,
   "metadata": {},
   "outputs": [],
   "source": [
    "# Set up the parameters\n",
    "ENVIRONMENT = 'staging'\n",
    "\n",
    "XARRAY_PREVIEW_URL = f'https://{ENVIRONMENT}.eodatahub.org.uk/titiler/xarray/tiles/0/0/0'\n",
    "XARRAY_PARAMS = {\n",
    "    'url': cmip6_kerchunk_asset.href,\n",
    "    'variable': 'rsus',\n",
    "    'rescale': '-50,100',\n",
    "    'colormap_name': 'plasma',\n",
    "    'reference' : 'true'\n",
    "}\n",
    "\n",
    "# Build the request\n",
    "constructed_url = f'{XARRAY_PREVIEW_URL}?url={cmip6_kerchunk_asset.href}&variable=rsus&rescale=35,400&colormap_name=plasma&reference=true'\n",
    "print(constructed_url)\n",
    "\n",
    "# Request the titiler preview\n",
    "response = requests.get(XARRAY_PREVIEW_URL, params=XARRAY_PARAMS)\n",
    "\n",
    "# Display the image\n",
    "image = Image(response.content)\n",
    "display(image)"
   ]
  },
  {
   "cell_type": "markdown",
   "metadata": {},
   "source": [
    "## Exploring the Data Using OGC XYZ Tiles"
   ]
  },
  {
   "cell_type": "markdown",
   "metadata": {},
   "source": [
    "Now that we have previewed the datasets, we can use third party tools to also explore the data. To do this, we are going to create an `XYZ` tile endpoint for both the COG data and the Kerchunk data. This can then be used in any third-party tool that supports XYZ tiles e.g. QGIS, OpenLayers, Leaflet, etc.\n",
    "\n",
    "The following code cell builds the URLs we require based on some of the variables that we have already set. It then prints the two URLS that we will need to display andvisualise the data."
   ]
  },
  {
   "cell_type": "code",
   "execution_count": null,
   "metadata": {},
   "outputs": [],
   "source": [
    "# Generate XYZ For COG\n",
    "COG_OGC_URL = 'https://' + ENVIRONMENT + '.eodatahub.org.uk/titiler/core/cog/tiles/WebMercatorQuad/{z}/{x}/{y}'\n",
    "COG_XYZ = COG_OGC_URL + '?' + '&'.join([f'{k}={v}' for k, v in COG_PREVIEW_PARAMS.items()])\n",
    "\n",
    "# Generate XYZ For Xarray\n",
    "XARRAY_OGC_URL = 'https://' + ENVIRONMENT + '.eodatahub.org.uk/titiler/xarray/tiles/WebMercatorQuad/{z}/{x}/{y}'\n",
    "XARRAY_XYZ = XARRAY_OGC_URL + '?' + '&'.join([f'{k}={v}' for k, v in XARRAY_PARAMS.items()])\n",
    "\n",
    "print('Cog XYZ: ', COG_XYZ)\n",
    "print('Kerchunk XYZ', XARRAY_XYZ)"
   ]
  },
  {
   "cell_type": "markdown",
   "metadata": {},
   "source": [
    "We can then use a map viewer package such as `folium` to ingest the `titiler` URL and display it in an interactive way. We do this below for both datasets."
   ]
  },
  {
   "cell_type": "code",
   "execution_count": null,
   "metadata": {},
   "outputs": [],
   "source": [
    "# For the Sentinel dataset\n",
    "m = folium.Map(location=[54.5, -4.5], zoom_start=6)\n",
    "\n",
    "# Add the TiTiler layer\n",
    "folium.raster_layers.TileLayer(\n",
    "    tiles=COG_XYZ,\n",
    "    attr=\"TiTiler\",\n",
    "    name=\"Sentinel 2 ARD Scene\",\n",
    "    overlay=True\n",
    ").add_to(m)\n",
    "\n",
    "# Add a layer control\n",
    "folium.LayerControl().add_to(m)\n",
    "\n",
    "# Display the map\n",
    "m"
   ]
  },
  {
   "cell_type": "code",
   "execution_count": null,
   "metadata": {},
   "outputs": [],
   "source": [
    "#For the CMIP6 dataset\n",
    "m = folium.Map(location=[0, 0], zoom_start=2)\n",
    "\n",
    "# Add the TiTiler layer\n",
    "folium.raster_layers.TileLayer(\n",
    "    tiles=XARRAY_XYZ,\n",
    "    attr=\"TiTiler\",\n",
    "    name=\"CMIP6 Surface Upwelling Shortwave Radiation (W m-2)\",\n",
    "    overlay=True\n",
    ").add_to(m)\n",
    "\n",
    "# Add a layer control\n",
    "folium.LayerControl().add_to(m)\n",
    "\n",
    "# Display the map\n",
    "m"
   ]
  },
  {
   "cell_type": "markdown",
   "metadata": {},
   "source": [
    "In this notebook, we have seen how to access and visualise different data types in different ways.\n",
    "\n",
    "Extra functionality includes the ability to visualise your own Workspace data by passing in your Workspace API key (that you can generate from the `Workspace` tab). You can then visualise your own data on a map.\n",
    "\n",
    "This means you can visualise any of your workflow outputs, commercial data or any other visualisable data you have in your Workspace.\n",
    "\n",
    "An example request would be:\n",
    "```python\n",
    "TITILER_PREVIEW_URL = f'https://{environment}.eodatahub.org.uk/titiler/core/cog/preview'\n",
    "TITILER_PREVIEW_PARAMS = {\n",
    "    'url': WORKFLOW_OUTPUT_ASSET,\n",
    "    'bidx': 1,\n",
    "    'rescale': '9,255',\n",
    "    'colormap_name': 'rain_r'\n",
    "}\n",
    "\n",
    "response = requests.get(TITILER_PREVIEW_URL, params=TITILER_PREVIEW_PARAMS, headers={'Authorization': f'Bearer {WORKSPACE_API_KEY}'}) # Note the headers parameter\n",
    "```\n",
    "\n",
    "Here we are passing the `WORKSPACE_API_KEY` in the headers of the request. This will allow you to visualise your own private data straight from the Platform."
   ]
  }
 ],
 "metadata": {
  "kernelspec": {
   "display_name": "workshop",
   "language": "python",
   "name": "python3"
  },
  "language_info": {
   "codemirror_mode": {
    "name": "ipython",
    "version": 3
   },
   "file_extension": ".py",
   "mimetype": "text/x-python",
   "name": "python",
   "nbconvert_exporter": "python",
   "pygments_lexer": "ipython3",
   "version": "3.12.2"
  }
 },
 "nbformat": 4,
 "nbformat_minor": 2
}
