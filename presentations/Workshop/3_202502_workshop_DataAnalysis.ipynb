{
 "cells": [
  {
   "cell_type": "markdown",
   "id": "fa784be4",
   "metadata": {},
   "source": [
    "# Pathfinder Phase Workshop: Visualising Data"
   ]
  },
  {
   "cell_type": "markdown",
   "id": "1d48c75c",
   "metadata": {},
   "source": [
    "__Description & purpose__: TO DO REWORD  \n",
    "\n",
    "__Author(s)__: Alastair Graham, Dusan Figala, \n",
    "\n",
    "__Date created__: 2025-02-18\n",
    "\n",
    "__Date last modified__: 2025-02-18\n",
    "\n",
    "__Licence__: This notebook is licensed under [Creative Commons Attribution-ShareAlike 4.0 International](https://creativecommons.org/licenses/by-sa/4.0/).  The code is released using the [BSD-2-Clause](https://www.tldrlegal.com/license/bsd-2-clause-license-freebsd) license.\n",
    "\n",
    "\n",
    "<span style=\"font-size:0.75em;\">\n",
    "Copyright (c) , All rights reserved.</span>\n",
    "\n",
    "<span style=\"font-size:0.75em;\">\n",
    "Redistribution and use in source and binary forms, with or without modification, are permitted provided that the following conditions are met:</span>\n",
    "\n",
    "<span style=\"font-size:0.75em;\">\n",
    "Redistributions of source code must retain the above copyright notice, this list of conditions and the following disclaimer. Redistributions in binary form must reproduce the above copyright notice, this list of conditions and the following disclaimer in the documentation and/or other materials provided with the distribution. THIS SOFTWARE IS PROVIDED BY THE COPYRIGHT HOLDERS AND CONTRIBUTORS \"AS IS\" AND ANY EXPRESS OR IMPLIED WARRANTIES, INCLUDING, BUT NOT LIMITED TO, THE IMPLIED WARRANTIES OF MERCHANTABILITY AND FITNESS FOR A PARTICULAR PURPOSE ARE DISCLAIMED. IN NO EVENT SHALL THE COPYRIGHT HOLDER OR CONTRIBUTORS BE LIABLE FOR ANY DIRECT, INDIRECT, INCIDENTAL, SPECIAL, EXEMPLARY, OR CONSEQUENTIAL DAMAGES (INCLUDING, BUT NOT LIMITED TO, PROCUREMENT OF SUBSTITUTE GOODS OR SERVICES; LOSS OF USE, DATA, OR PROFITS; OR BUSINESS INTERRUPTION) HOWEVER CAUSED AND ON ANY THEORY OF LIABILITY, WHETHER IN CONTRACT, STRICT LIABILITY, OR TORT (INCLUDING NEGLIGENCE OR OTHERWISE) ARISING IN ANY WAY OUT OF THE USE OF THIS SOFTWARE, EVEN IF ADVISED OF THE POSSIBILITY OF SUCH DAMAGE.</span>"
   ]
  },
  {
   "cell_type": "markdown",
   "id": "85b26cbb",
   "metadata": {},
   "source": [
    "# Introduction"
   ]
  },
  {
   "cell_type": "markdown",
   "id": "d0c4310b",
   "metadata": {},
   "source": [
    "### Presentation set up\n",
    "\n",
    "The following cell only needs to be run on the EODH AppHub.  If you have a local Python environment running, please install the required packages as you would normally."
   ]
  },
  {
   "cell_type": "code",
   "execution_count": null,
   "id": "a304de62",
   "metadata": {},
   "outputs": [],
   "source": [
    "# If needed you can install a package in the current AppHub Jupyter environment using pip\n",
    "# For instance, we will need at least the following libraries\n",
    "import sys\n",
    "!{sys.executable} -m pip install --upgrade pyeodh pandas matplotlib numpy pillow folium localtileserver"
   ]
  },
  {
   "cell_type": "markdown",
   "id": "9e226956",
   "metadata": {},
   "source": [
    "# EODH: it's data analysis\n",
    "The EODH AppHub (Notebook Service) can be used with `pyeodh` and other libraries (installed using pip) to analyse data and outputs. The following workbook provides a couple of examples of how this could be undertaken."
   ]
  },
  {
   "cell_type": "code",
   "execution_count": null,
   "id": "064dee3c",
   "metadata": {},
   "outputs": [],
   "source": [
    "# Imports\n",
    "import pyeodh\n",
    "\n",
    "import os\n",
    "\n"
   ]
  },
  {
   "cell_type": "markdown",
   "id": "bd1467a4",
   "metadata": {},
   "source": [
    "## a) Viewing data \n",
    "\n",
    "Show some data thumbnails. Mention LocalTileServer\n",
    "Show some climate data"
   ]
  },
  {
   "cell_type": "markdown",
   "id": "15b7d164",
   "metadata": {},
   "source": [
    "## b) Manipulating data \n",
    "\n",
    "Do an NDVI of a subset of an image\n",
    "Show some data plots"
   ]
  },
  {
   "cell_type": "markdown",
   "id": "1ea0b5c0",
   "metadata": {},
   "source": [
    "## c) Streaming data \n",
    "\n",
    "Show some titiler links and discuss how to build your own URL\n",
    "Visualise"
   ]
  }
 ],
 "metadata": {
  "kernelspec": {
   "display_name": "eodh",
   "language": "python",
   "name": "python3"
  },
  "language_info": {
   "codemirror_mode": {
    "name": "ipython",
    "version": 3
   },
   "file_extension": ".py",
   "mimetype": "text/x-python",
   "name": "python",
   "nbconvert_exporter": "python",
   "pygments_lexer": "ipython3",
   "version": "3.12.2"
  }
 },
 "nbformat": 4,
 "nbformat_minor": 5
}
