{
 "cells": [
  {
   "cell_type": "markdown",
   "id": "fa784be4",
   "metadata": {},
   "source": [
    "# Pathfinder Phase Workshop: Setup"
   ]
  },
  {
   "cell_type": "markdown",
   "id": "1d48c75c",
   "metadata": {},
   "source": [
    "__Description & purpose__: This Notebook is designed to explain how Workshop attendees can set up their system ready for the practical exercises. It also explains how to use the Catalogue UI (as avilable at the time of the workshop).     \n",
    "\n",
    "__Author(s)__: Alastair Graham\n",
    "\n",
    "__Date created__: 2025-02-18\n",
    "\n",
    "__Date last modified__: 2025-02-19\n",
    "\n",
    "__Licence__: This notebook is licensed under [Creative Commons Attribution-ShareAlike 4.0 International](https://creativecommons.org/licenses/by-sa/4.0/).  The code is released using the [BSD-2-Clause](https://www.tldrlegal.com/license/bsd-2-clause-license-freebsd) license.\n",
    "\n",
    "\n",
    "<span style=\"font-size:0.75em;\">\n",
    "Copyright (c) , All rights reserved.</span>\n",
    "\n",
    "<span style=\"font-size:0.75em;\">\n",
    "Redistribution and use in source and binary forms, with or without modification, are permitted provided that the following conditions are met:</span>\n",
    "\n",
    "<span style=\"font-size:0.75em;\">\n",
    "Redistributions of source code must retain the above copyright notice, this list of conditions and the following disclaimer. Redistributions in binary form must reproduce the above copyright notice, this list of conditions and the following disclaimer in the documentation and/or other materials provided with the distribution. THIS SOFTWARE IS PROVIDED BY THE COPYRIGHT HOLDERS AND CONTRIBUTORS \"AS IS\" AND ANY EXPRESS OR IMPLIED WARRANTIES, INCLUDING, BUT NOT LIMITED TO, THE IMPLIED WARRANTIES OF MERCHANTABILITY AND FITNESS FOR A PARTICULAR PURPOSE ARE DISCLAIMED. IN NO EVENT SHALL THE COPYRIGHT HOLDER OR CONTRIBUTORS BE LIABLE FOR ANY DIRECT, INDIRECT, INCIDENTAL, SPECIAL, EXEMPLARY, OR CONSEQUENTIAL DAMAGES (INCLUDING, BUT NOT LIMITED TO, PROCUREMENT OF SUBSTITUTE GOODS OR SERVICES; LOSS OF USE, DATA, OR PROFITS; OR BUSINESS INTERRUPTION) HOWEVER CAUSED AND ON ANY THEORY OF LIABILITY, WHETHER IN CONTRACT, STRICT LIABILITY, OR TORT (INCLUDING NEGLIGENCE OR OTHERWISE) ARISING IN ANY WAY OUT OF THE USE OF THIS SOFTWARE, EVEN IF ADVISED OF THE POSSIBILITY OF SUCH DAMAGE.</span>"
   ]
  },
  {
   "cell_type": "markdown",
   "id": "3ee45352",
   "metadata": {},
   "source": [
    "__General Links__:\n",
    "* EO Data Hub: https://eodatahub.org.uk/\n",
    "* CEDA: https://www.ceda.ac.uk/ "
   ]
  },
  {
   "cell_type": "markdown",
   "id": "28523492",
   "metadata": {},
   "source": [
    "# What is the EODH?\n",
    "The Earth Observation Data Hub is:\n",
    "\n",
    "\"A UK Pathfinder project delivering access to Earth Observation (EO) data for effective decisionmaking across government, business and academia. The Earth Observation DataHub (EODH) brings together an expert project delivery team and industrial partners in an ambitious project... Users of the Hub will be able to explore areas of interest in the UK and across the globe... It will also enable selected users to support their own analyses, services and tools using the Hub’s workflow and compute environments.\"\n",
    "\n",
    "More details can be found online at https://eodatahub.org.uk/"
   ]
  },
  {
   "cell_type": "markdown",
   "id": "6b7e744b",
   "metadata": {},
   "source": [
    "Components of the Hub include:\n",
    "\n",
    "* A Resource Catalogue - a STAC compliant catalogue of open and commercial satellite imagery, climate data, model results, workflows and more\n",
    "* A Workflow Runner - a dedicated piece of cloud infrastructure to horizontally scale workflow requirements\n",
    "* A Web Presence - an intuitive user interface to allow account management, data discovery and mapping\n",
    "* An App Hub - a science portal providing access to a Jupyter lab environment "
   ]
  },
  {
   "cell_type": "markdown",
   "id": "08a5e1d6",
   "metadata": {},
   "source": [
    "# Initial steps"
   ]
  },
  {
   "cell_type": "markdown",
   "id": "8e0c20fa",
   "metadata": {},
   "source": [
    "The first step is to log into the system. If you are attending this workshop you should have been provided with an account linked to your GitHub account. Complete the following steps to access the latest Hub platform.\n",
    "\n",
    "* Open up a browser and navigate to https://eodatahub.org.uk/\n",
    "\n",
    "This will provide the landing page that looks as shown in the image below. \n",
    "\n",
    "![](images/01.png \"EODH Landing Page\")\n",
    "\n",
    "* Click on the Sign In button and then click on the `Sign In with GitHub` button. You will need to supply the GitHub account details you pre-registered when signing up to the workshop. \n",
    "\n",
    "![](images/02.png \"Login Page\")\n",
    "\n",
    "Assuming that this has worked successfully then you will be returned to the initial page but you will be logged in and able to access \n"
   ]
  },
  {
   "cell_type": "markdown",
   "id": "32ff985e",
   "metadata": {},
   "source": [
    "Click on the `Workspaces` button at the top of the page and you will be taken to your EODH workspace manager. It should look something like the image below:\n",
    "\n",
    "![](images/03.png \"Workspace\")\n",
    "\n",
    "The next thing to do is set up an API key/token so that you are able to access your own workspace resources and interact with the workflow runner should you so wish. Click on `Credentials` in the list on the left-hand side of the screen and then click on `Request New Token`. Make sure you keep the credentials private to you and ensure that you copy them down. Specifically, you will need the alphanumeric code after `API Key:` but **copy all the details** to a local location. Once you have completed that step your `Credentials` page should look similar to that shown below.\n",
    "\n",
    "![](images/04.png \"Credentials\")\n"
   ]
  },
  {
   "cell_type": "markdown",
   "id": "7c6af138",
   "metadata": {},
   "source": [
    "## The Notebook Service\n",
    "\n",
    "The next thing to do is access the JupyterHub Notebook Service hosted as part of the EODH platform. At the top of the page, click on `Notebooks` and you should be directed to a page that looks like the following:\n",
    "\n",
    "![](images/05.png \"Jupyter Login\")\n",
    "\n",
    "If not already selected (as in the image above) select `EO DataHub` by clicking the radio button to its left and then click `Start`. This will take you to the AppHub and you should see a screen similar to that below (but without any folders or files in the left pane - until you have generated them).\n",
    "\n",
    "![](images/06.png \"JupyterHub\")\n",
    "\n",
    "\n"
   ]
  },
  {
   "cell_type": "markdown",
   "id": "981147d9",
   "metadata": {},
   "source": [
    "**Copy the code in the following cell**. In the EODH AppHub webpage, click on the `Console` button [highlighted in red above] (or `File | New | Console`) and paste the copied code into the console. Press `Shift + return` and the workshop materials should arrive in your session. You may need to wait, or press the refresh icon at the top of the left pane. "
   ]
  },
  {
   "cell_type": "code",
   "execution_count": null,
   "id": "aeba694a",
   "metadata": {},
   "outputs": [],
   "source": [
    "# importing required modules\n",
    "from zipfile import ZipFile\n",
    "\n",
    "! wget https://github.com/EO-DataHub/eodh-training/releases/download/workshop-latest/workshop.zip\n",
    "\n",
    "# specifying the zip file name\n",
    "file_name = \"workshop.zip\"\n",
    "\n",
    "# opening the zip file in READ mode\n",
    "with ZipFile(file_name, \"r\") as zip:\n",
    "    # printing all the contents of the zip file\n",
    "    zip.printdir()\n",
    "\n",
    "    # extracting all the files\n",
    "    print(\"Extracting all the files now...\")\n",
    "    zip.extractall()\n",
    "    print(\"Done!\")"
   ]
  },
  {
   "cell_type": "markdown",
   "id": "eb56e0cf",
   "metadata": {},
   "source": [
    "Only run that code once. If you need to run it more than once, delete or rename the files from the first run or run it in a different folder in your JupyterHub space."
   ]
  }
 ],
 "metadata": {
  "kernelspec": {
   "display_name": "eodh",
   "language": "python",
   "name": "python3"
  },
  "language_info": {
   "codemirror_mode": {
    "name": "ipython",
    "version": 3
   },
   "file_extension": ".py",
   "mimetype": "text/x-python",
   "name": "python",
   "nbconvert_exporter": "python",
   "pygments_lexer": "ipython3",
   "version": "3.12.2"
  }
 },
 "nbformat": 4,
 "nbformat_minor": 5
}
