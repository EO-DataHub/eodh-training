{
 "cells": [
  {
   "cell_type": "markdown",
   "id": "fa784be4",
   "metadata": {},
   "source": [
    "# Demonstration for Space Horizon Scanning Network: DEFRA"
   ]
  },
  {
   "cell_type": "markdown",
   "id": "1d48c75c",
   "metadata": {},
   "source": [
    "__Description & purpose__: This Notebook provides access to the slides presented to Defra in December 2024 and designed to showcase the initial functionality of the Earth Observation Data Hub.   \n",
    "\n",
    "__Author(s)__: Alastair Graham, Dusan Figala, Phil Kershaw\n",
    "\n",
    "__Date created__: 2024-12-13\n",
    "\n",
    "__Date last modified__: 2024-12-17\n",
    "\n",
    "__Licence__: This notebook is licensed under [Creative Commons Attribution-ShareAlike 4.0 International](https://creativecommons.org/licenses/by-sa/4.0/).  The code is released using the [BSD-2-Clause](https://www.tldrlegal.com/license/bsd-2-clause-license-freebsd) license.\n",
    "\n",
    "\n",
    "<span style=\"font-size:0.75em;\">\n",
    "Copyright (c) , All rights reserved.</span>\n",
    "\n",
    "<span style=\"font-size:0.75em;\">\n",
    "Redistribution and use in source and binary forms, with or without modification, are permitted provided that the following conditions are met:</span>\n",
    "\n",
    "<span style=\"font-size:0.75em;\">\n",
    "Redistributions of source code must retain the above copyright notice, this list of conditions and the following disclaimer. Redistributions in binary form must reproduce the above copyright notice, this list of conditions and the following disclaimer in the documentation and/or other materials provided with the distribution. THIS SOFTWARE IS PROVIDED BY THE COPYRIGHT HOLDERS AND CONTRIBUTORS \"AS IS\" AND ANY EXPRESS OR IMPLIED WARRANTIES, INCLUDING, BUT NOT LIMITED TO, THE IMPLIED WARRANTIES OF MERCHANTABILITY AND FITNESS FOR A PARTICULAR PURPOSE ARE DISCLAIMED. IN NO EVENT SHALL THE COPYRIGHT HOLDER OR CONTRIBUTORS BE LIABLE FOR ANY DIRECT, INDIRECT, INCIDENTAL, SPECIAL, EXEMPLARY, OR CONSEQUENTIAL DAMAGES (INCLUDING, BUT NOT LIMITED TO, PROCUREMENT OF SUBSTITUTE GOODS OR SERVICES; LOSS OF USE, DATA, OR PROFITS; OR BUSINESS INTERRUPTION) HOWEVER CAUSED AND ON ANY THEORY OF LIABILITY, WHETHER IN CONTRACT, STRICT LIABILITY, OR TORT (INCLUDING NEGLIGENCE OR OTHERWISE) ARISING IN ANY WAY OUT OF THE USE OF THIS SOFTWARE, EVEN IF ADVISED OF THE POSSIBILITY OF SUCH DAMAGE.</span>"
   ]
  },
  {
   "cell_type": "markdown",
   "id": "3ee45352",
   "metadata": {},
   "source": [
    "__Links__:\n",
    "* Oxidian: https://www.oxidian.com/\n",
    "* CEDA: https://www.ceda.ac.uk/ \n",
    "* EO Data Hub: https://eodatahub.org.uk/"
   ]
  },
  {
   "cell_type": "markdown",
   "id": "28523492",
   "metadata": {},
   "source": [
    "# What is the EODH?\n",
    "The Earth Observation Data Hub is:\n",
    "\n",
    "\"A UK Pathfinder project delivering access to Earth Observation (EO) data for effective decisionmaking across government, business and academia. The Earth Observation DataHub (EODH) brings together an expert project delivery team and industrial partners in an ambitious project... Users of the Hub will be able to explore areas of interest in the UK and across the globe... It will also enable selected users to support their own analyses, services and tools using the Hub’s workflow and compute environments.\"\n",
    "\n",
    "More details can be found online at https://eodatahub.org.uk/"
   ]
  },
  {
   "cell_type": "markdown",
   "id": "6b7e744b",
   "metadata": {},
   "source": [
    "Components of the Hub include:\n",
    "\n",
    "* A Resource Catalogue - a STAC compliant catalogue of open and commercial satellite imagery, climate data, model results, workflows and more\n",
    "* A Workflow Runner - a dedicated piece of cloud infrastructure to horizontally scale workflow requirements\n",
    "* A Web Presence - an intuitive user interface to allow account management, data discovery and mapping\n",
    "* An App Hub - a science portal providing access to a Jupyter lab environment "
   ]
  },
  {
   "cell_type": "markdown",
   "id": "29ddc431",
   "metadata": {},
   "source": [
    "# Slides\n",
    "\n",
    "![Slide 1](../../img/defra1212/Slide1.jpg){width=700px}\n",
    "\n",
    "![Slide 2](../../img/defra1212/Slide2.jpg){width=700px}\n",
    "\n",
    "![Slide 3](../../img/defra1212/Slide3.jpg){width=700px}\n",
    "\n",
    "![Slide 4](../../img/defra1212/Slide4.jpg){width=700px}\n",
    "\n",
    "![Slide 5](../../img/defra1212/Slide5.jpg){width=700px}\n",
    "\n",
    "![Slide 6](../../img/defra1212/Slide6.jpg){width=700px}\n",
    "\n",
    "![Slide 7](../../img/defra1212/Slide7.jpg){width=700px}\n",
    "\n",
    "![Slide 8](../../img/defra1212/Slide8.jpg){width=700px}\n",
    "\n",
    "![Slide 9](../../img/defra1212/Slide9.jpg){width=700px}\n",
    "\n",
    "![Slide 10](../../img/defra1212/Slide10.jpg){width=700px}\n",
    "\n",
    "![Slide 11](../../img/defra1212/Slide11.jpg){width=700px}\n",
    "\n",
    "![Slide 12](../../img/defra1212/Slide12.jpg){width=700px}\n",
    "\n",
    "![Slide 13](../../img/defra1212/Slide13.jpg){width=700px}\n",
    "\n",
    "![Slide 14](../../img/defra1212/Slide14.jpg){width=700px}\n",
    "\n",
    "![Slide 15](../../img/defra1212/Slide15.jpg){width=700px}\n",
    "\n",
    "![Slide 16](../../img/defra1212/Slide16.jpg){width=700px}"
   ]
  }
 ],
 "metadata": {
  "kernelspec": {
   "display_name": "eodh",
   "language": "python",
   "name": "python3"
  },
  "language_info": {
   "codemirror_mode": {
    "name": "ipython",
    "version": 3
   },
   "file_extension": ".py",
   "mimetype": "text/x-python",
   "name": "python",
   "nbconvert_exporter": "python",
   "pygments_lexer": "ipython3",
   "version": "3.12.2"
  }
 },
 "nbformat": 4,
 "nbformat_minor": 5
}
