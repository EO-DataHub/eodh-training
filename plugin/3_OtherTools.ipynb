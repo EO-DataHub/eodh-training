{
 "cells": [
  {
   "cell_type": "markdown",
   "metadata": {},
   "source": [
    "# Hello"
   ]
  },
  {
   "cell_type": "markdown",
   "metadata": {},
   "source": [
    "# Other QGIS Plugins\n",
    "\n",
    "A major benefit derived from constructing the EODH platform from open components is that the technologies and tools can integrate with existing software. One useful pre-existing QGIS plugin is the STAC API Browser.  Use this URL in the STAC API Browser plugin (https://test.eodatahub.org.uk/api/catalogue/stac/catalogs/supported-datasets/ceda-stac-catalogue/) to find assets accessible through the EODH Resource Catalogue (RC). \n",
    "\n",
    "First you need to set up a connection as shown in the screenshot below.\n",
    " \n",
    "![img 1](../img/SAB1.png){width=700px}\n",
    "\n",
    "Then a search can be initiated. Depending on the quality of your connection and the number of returned items this could be slow.\n",
    "\n",
    "![img 2](../img/SAB2.png){width=700px}\n",
    "\n",
    "One useful aspect of this plugin is to plot the returned item boundaries, as shown below. It is also possible to access specific item assets i.e. the data, but this can be very slow given the size of the assets themselves. It is recommended that a tool such as `pyeodh` or the EODH web interface is used to directly access the datasets referenced by the catalogues.  \n",
    "\n",
    "![img 3](../img/SAB3.png){width=700px}"
   ]
  }
 ],
 "metadata": {
  "language_info": {
   "name": "python"
  }
 },
 "nbformat": 4,
 "nbformat_minor": 2
}
