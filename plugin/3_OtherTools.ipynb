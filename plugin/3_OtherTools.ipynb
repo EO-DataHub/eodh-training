{
 "cells": [
  {
   "cell_type": "markdown",
   "metadata": {},
   "source": [
    "__Description & purpose__: TODO \n",
    "\n",
    "__Author(s)__: Alastair Graham, Dusan Figala\n",
    "\n",
    "__Date created__: 2024-12-04\n",
    "\n",
    "__Date last modified__: 2024-12-05\n",
    "\n",
    "__Licence__: This file is licensed under [Creative Commons Attribution-ShareAlike 4.0 International](https://creativecommons.org/licenses/by-sa/4.0/).  Any included code is released using the [BSD-2-Clause](https://www.tldrlegal.com/license/bsd-2-clause-license-freebsd) license.\n",
    "\n",
    "\n",
    "<span style=\"font-size:0.75em;\">\n",
    "Copyright (c) , All rights reserved.</span>\n",
    "\n",
    "<span style=\"font-size:0.75em;\">\n",
    "Redistribution and use in source and binary forms, with or without modification, are permitted provided that the following conditions are met:</span>\n",
    "\n",
    "<span style=\"font-size:0.75em;\">\n",
    "Redistributions of source code must retain the above copyright notice, this list of conditions and the following disclaimer. Redistributions in binary form must reproduce the above copyright notice, this list of conditions and the following disclaimer in the documentation and/or other materials provided with the distribution. THIS SOFTWARE IS PROVIDED BY THE COPYRIGHT HOLDERS AND CONTRIBUTORS \"AS IS\" AND ANY EXPRESS OR IMPLIED WARRANTIES, INCLUDING, BUT NOT LIMITED TO, THE IMPLIED WARRANTIES OF MERCHANTABILITY AND FITNESS FOR A PARTICULAR PURPOSE ARE DISCLAIMED. IN NO EVENT SHALL THE COPYRIGHT HOLDER OR CONTRIBUTORS BE LIABLE FOR ANY DIRECT, INDIRECT, INCIDENTAL, SPECIAL, EXEMPLARY, OR CONSEQUENTIAL DAMAGES (INCLUDING, BUT NOT LIMITED TO, PROCUREMENT OF SUBSTITUTE GOODS OR SERVICES; LOSS OF USE, DATA, OR PROFITS; OR BUSINESS INTERRUPTION) HOWEVER CAUSED AND ON ANY THEORY OF LIABILITY, WHETHER IN CONTRACT, STRICT LIABILITY, OR TORT (INCLUDING NEGLIGENCE OR OTHERWISE) ARISING IN ANY WAY OUT OF THE USE OF THIS SOFTWARE, EVEN IF ADVISED OF THE POSSIBILITY OF SUCH DAMAGE.</span>\n",
    "\n",
    "\n",
    "__Links__:\n",
    "* Oxidian: https://www.oxidian.com/\n",
    "* EO Data Hub: https://eodatahub.org.uk/"
   ]
  },
  {
   "cell_type": "markdown",
   "metadata": {},
   "source": [
    "# Other QGIS Plugins\n",
    "\n",
    "A major benefit derived from constructing the EODH platform from open components is that the technologies and tools can integrate with existing software. One useful pre-existing QGIS plugin is the STAC API Browser.  Use this URL in the STAC API Browser plugin (https://test.eodatahub.org.uk/api/catalogue/stac/catalogs/supported-datasets/ceda-stac-catalogue/) to find assets accessible through the EODH Resource Catalogue (RC). \n",
    "\n",
    "First you need to set up a connection as shown in the screenshot below.\n",
    " \n",
    "![img 1](../img/SAB1.png){width=700px}\n",
    "\n",
    "Then a search can be initiated. Depending on the quality of your connection and the number of returned items this could be slow.\n",
    "\n",
    "![img 2](../img/SAB2.png){width=700px}\n",
    "\n",
    "One useful aspect of this plugin is to plot the returned item boundaries, as shown below. It is also possible to access specific item assets i.e. the data, but this can be very slow given the size of the assets themselves. It is recommended that a tool such as `pyeodh` or the EODH web interface is used to directly access the datasets referenced by the catalogues.  \n",
    "\n",
    "![img 3](../img/SAB3.png){width=700px}"
   ]
  }
 ],
 "metadata": {
  "language_info": {
   "name": "python"
  }
 },
 "nbformat": 4,
 "nbformat_minor": 2
}
