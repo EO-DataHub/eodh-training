{
 "cells": [
  {
   "cell_type": "markdown",
   "metadata": {},
   "source": [
    "# Workflows from the Plugin"
   ]
  },
  {
   "cell_type": "markdown",
   "metadata": {},
   "source": [
    "__Description & purpose__: This notebook steps a user through the main way to use the QGIS plugin. \n",
    "\n",
    "__Author(s)__: Alastair Graham, Dusan Figala\n",
    "\n",
    "__Date created__: 2024-12-18\n",
    "\n",
    "__Date last modified__: 2024-12-18\n",
    "\n",
    "__Licence__: This file is licensed under [Creative Commons Attribution-ShareAlike 4.0 International](https://creativecommons.org/licenses/by-sa/4.0/).  Any included code is released using the [BSD-2-Clause](https://www.tldrlegal.com/license/bsd-2-clause-license-freebsd) license.\n",
    "\n",
    "\n",
    "<span style=\"font-size:0.75em;\">\n",
    "Copyright (c) , All rights reserved.</span>\n",
    "\n",
    "<span style=\"font-size:0.75em;\">\n",
    "Redistribution and use in source and binary forms, with or without modification, are permitted provided that the following conditions are met:</span>\n",
    "\n",
    "<span style=\"font-size:0.75em;\">\n",
    "Redistributions of source code must retain the above copyright notice, this list of conditions and the following disclaimer. Redistributions in binary form must reproduce the above copyright notice, this list of conditions and the following disclaimer in the documentation and/or other materials provided with the distribution. THIS SOFTWARE IS PROVIDED BY THE COPYRIGHT HOLDERS AND CONTRIBUTORS \"AS IS\" AND ANY EXPRESS OR IMPLIED WARRANTIES, INCLUDING, BUT NOT LIMITED TO, THE IMPLIED WARRANTIES OF MERCHANTABILITY AND FITNESS FOR A PARTICULAR PURPOSE ARE DISCLAIMED. IN NO EVENT SHALL THE COPYRIGHT HOLDER OR CONTRIBUTORS BE LIABLE FOR ANY DIRECT, INDIRECT, INCIDENTAL, SPECIAL, EXEMPLARY, OR CONSEQUENTIAL DAMAGES (INCLUDING, BUT NOT LIMITED TO, PROCUREMENT OF SUBSTITUTE GOODS OR SERVICES; LOSS OF USE, DATA, OR PROFITS; OR BUSINESS INTERRUPTION) HOWEVER CAUSED AND ON ANY THEORY OF LIABILITY, WHETHER IN CONTRACT, STRICT LIABILITY, OR TORT (INCLUDING NEGLIGENCE OR OTHERWISE) ARISING IN ANY WAY OUT OF THE USE OF THIS SOFTWARE, EVEN IF ADVISED OF THE POSSIBILITY OF SUCH DAMAGE.</span>\n"
   ]
  },
  {
   "cell_type": "markdown",
   "metadata": {},
   "source": [
    "# Connect to the EODH\n",
    "\n",
    "The first thing a user will need to do is supply their username an API token under the **Settings** tab. In this screengrab we can see that user `gary` is logging in to their EODH workspace. Plugin and pyeodh updates can also be installed from this part of the plugin.\n",
    "\n",
    "![](../img/plug/p1.png){width=800px} "
   ]
  },
  {
   "cell_type": "markdown",
   "metadata": {},
   "source": [
    "# Choose and Parameterise \n",
    "In `gary`'s workspace are two available workflows:\n",
    "* echo\n",
    "* convert-url\n",
    "\n",
    "It is up to the creator of the workflow to provide a useful description for the CWL workflow. Also, if users will need to run them, the workflow should be held in an online location with accessible help and about information so that the user understands what the workflow does and how much resource it might use.\n",
    "\n",
    "![](../img/plug/p2.png){width=800px} \n",
    "\n",
    "The convert-url workflow is a small demonstrator that takes the URL to an image and resizes it. This is the workflow used in this demonstrtaion. The image to be resized is the thumbnail for a sentinel2_ard asset available through the EODH. The thumbnail is accessible [here](https://dap.ceda.ac.uk/neodc/sentinel_ard/data/sentinel_2/2023/02/13/S2A_20230213_lat55lon213_T30UWG_ORB037_utm30n_osgb_vmsk_sharp_rad_srefdem_stdsref_thumbnail.jpg) and is shown below.\n",
    "\n",
    "![](https://dap.ceda.ac.uk/neodc/sentinel_ard/data/sentinel_2/2023/02/13/S2A_20230213_lat55lon213_T30UWG_ORB037_utm30n_osgb_vmsk_sharp_rad_srefdem_stdsref_thumbnail.jpg){width=800px}\n",
    "\n",
    "Once the user clicks on the **Execute** button they are taken to the parameterisation configuration. This rebuilds for different workflows, depending on the required inputs. Here we can see that a function (resize), a resizing value (50%) and the URL to the image are required. Once completed the user will press **Execute** to complete the processing.\n",
    "![](../img/plug/p5.png){width=900px} \n",
    "\n",
    "\n"
   ]
  },
  {
   "cell_type": "markdown",
   "metadata": {},
   "source": [
    "# Success!\n",
    "\n",
    "The plugin will report back the progress of the workflow on the platform. It will also provide access to any outputs, which will laso be available through the workspace interface on the user's web prescence.  \n",
    "\n",
    "![](../img/plug/p3.png){width=900px} \n",
    "\n",
    "Information about a workflow run is also stored under the **Jobs** tab. From here, the status of all jobs that have been run in a user's workspace will be available to be interrogated.\n",
    "\n",
    "![](../img/plug/p4.png){width=900px} "
   ]
  }
 ],
 "metadata": {
  "language_info": {
   "name": "python"
  }
 },
 "nbformat": 4,
 "nbformat_minor": 2
}
