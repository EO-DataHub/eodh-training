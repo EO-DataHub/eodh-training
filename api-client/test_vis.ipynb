{
 "cells": [
  {
   "cell_type": "code",
   "execution_count": 17,
   "metadata": {},
   "outputs": [],
   "source": [
    "# Set up reference to pyeodh so that I can import the dev version\n",
    "import sys\n",
    "\n",
    "sys.path.insert(0, '/home/al/Documents/EODH/Code/pyeodh')"
   ]
  },
  {
   "cell_type": "markdown",
   "metadata": {},
   "source": [
    "Import the pyeodh module"
   ]
  },
  {
   "cell_type": "code",
   "execution_count": 18,
   "metadata": {},
   "outputs": [],
   "source": [
    "import pyeodh\n",
    "\n",
    "client = pyeodh.Client(base_url=\"https://test.eodatahub.org.uk\") # Optionally specify a different server\n",
    "# e.g. base_url=\"https://api.stac.ceda.ac.uk/\""
   ]
  },
  {
   "cell_type": "markdown",
   "metadata": {},
   "source": [
    "Fetch the Resource Catalogue"
   ]
  },
  {
   "cell_type": "code",
   "execution_count": 26,
   "metadata": {},
   "outputs": [
    {
     "name": "stderr",
     "output_type": "stream",
     "text": [
      "DEBUG: _request_json_raw received {'self': <pyeodh.client.Client object at 0x70082ff62000>, 'method': 'GET', 'url': '/stac-fastapi', 'headers': None, 'params': None, 'data': None}\n",
      "DEBUG: Received not absolute url: /stac-fastapi\n",
      "DEBUG: Created url from base: https://test.eodatahub.org.uk/stac-fastapi\n",
      "DEBUG: Making request: GET https://test.eodatahub.org.uk/stac-fastapi\n",
      "       headers: {'Content-Type': 'application/json'}\n",
      "       params: None\n",
      "       body: None\n",
      "DEBUG: Received response 200\n",
      "       headers: {'Content-Type': 'application/json', 'Content-Length': '757', 'Connection': 'keep-alive', 'Date': 'Thu, 16 May 2024 14:34:32 GMT', 'content-encoding': 'br', 'vary': 'Accept-Encoding', 'Strict-Transport-Security': 'max-age=31536000; includeSubDomains', 'X-Cache': 'Miss from cloudfront', 'Via': '1.1 17a77a72dc1e9981253a822e540e37c2.cloudfront.net (CloudFront)', 'X-Amz-Cf-Pop': 'LHR50-P1', 'X-Amz-Cf-Id': 'Srwp6Sw2qokY6YXK4JKo-LK2HP5JEqc4XE8ff-J7Y_vpB6fL60biqw=='}\n",
      "       content: {\"type\":\"Catalog\",\"id\":\"stac-fastapi\",\"title\":\"stac-fastapi-elasticsearch\",\"description\":\"A STAC FastAPI with an Elasticsearch backend\",\"stac_version\":\"1.0.0\",\"conformsTo\":[\"http://www.opengis.net/spec/ogcapi-common-2/1.0/conf/simple-query\",\"https://api.stacspec.org/v1.0.0-rc.1/core\",\"https://api.stacspec.org/v1.0.0-rc.1/collection-search#free-text\",\"http://www.opengis.net/spec/ogcapi-features-3/1.0/conf/features-filter\",\"https://api.stacspec.org/v1.0.0-rc.2/item-search#filter\",\"http://www.opengis.net/spec/cql2/1.0/conf/advanced-comparison-operators\",\"http://www.opengis.net/spec/ogcapi-features-1/1.0/conf/geojson\",\"/catalogues\",\"http://www.opengis.net/spec/cql2/1.0/conf/cql2-json\",\"http://www.opengis.net/spec/cql2/1.0/conf/basic-cql2\",\"https://api.stacspec.org/v1.0.0/core\",\"https://api.stacspec.org/v1.0.0/item-search#fields\",\"https://api.stacspec.org/v1.0.0-rc.1/collection-search\",\"https://api.stacspec.org/v1.0.0-rc.2/item-search#context\",\"https://api.stacspec.org/v1.0.0/item-search#sort\",\"https://api.stacspec.org/v1.0.0/ogcapi-features\",\"http://www.opengis.net/spec/ogcapi-features-1/1.0/conf/oas30\",\"https://api.stacspec.org/v1.0.0-rc.3/ogcapi-features/extensions/transaction\",\"https://api.stacspec.org/v1.0.0/item-search#query\",\"https://api.stacspec.org/v1.0.0/item-search\",\"http://www.opengis.net/spec/cql2/1.0/conf/cql2-text\",\"http://www.opengis.net/spec/ogcapi-features-3/1.0/conf/filter\",\"/discovery-search\",\"https://api.stacspec.org/v1.0.0/collections\",\"http://www.opengis.net/spec/ogcapi-features-1/1.0/conf/core\"],\"links\":[{\"rel\":\"self\",\"type\":\"application/json\",\"href\":\"https://test.eodatahub.org.uk/stac-fastapi/\"},{\"rel\":\"root\",\"type\":\"application/json\",\"href\":\"https://test.eodatahub.org.uk/stac-fastapi/\"},{\"rel\":\"data\",\"type\":\"application/json\",\"href\":\"https://test.eodatahub.org.uk/stac-fastapi/catalogs\"},{\"rel\":\"conformance\",\"type\":\"application/json\",\"title\":\"STAC/WFS3 conformance classes implemented by this server\",\"href\":\"https://test.eodatahub.org.uk/stac-fastapi/conformance\"},{\"rel\":\"search\",\"type\":\"application/geo+json\",\"title\":\"STAC search\",\"href\":\"https://test.eodatahub.org.uk/stac-fastapi/search\",\"method\":\"GET\"},{\"rel\":\"search\",\"type\":\"application/geo+json\",\"title\":\"STAC search\",\"href\":\"https://test.eodatahub.org.uk/stac-fastapi/search\",\"method\":\"POST\"},{\"rel\":\"child\",\"type\":\"application/json\",\"title\":\"default-catalog\",\"href\":\"https://test.eodatahub.org.uk/stac-fastapi/catalogs/default-catalog\"},{\"rel\":\"child\",\"type\":\"application/json\",\"title\":\"Earth Search by Element 84\",\"href\":\"https://test.eodatahub.org.uk/stac-fastapi/catalogs/earth-search-aws\"},{\"rel\":\"child\",\"type\":\"application/json\",\"title\":\"Supported Datasets\",\"href\":\"https://test.eodatahub.org.uk/stac-fastapi/catalogs/stac-fastapi\"},{\"rel\":\"child\",\"type\":\"application/json\",\"title\":\"test-catalog\",\"href\":\"https://test.eodatahub.org.uk/stac-fastapi/catalogs/test-catalog\"},{\"rel\":\"service-desc\",\"type\":\"application/vnd.oai.openapi+json;version=3.0\",\"title\":\"OpenAPI service description\",\"href\":\"https://test.eodatahub.org.uk/stac-fastapi/api\"},{\"rel\":\"service-doc\",\"type\":\"text/html\",\"title\":\"OpenAPI service documentation\",\"href\":\"https://test.eodatahub.org.uk/stac-fastapi/api.html\"}],\"stac_extensions\":[]}\n"
     ]
    }
   ],
   "source": [
    "# GET /stac-fastapi\n",
    "rc = client.get_resource_catalog()"
   ]
  },
  {
   "cell_type": "code",
   "execution_count": 27,
   "metadata": {},
   "outputs": [
    {
     "name": "stdout",
     "output_type": "stream",
     "text": [
      "id:  stac-fastapi\n",
      "description:  A STAC FastAPI with an Elasticsearch backend\n",
      "Title:  stac-fastapi-elasticsearch\n"
     ]
    }
   ],
   "source": [
    "print(\"id: \", rc.id)\n",
    "print(\"description: \", rc.description)\n",
    "print(\"Title: \", rc.title)\n",
    "#print(\"stac_version: \", rc.stac_version) # broken"
   ]
  },
  {
   "cell_type": "code",
   "execution_count": 28,
   "metadata": {},
   "outputs": [
    {
     "name": "stderr",
     "output_type": "stream",
     "text": [
      "DEBUG: _request_json_raw received {'self': <pyeodh.client.Client object at 0x70082ff62000>, 'method': 'GET', 'url': 'https://test.eodatahub.org.uk/stac-fastapi/catalogs', 'headers': None, 'params': None, 'data': None}\n",
      "DEBUG: Making request: GET https://test.eodatahub.org.uk/stac-fastapi/catalogs\n",
      "       headers: {'Content-Type': 'application/json'}\n",
      "       params: None\n",
      "       body: None\n",
      "DEBUG: Received response 200\n",
      "       headers: {'Content-Type': 'application/json', 'Content-Length': '1142', 'Connection': 'keep-alive', 'Date': 'Thu, 16 May 2024 14:34:43 GMT', 'content-encoding': 'br', 'vary': 'Accept-Encoding', 'Strict-Transport-Security': 'max-age=31536000; includeSubDomains', 'X-Cache': 'Miss from cloudfront', 'Via': '1.1 17a77a72dc1e9981253a822e540e37c2.cloudfront.net (CloudFront)', 'X-Amz-Cf-Pop': 'LHR50-P1', 'X-Amz-Cf-Id': '60i4X7EawW2wqA5DHmjXth25MSaO1VprCZawhpsPj35kA7xLMePeeQ=='}\n",
      "       content: {\"catalogs\":[{\"type\":\"Catalog\",\"id\":\"default-catalog\",\"stac_version\":\"1.0.0\",\"description\":\"Root catalog\",\"links\":[{\"rel\":\"self\",\"type\":\"application/json\",\"href\":\"https://test.eodatahub.org.uk/stac-fastapi/catalogs/default-catalog\"},{\"rel\":\"parent\",\"type\":\"application/json\",\"href\":\"https://test.eodatahub.org.uk/stac-fastapi/\"},{\"rel\":\"root\",\"type\":\"application/json\",\"href\":\"https://test.eodatahub.org.uk/stac-fastapi/\"},{\"rel\":\"child\",\"href\":\"s3://eodhp-ades-dev/processing-results/093927f4-12ad-11ef-94e9-7e375e8a9c97/093927f4-12ad-11ef-94e9-7e375e8a9c97/collection.json\",\"type\":\"application/json\",\"title\":\"Processing results\"}],\"stac_extensions\":[],\"title\":\"\"},{\"stac_version\":\"1.0.0\",\"type\":\"Catalog\",\"id\":\"earth-search-aws\",\"title\":\"Earth Search by Element 84\",\"description\":\"A STAC API of public datasets on AWS\",\"links\":[{\"rel\":\"self\",\"type\":\"application/json\",\"href\":\"https://test.eodatahub.org.uk/stac-fastapi/catalogs/earth-search-aws\"},{\"rel\":\"parent\",\"type\":\"application/json\",\"href\":\"https://test.eodatahub.org.uk/stac-fastapi/\"},{\"rel\":\"root\",\"type\":\"application/json\",\"href\":\"https://test.eodatahub.org.uk/stac-fastapi/\"},{\"rel\":\"conformance\",\"type\":\"application/json\",\"href\":\"https://test.eodatahub.org.uk/catalogue-data/element84-data/conformance.json\"},{\"rel\":\"data\",\"type\":\"application/json\",\"href\":\"https://test.eodatahub.org.uk/catalogue-data/element84-data/collections.json\"},{\"rel\":\"search\",\"type\":\"application/geo+json\",\"href\":\"https://test.eodatahub.org.uk/catalogue-data/element84-data/search.json\",\"method\":\"GET\"},{\"rel\":\"search\",\"type\":\"application/geo+json\",\"href\":\"https://test.eodatahub.org.uk/catalogue-data/element84-data/search.json\",\"method\":\"POST\"},{\"rel\":\"aggregate\",\"type\":\"application/json\",\"href\":\"https://test.eodatahub.org.uk/catalogue-data/element84-data/aggregate.json\",\"method\":\"GET\"},{\"rel\":\"aggregations\",\"type\":\"application/json\",\"href\":\"https://test.eodatahub.org.uk/catalogue-data/element84-data/aggregations.json\"},{\"rel\":\"service-desc\",\"type\":\"application/vnd.oai.openapi\",\"href\":\"https://test.eodatahub.org.uk/catalogue-data/element84-data/api.json\"},{\"rel\":\"service-doc\",\"type\":\"text/html\",\"href\":\"https://test.eodatahub.org.uk/catalogue-data/element84-data/api.html.json\"},{\"rel\":\"http:/www.opengis.net/def/rel/ogc/1.0/queryables\",\"type\":\"application/schema+json\",\"href\":\"https://test.eodatahub.org.uk/catalogue-data/element84-data/queryables.json\"},{\"rel\":\"server\",\"type\":\"text/html\",\"href\":\"https://test.eodatahub.org.uk/stac-server/\"},{\"rel\":\"child\",\"type\":\"application/geo+json\",\"href\":\"https://test.eodatahub.org.uk/catalogue-data/element84-data/collections/cop-dem-glo-30.json\"},{\"rel\":\"child\",\"type\":\"application/geo+json\",\"href\":\"https://test.eodatahub.org.uk/catalogue-data/element84-data/collections/naip.json\"},{\"rel\":\"child\",\"type\":\"application/geo+json\",\"href\":\"https://test.eodatahub.org.uk/catalogue-data/element84-data/collections/sentinel-2-l2a.json\"},{\"rel\":\"child\",\"type\":\"application/geo+json\",\"href\":\"https://test.eodatahub.org.uk/catalogue-data/element84-data/collections/sentinel-2-l1c.json\"},{\"rel\":\"child\",\"type\":\"application/geo+json\",\"href\":\"https://test.eodatahub.org.uk/catalogue-data/element84-data/collections/cop-dem-glo-90.json\"},{\"rel\":\"child\",\"type\":\"application/geo+json\",\"href\":\"https://test.eodatahub.org.uk/catalogue-data/element84-data/collections/landsat-c2-l2.json\"},{\"rel\":\"child\",\"type\":\"application/geo+json\",\"href\":\"https://test.eodatahub.org.uk/catalogue-data/element84-data/collections/sentinel-1-grd.json\"},{\"rel\":\"child\",\"type\":\"application/geo+json\",\"href\":\"https://test.eodatahub.org.uk/catalogue-data/element84-data/collections/sentinel-2-c1-l2a.json\"}],\"conformsTo\":[\"https://api.stacspec.org/v1.0.0/core\",\"https://api.stacspec.org/v1.0.0/collections\",\"https://api.stacspec.org/v1.0.0/ogcapi-features\",\"https://api.stacspec.org/v1.0.0/item-search\",\"https://api.stacspec.org/v1.0.0/ogcapi-features#fields\",\"https://api.stacspec.org/v1.0.0/ogcapi-features#sort\",\"https://api.stacspec.org/v1.0.0/ogcapi-features#query\",\"https://api.stacspec.org/v1.0.0/item-search#fields\",\"https://api.stacspec.org/v1.0.0/item-search#sort\",\"https://api.stacspec.org/v1.0.0/item-search#query\",\"https://api.stacspec.org/v0.3.0/aggregation\",\"http:/www.opengis.net/spec/ogcapi-features-1/1.0/conf/core\",\"http:/www.opengis.net/spec/ogcapi-features-1/1.0/conf/oas30\",\"http:/www.opengis.net/spec/ogcapi-features-1/1.0/conf/geojson\"],\"stac_extensions\":[]},{\"type\":\"Catalog\",\"id\":\"stac-fastapi\",\"title\":\"Supported Datasets\",\"description\":\"Catalogue containing supported datasets\",\"stac_version\":\"1.0.0\",\"conformsTo\":[\"http:/www.opengis.net/spec/ogcapi-features-3/1.0/conf/features-filter\",\"http:/www.opengis.net/spec/cql2/1.0/conf/basic-cql2\",\"https://api.stacspec.org/v1.0.0/core\",\"https://api.stacspec.org/v1.0.0/collections\",\"https://api.stacspec.org/v1.0.0/item-search#sort\",\"http:/www.opengis.net/spec/cql2/1.0/conf/cql2-json\",\"http:/www.opengis.net/spec/cql2/1.0/conf/cql2-text\",\"https://api.stacspec.org/v1.0.0-rc.2/item-search#filter\",\"http:/www.opengis.net/spec/ogcapi-features-3/1.0/conf/filter\",\"https://api.stacspec.org/v1.0.0/item-search#query\",\"https://api.stacspec.org/v1.0.0-rc.2/item-search#context\",\"http:/www.opengis.net/spec/ogcapi-features-1/1.0/conf/core\",\"http:/www.opengis.net/spec/ogcapi-features-1/1.0/conf/oas30\",\"http:/www.opengis.net/spec/ogcapi-features-1/1.0/conf/geojson\",\"https://api.stacspec.org/v1.0.0/item-search\",\"https://api.stacspec.org/v1.0.0/item-search#fields\",\"https://api.stacspec.org/v1.0.0/ogcapi-features\"],\"links\":[{\"rel\":\"self\",\"type\":\"application/json\",\"href\":\"https://test.eodatahub.org.uk/stac-fastapi/catalogs/stac-fastapi\"},{\"rel\":\"parent\",\"type\":\"application/json\",\"href\":\"https://test.eodatahub.org.uk/stac-fastapi/\"},{\"rel\":\"root\",\"type\":\"application/json\",\"href\":\"https://test.eodatahub.org.uk/stac-fastapi/\"},{\"rel\":\"data\",\"type\":\"application/json\",\"href\":\"https://test.eodatahub.org.uk/catalogue-data/supported/collections.json\"},{\"rel\":\"conformance\",\"type\":\"application/json\",\"title\":\"STAC/WFS3 conformance classes implemented by this server\",\"href\":\"https://test.eodatahub.org.uk/catalogue-data/supported/conformance.json\"},{\"rel\":\"search\",\"type\":\"application/geo+json\",\"title\":\"STAC search\",\"href\":\"https://test.eodatahub.org.uk/catalogue-data/supported/search.json\",\"method\":\"GET\"},{\"rel\":\"search\",\"type\":\"application/geo+json\",\"title\":\"STAC search\",\"href\":\"https://test.eodatahub.org.uk/catalogue-data/supported/search.json\",\"method\":\"POST\"},{\"rel\":\"child\",\"type\":\"application/json\",\"title\":\"cmip6\",\"href\":\"https://test.eodatahub.org.uk/catalogue-data/supported/collections/cmip6.json\"},{\"rel\":\"child\",\"type\":\"application/json\",\"title\":\"cordex\",\"href\":\"https://test.eodatahub.org.uk/catalogue-data/supported/collections/cordex.json\"},{\"rel\":\"child\",\"type\":\"application/json\",\"title\":\"sentinel1\",\"href\":\"https://test.eodatahub.org.uk/catalogue-data/supported/collections/sentinel1.json\"},{\"rel\":\"child\",\"type\":\"application/json\",\"title\":\"sentinel2_ard\",\"href\":\"https://test.eodatahub.org.uk/catalogue-data/supported/collections/sentinel2_ard.json\"},{\"rel\":\"child\",\"type\":\"application/json\",\"title\":\"ukcp\",\"href\":\"https://test.eodatahub.org.uk/catalogue-data/supported/collections/ukcp.json\"},{\"rel\":\"service-desc\",\"type\":\"application/vnd.oai.openapi+json;version=3.0\",\"title\":\"OpenAPI service description\",\"href\":\"https://test.eodatahub.org.uk/catalogue-data/supported/api.json\"},{\"rel\":\"service-doc\",\"type\":\"text/html\",\"title\":\"OpenAPI service documentation\",\"href\":\"https://test.eodatahub.org.uk/catalogue-data/supported/api.html.json\"}],\"stac_extensions\":[]},{\"type\":\"Catalog\",\"id\":\"test-catalog\",\"stac_version\":\"1.0.0\",\"description\":\"Root catalog\",\"links\":[{\"rel\":\"self\",\"type\":\"application/json\",\"href\":\"https://test.eodatahub.org.uk/stac-fastapi/catalogs/test-catalog\"},{\"rel\":\"parent\",\"type\":\"application/json\",\"href\":\"https://test.eodatahub.org.uk/stac-fastapi/\"},{\"rel\":\"root\",\"type\":\"application/json\",\"href\":\"https://test.eodatahub.org.uk/stac-fastapi/\"},{\"rel\":\"child\",\"href\":\"s3://eodhp-ades-dev/processing-results/093927f4-12ad-11ef-94e9-7e375e8a9c97/093927f4-12ad-11ef-94e9-7e375e8a9c97/collection.json\",\"type\":\"application/json\",\"title\":\"Processing results\"}],\"stac_extensions\":[],\"title\":\"\"}],\"links\":[{\"rel\":\"root\",\"type\":\"application/json\",\"href\":\"https://test.eodatahub.org.uk/stac-fastapi/\"},{\"rel\":\"parent\",\"type\":\"application/json\",\"href\":\"https://test.eodatahub.org.uk/stac-fastapi/\"},{\"rel\":\"self\",\"type\":\"application/json\",\"href\":\"https://test.eodatahub.org.uk/stac-fastapi/catalogs\"}]}\n",
      "DEBUG: _request_json_raw received {'self': <pyeodh.client.Client object at 0x70082ff62000>, 'method': 'GET', 'url': 'https://test.eodatahub.org.uk/stac-fastapi/catalogs', 'headers': None, 'params': None, 'data': None}\n",
      "DEBUG: Making request: GET https://test.eodatahub.org.uk/stac-fastapi/catalogs\n",
      "       headers: {'Content-Type': 'application/json'}\n",
      "       params: None\n",
      "       body: None\n",
      "DEBUG: Received response 200\n",
      "       headers: {'Content-Type': 'application/json', 'Content-Length': '1142', 'Connection': 'keep-alive', 'Date': 'Thu, 16 May 2024 14:34:43 GMT', 'content-encoding': 'br', 'vary': 'Accept-Encoding', 'Strict-Transport-Security': 'max-age=31536000; includeSubDomains', 'X-Cache': 'Miss from cloudfront', 'Via': '1.1 17a77a72dc1e9981253a822e540e37c2.cloudfront.net (CloudFront)', 'X-Amz-Cf-Pop': 'LHR50-P1', 'X-Amz-Cf-Id': '-dwaybe3nnYbF_BQyCxlGha0CAd_zM8rTiYV-m77EzYiJA88Dj2N0Q=='}\n",
      "       content: {\"catalogs\":[{\"type\":\"Catalog\",\"id\":\"default-catalog\",\"stac_version\":\"1.0.0\",\"description\":\"Root catalog\",\"links\":[{\"rel\":\"self\",\"type\":\"application/json\",\"href\":\"https://test.eodatahub.org.uk/stac-fastapi/catalogs/default-catalog\"},{\"rel\":\"parent\",\"type\":\"application/json\",\"href\":\"https://test.eodatahub.org.uk/stac-fastapi/\"},{\"rel\":\"root\",\"type\":\"application/json\",\"href\":\"https://test.eodatahub.org.uk/stac-fastapi/\"},{\"rel\":\"child\",\"href\":\"s3://eodhp-ades-dev/processing-results/093927f4-12ad-11ef-94e9-7e375e8a9c97/093927f4-12ad-11ef-94e9-7e375e8a9c97/collection.json\",\"type\":\"application/json\",\"title\":\"Processing results\"}],\"stac_extensions\":[],\"title\":\"\"},{\"stac_version\":\"1.0.0\",\"type\":\"Catalog\",\"id\":\"earth-search-aws\",\"title\":\"Earth Search by Element 84\",\"description\":\"A STAC API of public datasets on AWS\",\"links\":[{\"rel\":\"self\",\"type\":\"application/json\",\"href\":\"https://test.eodatahub.org.uk/stac-fastapi/catalogs/earth-search-aws\"},{\"rel\":\"parent\",\"type\":\"application/json\",\"href\":\"https://test.eodatahub.org.uk/stac-fastapi/\"},{\"rel\":\"root\",\"type\":\"application/json\",\"href\":\"https://test.eodatahub.org.uk/stac-fastapi/\"},{\"rel\":\"conformance\",\"type\":\"application/json\",\"href\":\"https://test.eodatahub.org.uk/catalogue-data/element84-data/conformance.json\"},{\"rel\":\"data\",\"type\":\"application/json\",\"href\":\"https://test.eodatahub.org.uk/catalogue-data/element84-data/collections.json\"},{\"rel\":\"search\",\"type\":\"application/geo+json\",\"href\":\"https://test.eodatahub.org.uk/catalogue-data/element84-data/search.json\",\"method\":\"GET\"},{\"rel\":\"search\",\"type\":\"application/geo+json\",\"href\":\"https://test.eodatahub.org.uk/catalogue-data/element84-data/search.json\",\"method\":\"POST\"},{\"rel\":\"aggregate\",\"type\":\"application/json\",\"href\":\"https://test.eodatahub.org.uk/catalogue-data/element84-data/aggregate.json\",\"method\":\"GET\"},{\"rel\":\"aggregations\",\"type\":\"application/json\",\"href\":\"https://test.eodatahub.org.uk/catalogue-data/element84-data/aggregations.json\"},{\"rel\":\"service-desc\",\"type\":\"application/vnd.oai.openapi\",\"href\":\"https://test.eodatahub.org.uk/catalogue-data/element84-data/api.json\"},{\"rel\":\"service-doc\",\"type\":\"text/html\",\"href\":\"https://test.eodatahub.org.uk/catalogue-data/element84-data/api.html.json\"},{\"rel\":\"http:/www.opengis.net/def/rel/ogc/1.0/queryables\",\"type\":\"application/schema+json\",\"href\":\"https://test.eodatahub.org.uk/catalogue-data/element84-data/queryables.json\"},{\"rel\":\"server\",\"type\":\"text/html\",\"href\":\"https://test.eodatahub.org.uk/stac-server/\"},{\"rel\":\"child\",\"type\":\"application/geo+json\",\"href\":\"https://test.eodatahub.org.uk/catalogue-data/element84-data/collections/cop-dem-glo-30.json\"},{\"rel\":\"child\",\"type\":\"application/geo+json\",\"href\":\"https://test.eodatahub.org.uk/catalogue-data/element84-data/collections/naip.json\"},{\"rel\":\"child\",\"type\":\"application/geo+json\",\"href\":\"https://test.eodatahub.org.uk/catalogue-data/element84-data/collections/sentinel-2-l2a.json\"},{\"rel\":\"child\",\"type\":\"application/geo+json\",\"href\":\"https://test.eodatahub.org.uk/catalogue-data/element84-data/collections/sentinel-2-l1c.json\"},{\"rel\":\"child\",\"type\":\"application/geo+json\",\"href\":\"https://test.eodatahub.org.uk/catalogue-data/element84-data/collections/cop-dem-glo-90.json\"},{\"rel\":\"child\",\"type\":\"application/geo+json\",\"href\":\"https://test.eodatahub.org.uk/catalogue-data/element84-data/collections/landsat-c2-l2.json\"},{\"rel\":\"child\",\"type\":\"application/geo+json\",\"href\":\"https://test.eodatahub.org.uk/catalogue-data/element84-data/collections/sentinel-1-grd.json\"},{\"rel\":\"child\",\"type\":\"application/geo+json\",\"href\":\"https://test.eodatahub.org.uk/catalogue-data/element84-data/collections/sentinel-2-c1-l2a.json\"}],\"conformsTo\":[\"https://api.stacspec.org/v1.0.0/core\",\"https://api.stacspec.org/v1.0.0/collections\",\"https://api.stacspec.org/v1.0.0/ogcapi-features\",\"https://api.stacspec.org/v1.0.0/item-search\",\"https://api.stacspec.org/v1.0.0/ogcapi-features#fields\",\"https://api.stacspec.org/v1.0.0/ogcapi-features#sort\",\"https://api.stacspec.org/v1.0.0/ogcapi-features#query\",\"https://api.stacspec.org/v1.0.0/item-search#fields\",\"https://api.stacspec.org/v1.0.0/item-search#sort\",\"https://api.stacspec.org/v1.0.0/item-search#query\",\"https://api.stacspec.org/v0.3.0/aggregation\",\"http:/www.opengis.net/spec/ogcapi-features-1/1.0/conf/core\",\"http:/www.opengis.net/spec/ogcapi-features-1/1.0/conf/oas30\",\"http:/www.opengis.net/spec/ogcapi-features-1/1.0/conf/geojson\"],\"stac_extensions\":[]},{\"type\":\"Catalog\",\"id\":\"stac-fastapi\",\"title\":\"Supported Datasets\",\"description\":\"Catalogue containing supported datasets\",\"stac_version\":\"1.0.0\",\"conformsTo\":[\"http:/www.opengis.net/spec/ogcapi-features-3/1.0/conf/features-filter\",\"http:/www.opengis.net/spec/cql2/1.0/conf/basic-cql2\",\"https://api.stacspec.org/v1.0.0/core\",\"https://api.stacspec.org/v1.0.0/collections\",\"https://api.stacspec.org/v1.0.0/item-search#sort\",\"http:/www.opengis.net/spec/cql2/1.0/conf/cql2-json\",\"http:/www.opengis.net/spec/cql2/1.0/conf/cql2-text\",\"https://api.stacspec.org/v1.0.0-rc.2/item-search#filter\",\"http:/www.opengis.net/spec/ogcapi-features-3/1.0/conf/filter\",\"https://api.stacspec.org/v1.0.0/item-search#query\",\"https://api.stacspec.org/v1.0.0-rc.2/item-search#context\",\"http:/www.opengis.net/spec/ogcapi-features-1/1.0/conf/core\",\"http:/www.opengis.net/spec/ogcapi-features-1/1.0/conf/oas30\",\"http:/www.opengis.net/spec/ogcapi-features-1/1.0/conf/geojson\",\"https://api.stacspec.org/v1.0.0/item-search\",\"https://api.stacspec.org/v1.0.0/item-search#fields\",\"https://api.stacspec.org/v1.0.0/ogcapi-features\"],\"links\":[{\"rel\":\"self\",\"type\":\"application/json\",\"href\":\"https://test.eodatahub.org.uk/stac-fastapi/catalogs/stac-fastapi\"},{\"rel\":\"parent\",\"type\":\"application/json\",\"href\":\"https://test.eodatahub.org.uk/stac-fastapi/\"},{\"rel\":\"root\",\"type\":\"application/json\",\"href\":\"https://test.eodatahub.org.uk/stac-fastapi/\"},{\"rel\":\"data\",\"type\":\"application/json\",\"href\":\"https://test.eodatahub.org.uk/catalogue-data/supported/collections.json\"},{\"rel\":\"conformance\",\"type\":\"application/json\",\"title\":\"STAC/WFS3 conformance classes implemented by this server\",\"href\":\"https://test.eodatahub.org.uk/catalogue-data/supported/conformance.json\"},{\"rel\":\"search\",\"type\":\"application/geo+json\",\"title\":\"STAC search\",\"href\":\"https://test.eodatahub.org.uk/catalogue-data/supported/search.json\",\"method\":\"GET\"},{\"rel\":\"search\",\"type\":\"application/geo+json\",\"title\":\"STAC search\",\"href\":\"https://test.eodatahub.org.uk/catalogue-data/supported/search.json\",\"method\":\"POST\"},{\"rel\":\"child\",\"type\":\"application/json\",\"title\":\"cmip6\",\"href\":\"https://test.eodatahub.org.uk/catalogue-data/supported/collections/cmip6.json\"},{\"rel\":\"child\",\"type\":\"application/json\",\"title\":\"cordex\",\"href\":\"https://test.eodatahub.org.uk/catalogue-data/supported/collections/cordex.json\"},{\"rel\":\"child\",\"type\":\"application/json\",\"title\":\"sentinel1\",\"href\":\"https://test.eodatahub.org.uk/catalogue-data/supported/collections/sentinel1.json\"},{\"rel\":\"child\",\"type\":\"application/json\",\"title\":\"sentinel2_ard\",\"href\":\"https://test.eodatahub.org.uk/catalogue-data/supported/collections/sentinel2_ard.json\"},{\"rel\":\"child\",\"type\":\"application/json\",\"title\":\"ukcp\",\"href\":\"https://test.eodatahub.org.uk/catalogue-data/supported/collections/ukcp.json\"},{\"rel\":\"service-desc\",\"type\":\"application/vnd.oai.openapi+json;version=3.0\",\"title\":\"OpenAPI service description\",\"href\":\"https://test.eodatahub.org.uk/catalogue-data/supported/api.json\"},{\"rel\":\"service-doc\",\"type\":\"text/html\",\"title\":\"OpenAPI service documentation\",\"href\":\"https://test.eodatahub.org.uk/catalogue-data/supported/api.html.json\"}],\"stac_extensions\":[]},{\"type\":\"Catalog\",\"id\":\"test-catalog\",\"stac_version\":\"1.0.0\",\"description\":\"Root catalog\",\"links\":[{\"rel\":\"self\",\"type\":\"application/json\",\"href\":\"https://test.eodatahub.org.uk/stac-fastapi/catalogs/test-catalog\"},{\"rel\":\"parent\",\"type\":\"application/json\",\"href\":\"https://test.eodatahub.org.uk/stac-fastapi/\"},{\"rel\":\"root\",\"type\":\"application/json\",\"href\":\"https://test.eodatahub.org.uk/stac-fastapi/\"},{\"rel\":\"child\",\"href\":\"s3://eodhp-ades-dev/processing-results/093927f4-12ad-11ef-94e9-7e375e8a9c97/093927f4-12ad-11ef-94e9-7e375e8a9c97/collection.json\",\"type\":\"application/json\",\"title\":\"Processing results\"}],\"stac_extensions\":[],\"title\":\"\"}],\"links\":[{\"rel\":\"root\",\"type\":\"application/json\",\"href\":\"https://test.eodatahub.org.uk/stac-fastapi/\"},{\"rel\":\"parent\",\"type\":\"application/json\",\"href\":\"https://test.eodatahub.org.uk/stac-fastapi/\"},{\"rel\":\"self\",\"type\":\"application/json\",\"href\":\"https://test.eodatahub.org.uk/stac-fastapi/catalogs\"}]}\n"
     ]
    },
    {
     "name": "stdout",
     "output_type": "stream",
     "text": [
      "Number of collections: 0\n"
     ]
    }
   ],
   "source": [
    "print(f\"Number of collections: {len(list(rc.get_collections()))}\")\n",
    "\n",
    "for coll in list(rc.get_collections()):\n",
    "    print(f\"{coll.id}: {coll.description}\")\n"
   ]
  },
  {
   "cell_type": "code",
   "execution_count": null,
   "metadata": {},
   "outputs": [],
   "source": [
    "a = 0\n",
    "ardcoll = rc.get_collection(\"sentinel2_ard\")\n",
    "for item in list(ardcoll.get_items()):\n",
    "    a += 1\n",
    "print(a) "
   ]
  }
 ],
 "metadata": {
  "kernelspec": {
   "display_name": "eodh",
   "language": "python",
   "name": "python3"
  },
  "language_info": {
   "codemirror_mode": {
    "name": "ipython",
    "version": 3
   },
   "file_extension": ".py",
   "mimetype": "text/x-python",
   "name": "python",
   "nbconvert_exporter": "python",
   "pygments_lexer": "ipython3",
   "version": "3.12.2"
  }
 },
 "nbformat": 4,
 "nbformat_minor": 2
}
