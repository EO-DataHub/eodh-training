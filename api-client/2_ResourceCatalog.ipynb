{
 "cells": [
  {
   "cell_type": "markdown",
   "metadata": {},
   "source": [
    "# Resource Catalog"
   ]
  },
  {
   "cell_type": "markdown",
   "metadata": {},
   "source": [
    "__Description & purpose__: This Notebook is designed to showcase the initial functionality of the Earth Observation Data Hub. It provides a snapshot of the Hub, the `pyeodh` API client and the various datasets as of December 2024.   \n",
    "\n",
    "__Author(s)__: Alastair Graham, Dusan Figala, EODH\n",
    "\n",
    "__Date created__: 2024-09-05\n",
    "\n",
    "__Date last modified__: 2024-12-11\n",
    "\n",
    "__Licence__: This notebook is licensed under [Creative Commons Attribution-ShareAlike 4.0 International](https://creativecommons.org/licenses/by-sa/4.0/).  The code is released using the [BSD-2-Clause](https://www.tldrlegal.com/license/bsd-2-clause-license-freebsd) license.\n",
    "\n",
    "\n",
    "<span style=\"font-size:0.75em;\">\n",
    "Copyright (c) , All rights reserved.</span>\n",
    "\n",
    "<span style=\"font-size:0.75em;\">\n",
    "Redistribution and use in source and binary forms, with or without modification, are permitted provided that the following conditions are met:</span>\n",
    "\n",
    "<span style=\"font-size:0.75em;\">\n",
    "Redistributions of source code must retain the above copyright notice, this list of conditions and the following disclaimer. Redistributions in binary form must reproduce the above copyright notice, this list of conditions and the following disclaimer in the documentation and/or other materials provided with the distribution. THIS SOFTWARE IS PROVIDED BY THE COPYRIGHT HOLDERS AND CONTRIBUTORS \"AS IS\" AND ANY EXPRESS OR IMPLIED WARRANTIES, INCLUDING, BUT NOT LIMITED TO, THE IMPLIED WARRANTIES OF MERCHANTABILITY AND FITNESS FOR A PARTICULAR PURPOSE ARE DISCLAIMED. IN NO EVENT SHALL THE COPYRIGHT HOLDER OR CONTRIBUTORS BE LIABLE FOR ANY DIRECT, INDIRECT, INCIDENTAL, SPECIAL, EXEMPLARY, OR CONSEQUENTIAL DAMAGES (INCLUDING, BUT NOT LIMITED TO, PROCUREMENT OF SUBSTITUTE GOODS OR SERVICES; LOSS OF USE, DATA, OR PROFITS; OR BUSINESS INTERRUPTION) HOWEVER CAUSED AND ON ANY THEORY OF LIABILITY, WHETHER IN CONTRACT, STRICT LIABILITY, OR TORT (INCLUDING NEGLIGENCE OR OTHERWISE) ARISING IN ANY WAY OUT OF THE USE OF THIS SOFTWARE, EVEN IF ADVISED OF THE POSSIBILITY OF SUCH DAMAGE.</span>\n",
    "\n",
    "[WIP Icon Attribution](\"https://www.flaticon.com/free-icons/work-in-progress\")"
   ]
  },
  {
   "cell_type": "markdown",
   "metadata": {},
   "source": [
    "The first thing to do is ensure that the most recent version of `pyeodh` is installed on your system. It is good practice to run the following cell if you have not installed `pyeodh` or have not used it in a while."
   ]
  },
  {
   "cell_type": "code",
   "execution_count": null,
   "metadata": {},
   "outputs": [],
   "source": [
    "# Run this cell if pyeodh is not installed, or needs updating\n",
    "!pip install --upgrade pyeodh"
   ]
  },
  {
   "cell_type": "markdown",
   "metadata": {},
   "source": [
    "# Exploring the Resource Catalogue\n",
    "\n",
    "Now we are ready to investigate the Resource Catalogue. First off, we need to import the pyeodh package."
   ]
  },
  {
   "cell_type": "code",
   "execution_count": 1,
   "metadata": {},
   "outputs": [],
   "source": [
    "# Import the Python API Client\n",
    "import pyeodh"
   ]
  },
  {
   "cell_type": "markdown",
   "metadata": {},
   "source": [
    "Next we need to create an instance of the `Client`, which is our entrypoint to EODH APIs. From there we can start to search the collections held within the platform."
   ]
  },
  {
   "cell_type": "code",
   "execution_count": 2,
   "metadata": {},
   "outputs": [
    {
     "name": "stdout",
     "output_type": "stream",
     "text": [
      "- ukcp: UKCP\n",
      "- sentinel2_ard: sentinel 2 ARD\n",
      "- sentinel1: Sentinel 1\n",
      "- sentinel-2-l2a: Global Sentinel-2 data from the Multispectral Instrument (MSI) onboard Sentinel-2\n",
      "- sentinel-2-l1c: Global Sentinel-2 data from the Multispectral Instrument (MSI) onboard Sentinel-2\n",
      "- sentinel-2-c1-l2a: Sentinel-2 Collection 1 L2A, data from the Multispectral Instrument (MSI) onboard Sentinel-2\n",
      "- sentinel-1-grd: Sentinel-1 is a pair of Synthetic Aperture Radar (SAR) imaging satellites launched in 2014 and 2016 by the European Space Agency (ESA). Their 6 day revisit cycle and ability to observe through clouds makes this dataset perfect for sea and land monitoring, emergency response due to environmental disasters, and economic applications. This dataset represents the global Sentinel-1 GRD archive, from beginning to the present, converted to cloud-optimized GeoTIFF format.\n",
      "- naip: The [National Agriculture Imagery Program](https://www.fsa.usda.gov/programs-and-services/aerial-photography/imagery-programs/naip-imagery/) (NAIP) provides U.S.-wide, high-resolution aerial imagery, with four spectral bands (R, G, B, IR).  NAIP is administered by the [Aerial Field Photography Office](https://www.fsa.usda.gov/programs-and-services/aerial-photography/) (AFPO) within the [US Department of Agriculture](https://www.usda.gov/) (USDA).  Data are captured at least once every three years for each state.  This dataset represents NAIP data from 2010-present, in [cloud-optimized GeoTIFF](https://www.cogeo.org/) format.\n",
      "\n",
      "- landsat-c2-l2: Atmospherically corrected global Landsat Collection 2 Level-2 data from the Thematic Mapper (TM) onboard Landsat 4 and 5, the Enhanced Thematic Mapper Plus (ETM+) onboard Landsat 7, and the Operational Land Imager (OLI) and Thermal Infrared Sensor (TIRS) onboard Landsat 8 and 9.\n",
      "- land_cover: Land Cover\n"
     ]
    }
   ],
   "source": [
    "# Connect to the Hub\n",
    "client = pyeodh.Client().get_catalog_service()\n",
    "\n",
    "# Print a list of the collections held in the Resource Catalogue (their id and description).\n",
    "# As the Resource Catalogue fills and development continues, the number of collections and the richness of their descriptions will increase\n",
    "for collect in client.get_collections():\n",
    "    print(f\"- {collect.id}: {collect.description}\")"
   ]
  },
  {
   "cell_type": "markdown",
   "metadata": {},
   "source": [
    "The attributes of a catalogue are mapped to a series of properties. For instance, in the following cell we print the `id`, `title` and `description` for the supported-datasets catalogue. "
   ]
  },
  {
   "cell_type": "code",
   "execution_count": 3,
   "metadata": {},
   "outputs": [
    {
     "name": "stdout",
     "output_type": "stream",
     "text": [
      "id:  ceda-stac-catalogue\n",
      "title:  stac-fastapi-elasticsearch\n",
      "description:  stac-fastapi-elasticsearch\n"
     ]
    }
   ],
   "source": [
    "ceda_cat = client.get_catalog(\"supported-datasets/ceda-stac-catalogue\")\n",
    "print(\"id: \", ceda_cat.id)\n",
    "print(\"title: \", ceda_cat.title)\n",
    "print(\"description: \", ceda_cat.description)"
   ]
  },
  {
   "cell_type": "markdown",
   "metadata": {},
   "source": [
    "The Hub API endpoints are wrapped in methods inside `pyeodh` and are structured into classes, following the same logic as the underlying APIs. This means that, for xample, to fetch a collection item we first need to get the collection from the resource catalogue. The following cell provedes a code example to do this. "
   ]
  },
  {
   "cell_type": "code",
   "execution_count": 4,
   "metadata": {},
   "outputs": [
    {
     "data": {
      "text/plain": [
       "<pyeodh.resource_catalog.Collection at 0x781cce199910>"
      ]
     },
     "execution_count": 4,
     "metadata": {},
     "output_type": "execute_result"
    }
   ],
   "source": [
    "# GET /stac-fastapi/collections/{collection_id}/items/{item_id}\n",
    "cmip6 = client.get_catalog(\"supported-datasets/ceda-stac-catalogue\").get_collection('cmip6')\n",
    "cmip6"
   ]
  },
  {
   "cell_type": "markdown",
   "metadata": {},
   "source": [
    "Some API responses are paginated (e.g. collection items), and you can simply iterate over them."
   ]
  },
  {
   "cell_type": "code",
   "execution_count": null,
   "metadata": {},
   "outputs": [],
   "source": [
    "# GET /stac-fastapi/collections/cmip6/items\n",
    "items = cmip6.get_items()\n",
    "\n",
    "# Warning: this will take a long time for large catalogues such as cmip6\n",
    "for item in items:\n",
    "    print(item.id)\n"
   ]
  },
  {
   "cell_type": "markdown",
   "metadata": {},
   "source": [
    "# Creating, removing and updating collections\n",
    "\n",
    "![](../img/wip.png){width=50px} \n",
    "\n",
    "**To be added**\n",
    "* Fix the following cells\n",
    "* Improve explanations of the code blocks\n",
    "\n",
    "\n",
    "Attempting to create a collection with id that already exists will result in 409 error code. To see the example in action delete the test collection first by running the cell below.\n",
    "\n",
    "Delete a colletion"
   ]
  },
  {
   "cell_type": "code",
   "execution_count": null,
   "metadata": {},
   "outputs": [],
   "source": [
    "client.get_collection(\"test1\").delete()"
   ]
  },
  {
   "cell_type": "markdown",
   "metadata": {},
   "source": [
    "Create new collection example"
   ]
  },
  {
   "cell_type": "code",
   "execution_count": null,
   "metadata": {},
   "outputs": [],
   "source": [
    "test1 = client.create_collection(id=\"test1\", title=\"Test\", description=\"Test collection\")\n",
    "print(test1.description)"
   ]
  },
  {
   "cell_type": "markdown",
   "metadata": {},
   "source": [
    "Update a collection"
   ]
  },
  {
   "cell_type": "code",
   "execution_count": null,
   "metadata": {},
   "outputs": [],
   "source": [
    "test1.update(description=\"Different description\")\n",
    "print(test1.description)"
   ]
  },
  {
   "cell_type": "markdown",
   "metadata": {},
   "source": [
    "# Interacting with items\n",
    "\n",
    "Create an item"
   ]
  },
  {
   "cell_type": "code",
   "execution_count": null,
   "metadata": {},
   "outputs": [],
   "source": [
    "testitem1 = test1.create_item(id=\"test1.testitem1\")\n",
    "print(f\"Created {testitem1.id} in collection {testitem1.collection}\")"
   ]
  },
  {
   "cell_type": "markdown",
   "metadata": {},
   "source": [
    "Update an item"
   ]
  },
  {
   "cell_type": "code",
   "execution_count": null,
   "metadata": {},
   "outputs": [],
   "source": [
    "testitem1.update(properties={\"foo\": \"bar\"})\n",
    "print(testitem1.properties)"
   ]
  },
  {
   "cell_type": "markdown",
   "metadata": {},
   "source": [
    "Delete an item"
   ]
  },
  {
   "cell_type": "code",
   "execution_count": null,
   "metadata": {},
   "outputs": [],
   "source": [
    "testitem1.delete()"
   ]
  },
  {
   "cell_type": "markdown",
   "metadata": {},
   "source": [
    "Find out more about the Resource Catalog"
   ]
  },
  {
   "cell_type": "code",
   "execution_count": null,
   "metadata": {},
   "outputs": [],
   "source": [
    "print(f\"Livecheck: PING-{rc.ping()}\")\n",
    "print(\"\\nAPI conforms to:\", *rc.get_conformance(), sep=\"\\n\")"
   ]
  }
 ],
 "metadata": {
  "kernelspec": {
   "display_name": "eodh",
   "language": "python",
   "name": "python3"
  },
  "language_info": {
   "codemirror_mode": {
    "name": "ipython",
    "version": 3
   },
   "file_extension": ".py",
   "mimetype": "text/x-python",
   "name": "python",
   "nbconvert_exporter": "python",
   "pygments_lexer": "ipython3",
   "version": "3.12.2"
  }
 },
 "nbformat": 4,
 "nbformat_minor": 2
}
