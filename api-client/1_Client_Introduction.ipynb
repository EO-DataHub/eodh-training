{
 "cells": [
  {
   "cell_type": "markdown",
   "metadata": {},
   "source": [
    "# Introduction to the Python API Client"
   ]
  },
  {
   "cell_type": "markdown",
   "metadata": {},
   "source": [
    "Need Notebooks on the \n",
    "\n",
    "* ↳Resource Catalogue\n",
    "* ↳Workflow Runner\n",
    "* ↳OGC Services\n",
    "* ↳Events and Notifications\n",
    "* ↳Identity Access Management\n",
    "\n",
    "S3 and data access?"
   ]
  },
  {
   "cell_type": "markdown",
   "metadata": {},
   "source": []
  }
 ],
 "metadata": {
  "language_info": {
   "name": "python"
  }
 },
 "nbformat": 4,
 "nbformat_minor": 2
}
