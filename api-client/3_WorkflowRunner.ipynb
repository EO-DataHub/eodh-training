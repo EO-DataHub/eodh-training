{
 "cells": [
  {
   "cell_type": "markdown",
   "metadata": {},
   "source": [
    "__Description & purpose__:    \n",
    "\n",
    "__Author(s)__: Alastair Graham, Dusan Figala\n",
    "\n",
    "__Date created__: 2024-09-10\n",
    "\n",
    "__Date last modified__: 2024-12-05\n",
    "\n",
    "__Licence__: This notebook is licensed under [Creative Commons Attribution-ShareAlike 4.0 International](https://creativecommons.org/licenses/by-sa/4.0/).  The code is released using the [BSD-2-Clause](https://www.tldrlegal.com/license/bsd-2-clause-license-freebsd) license.\n",
    "\n",
    "\n",
    "<span style=\"font-size:0.75em;\">\n",
    "Copyright (c) , All rights reserved.</span>\n",
    "\n",
    "<span style=\"font-size:0.75em;\">\n",
    "Redistribution and use in source and binary forms, with or without modification, are permitted provided that the following conditions are met:</span>\n",
    "\n",
    "<span style=\"font-size:0.75em;\">\n",
    "Redistributions of source code must retain the above copyright notice, this list of conditions and the following disclaimer. Redistributions in binary form must reproduce the above copyright notice, this list of conditions and the following disclaimer in the documentation and/or other materials provided with the distribution. THIS SOFTWARE IS PROVIDED BY THE COPYRIGHT HOLDERS AND CONTRIBUTORS \"AS IS\" AND ANY EXPRESS OR IMPLIED WARRANTIES, INCLUDING, BUT NOT LIMITED TO, THE IMPLIED WARRANTIES OF MERCHANTABILITY AND FITNESS FOR A PARTICULAR PURPOSE ARE DISCLAIMED. IN NO EVENT SHALL THE COPYRIGHT HOLDER OR CONTRIBUTORS BE LIABLE FOR ANY DIRECT, INDIRECT, INCIDENTAL, SPECIAL, EXEMPLARY, OR CONSEQUENTIAL DAMAGES (INCLUDING, BUT NOT LIMITED TO, PROCUREMENT OF SUBSTITUTE GOODS OR SERVICES; LOSS OF USE, DATA, OR PROFITS; OR BUSINESS INTERRUPTION) HOWEVER CAUSED AND ON ANY THEORY OF LIABILITY, WHETHER IN CONTRACT, STRICT LIABILITY, OR TORT (INCLUDING NEGLIGENCE OR OTHERWISE) ARISING IN ANY WAY OUT OF THE USE OF THIS SOFTWARE, EVEN IF ADVISED OF THE POSSIBILITY OF SUCH DAMAGE.</span>"
   ]
  },
  {
   "cell_type": "markdown",
   "metadata": {},
   "source": [
    "# ADD Oxidian link"
   ]
  },
  {
   "cell_type": "markdown",
   "metadata": {},
   "source": [
    "# What this does\n",
    "This notebook demostrates usage of the EODH ADES API using pyeodh.\n",
    "\n",
    "EODH provides Application Deployment & Execution Service - ADES, to which you can deploy workflows and execute parametrised processing jobs. Pyeodh provides an interface to simplify interaction with ADES from python scripts.\n",
    "\n",
    "First we need to instantiate pyeodh client and get the ADES entrypoint.\n",
    "\n",
    "Note: This API requires authentication credentials to be provided by the user (in this case read from environment variables). This is a subject to change as the hub is implementing proper IAM solution."
   ]
  },
  {
   "cell_type": "code",
   "execution_count": null,
   "metadata": {},
   "outputs": [],
   "source": [
    "from requests import HTTPError\n",
    "import os\n",
    "from pprint import pp\n",
    "from dotenv import load_dotenv\n",
    "\n",
    "import pyeodh\n",
    "\n",
    "from pathlib import Path\n",
    "\n",
    "dotenv_path = Path('reqts/.env')\n",
    "load_dotenv(dotenv_path=dotenv_path)\n",
    "\n",
    "#load_dotenv()\n",
    "username = os.getenv(\"ADES_USER\")\n",
    "token = os.getenv(\"ADES_TOKEN\")\n",
    "\n",
    "\n",
    "client = pyeodh.Client(username=username, token=token)\n",
    "ades = client.get_ades()\n",
    "\n"
   ]
  },
  {
   "cell_type": "code",
   "execution_count": 22,
   "metadata": {},
   "outputs": [],
   "source": [
    "!unset ADES_TOKEN"
   ]
  },
  {
   "cell_type": "code",
   "execution_count": 2,
   "metadata": {},
   "outputs": [
    {
     "name": "stdout",
     "output_type": "stream",
     "text": [
      "CHROME_DESKTOP: code.desktop\n",
      "CONDA_DEFAULT_ENV: eodh\n",
      "CONDA_EXE: /home/al/miniforge3/bin/conda\n",
      "CONDA_PREFIX: /home/al/miniforge3/envs/eodh\n",
      "CONDA_PROMPT_MODIFIER: (eodh) \n",
      "CONDA_PYTHON_EXE: /home/al/miniforge3/bin/python\n",
      "CONDA_SHLVL: 2\n",
      "DBUS_SESSION_BUS_ADDRESS: unix:path=/run/user/1000/bus\n",
      "DESKTOP_SESSION: pop\n",
      "DISPLAY: :1\n",
      "GDK_BACKEND: x11\n",
      "GDMSESSION: pop\n",
      "GIO_LAUNCHED_DESKTOP_FILE: /usr/share/applications/code.desktop\n",
      "GIO_LAUNCHED_DESKTOP_FILE_PID: 5484\n",
      "GJS_DEBUG_OUTPUT: stderr\n",
      "GJS_DEBUG_TOPICS: JS ERROR;JS LOG\n",
      "GNOME_DESKTOP_SESSION_ID: this-is-deprecated\n",
      "GNOME_SHELL_SESSION_MODE: pop\n",
      "GPG_AGENT_INFO: /run/user/1000/gnupg/S.gpg-agent:0:1\n",
      "GSETTINGS_SCHEMA_DIR: /home/al/miniforge3/envs/eodh/share/glib-2.0/schemas\n",
      "GTK_IM_MODULE: ibus\n",
      "GTK_MODULES: gail:atk-bridge\n",
      "HOME: /home/al\n",
      "INVOCATION_ID: 051e25278c044f50b26e0cc2a4a7b8ea\n",
      "JOURNAL_STREAM: 9:18828\n",
      "LANG: en_GB.UTF-8\n",
      "LESSCLOSE: /usr/bin/lesspipe %s %s\n",
      "LESSOPEN: | /usr/bin/lesspipe %s\n",
      "LOGNAME: al\n",
      "MANAGERPID: 3176\n",
      "ORIGINAL_XDG_CURRENT_DESKTOP: pop:GNOME\n",
      "PATH: /home/al/miniforge3/envs/eodh/bin:/home/al/miniforge3/condabin:/usr/local/sbin:/usr/local/bin:/usr/sbin:/usr/bin:/sbin:/bin:/usr/games:/usr/local/games:/snap/bin\n",
      "PWD: /home/al\n",
      "QT_ACCESSIBILITY: 1\n",
      "QT_IM_MODULE: ibus\n",
      "SESSION_MANAGER: local/pop-os:@/tmp/.ICE-unix/3393,unix/pop-os:/tmp/.ICE-unix/3393\n",
      "SHELL: /bin/bash\n",
      "SHLVL: 1\n",
      "SSH_AGENT_LAUNCHER: gnome-keyring\n",
      "SSH_AUTH_SOCK: /run/user/1000/keyring/ssh\n",
      "SYSTEMD_EXEC_PID: 3422\n",
      "USER: al\n",
      "USERNAME: al\n",
      "VSCODE_CODE_CACHE_PATH: /home/al/.config/Code/CachedData/f1a4fb101478ce6ec82fe9627c43efbf9e98c813\n",
      "VSCODE_CRASH_REPORTER_PROCESS_TYPE: extensionHost\n",
      "VSCODE_CWD: /home/al\n",
      "VSCODE_ESM_ENTRYPOINT: vs/workbench/api/node/extensionHostProcess\n",
      "VSCODE_HANDLES_UNCAUGHT_ERRORS: true\n",
      "VSCODE_IPC_HOOK: /run/user/1000/vscode-9b06a77b-1.95-main.sock\n",
      "VSCODE_NLS_CONFIG: {\"userLocale\":\"en-us\",\"osLocale\":\"en-gb\",\"resolvedLanguage\":\"en\",\"defaultMessagesFile\":\"/usr/share/code/resources/app/out/nls.messages.json\",\"locale\":\"en-us\",\"availableLanguages\":{}}\n",
      "VSCODE_PID: 5484\n",
      "WINDOWPATH: 2\n",
      "XAUTHORITY: /run/user/1000/gdm/Xauthority\n",
      "XDG_CONFIG_DIRS: /etc/xdg/xdg-pop:/etc/xdg\n",
      "XDG_CURRENT_DESKTOP: Unity\n",
      "XDG_DATA_DIRS: /usr/share/pop:/usr/share/gnome:/home/al/.local/share/flatpak/exports/share:/var/lib/flatpak/exports/share:/usr/local/share/:/usr/share/\n",
      "XDG_MENU_PREFIX: gnome-\n",
      "XDG_RUNTIME_DIR: /run/user/1000\n",
      "XDG_SESSION_CLASS: user\n",
      "XDG_SESSION_DESKTOP: pop\n",
      "XDG_SESSION_TYPE: x11\n",
      "XML_CATALOG_FILES: file:///home/al/miniforge3/envs/eodh/etc/xml/catalog file:///etc/xml/catalog\n",
      "XMODIFIERS: @im=ibus\n",
      "_: /home/al/miniforge3/envs/eodh/bin/python\n",
      "ELECTRON_RUN_AS_NODE: 1\n",
      "APPLICATION_INSIGHTS_NO_DIAGNOSTIC_CHANNEL: 1\n",
      "APPLICATIONINSIGHTS_CONFIGURATION_CONTENT: {}\n",
      "VSCODE_L10N_BUNDLE_LOCATION: \n",
      "PYTHONUNBUFFERED: 1\n",
      "_CE_M: \n",
      "CONDA_ROOT: /home/al/miniforge3\n",
      "GSETTINGS_SCHEMA_DIR_CONDA_BACKUP: \n",
      "CPL_ZIP_ENCODING: UTF-8\n",
      "_CE_CONDA: \n",
      "PYTHONIOENCODING: utf-8\n",
      "GDAL_DRIVER_PATH: /home/al/miniforge3/envs/eodh/lib/gdalplugins\n",
      "PROJ_DATA: /home/al/miniforge3/envs/eodh/share/proj\n",
      "GDAL_DATA: /home/al/miniforge3/envs/eodh/share/gdal\n",
      "CONDA_PREFIX_1: /home/al/miniforge3\n",
      "PROJ_NETWORK: ON\n",
      "PYDEVD_IPYTHON_COMPATIBLE_DEBUGGING: 1\n",
      "PYTHON_FROZEN_MODULES: on\n",
      "PYDEVD_USE_FRAME_EVAL: NO\n",
      "TERM: xterm-color\n",
      "CLICOLOR: 1\n",
      "FORCE_COLOR: 1\n",
      "CLICOLOR_FORCE: 1\n",
      "PAGER: cat\n",
      "GIT_PAGER: cat\n",
      "MPLBACKEND: module://matplotlib_inline.backend_inline\n",
      "ADES_USER: ajgwords\n",
      "ADES_TOKEN: 454f4448625c451c6564eb14dea5d311\n"
     ]
    }
   ],
   "source": [
    "for name, value in os.environ.items():\n",
    "    print(\"{0}: {1}\".format(name, value))"
   ]
  },
  {
   "cell_type": "markdown",
   "metadata": {},
   "source": [
    "Processes (or workflows) are predefined applications which can be parametrised and executed by users. To get a list of currently available processes in our user workspace call Ades.get_processes() method:"
   ]
  },
  {
   "cell_type": "code",
   "execution_count": 3,
   "metadata": {},
   "outputs": [
    {
     "name": "stdout",
     "output_type": "stream",
     "text": [
      "echo\n",
      "convert-url\n"
     ]
    }
   ],
   "source": [
    "\n",
    "for p in ades.get_processes():\n",
    "    print(p.id)"
   ]
  },
  {
   "cell_type": "markdown",
   "metadata": {},
   "source": [
    "You can fetch a specific workflow if you know it's ID using Ades.get_process() method. The Process object also contains metadata giving us more information about the process and how to execute it, for example the schema of inputs we can use to parametrise the process or output schema."
   ]
  },
  {
   "cell_type": "code",
   "execution_count": 4,
   "metadata": {},
   "outputs": [
    {
     "name": "stdout",
     "output_type": "stream",
     "text": [
      "{'fn': {'title': 'the operation to perform',\n",
      "        'description': 'the operation to perform',\n",
      "        'schema': {'type': 'string'}},\n",
      " 'size': {'title': 'the percentage for a resize operation',\n",
      "          'description': 'the percentage for a resize operation',\n",
      "          'schema': {'type': 'string'}},\n",
      " 'url': {'title': 'the image to convert',\n",
      "         'description': 'the image to convert',\n",
      "         'schema': {'type': 'string'}}}\n",
      "{'converted_image': {'title': 'converted_image',\n",
      "                     'description': 'None',\n",
      "                     'extended-schema': {'oneOf': [{'allOf': [{'$ref': 'http://zoo-project.org/dl/link.json'},\n",
      "                                                              {'type': 'object',\n",
      "                                                               'properties': {'type': {'enum': ['application/json']}}}]},\n",
      "                                                   {'type': 'object',\n",
      "                                                    'required': ['value'],\n",
      "                                                    'properties': {'value': {'oneOf': [{'type': 'object'}]}}}]},\n",
      "                     'schema': {'oneOf': [{'type': 'object'}]}}}\n"
     ]
    }
   ],
   "source": [
    "convert_url_proc = ades.get_process(\"convert-url\")\n",
    "\n",
    "pp(convert_url_proc.inputs_schema)\n",
    "pp(convert_url_proc.outputs_schema)"
   ]
  },
  {
   "cell_type": "code",
   "execution_count": null,
   "metadata": {},
   "outputs": [],
   "source": [
    "for j in ades.get_jobs():\n",
    "    print(j.id, j.process_id, j.status)"
   ]
  },
  {
   "cell_type": "markdown",
   "metadata": {},
   "source": [
    "Only one process with the same ID can exist. To demonstrate deploying a process further down in this notebook, we first need to undeploy convert-url. Note that attempting to delete a non-existent process will result in 4xx http status code."
   ]
  },
  {
   "cell_type": "code",
   "execution_count": null,
   "metadata": {},
   "outputs": [],
   "source": [
    "try:\n",
    "    ades.get_process(\"convert-url\").delete()\n",
    "except HTTPError:\n",
    "    print(\"Process not found, no need to undeploy.\")"
   ]
  },
  {
   "cell_type": "markdown",
   "metadata": {},
   "source": [
    "Let's deploy the convert-url process again. There are 2 ways we can provide the CWL file - either referencing the file by URL or by passing the CWL file content directly. Note that Ades.deploy_process() will fail if we try to create a process with ID that already exists. If we want to update an existing process, we should use Process.update() method instead. Both methods can handle URL or CWL YAML. In this example we deploy a process referencing by URL and then update it by passing the new CWL YAML content directly. Also note that when updating a worklow you need to provide the entire workflow, the API does not support partial updates (e.g. to change the description we need to provide the entire workflow again)."
   ]
  },
  {
   "cell_type": "code",
   "execution_count": 4,
   "metadata": {},
   "outputs": [
    {
     "name": "stdout",
     "output_type": "stream",
     "text": [
      "convert-url Convert URL\n"
     ]
    }
   ],
   "source": [
    "convert_url_proc = ades.deploy_process(\n",
    "    cwl_url=\"https://raw.githubusercontent.com/EOEPCA/deployment-guide/main/deploy/samples/requests/processing/convert-url-app.cwl\"\n",
    ")\n",
    "print(convert_url_proc.id, convert_url_proc.description)"
   ]
  },
  {
   "cell_type": "code",
   "execution_count": 5,
   "metadata": {},
   "outputs": [
    {
     "name": "stdout",
     "output_type": "stream",
     "text": [
      "convert-url Convert URL YAML\n"
     ]
    }
   ],
   "source": [
    "cwl_yaml = \"\"\"cwlVersion: v1.0\n",
    "$namespaces:\n",
    "  s: https://schema.org/\n",
    "s:softwareVersion: 0.1.2\n",
    "schemas:\n",
    "  - http://schema.org/version/9.0/schemaorg-current-http.rdf\n",
    "$graph:\n",
    "  # Workflow entrypoint\n",
    "  - class: Workflow\n",
    "    id: convert-url\n",
    "    label: convert url app\n",
    "    doc: Convert URL YAML\n",
    "    requirements:\n",
    "      ResourceRequirement:\n",
    "        coresMax: 1\n",
    "        ramMax: 1024\n",
    "    inputs:\n",
    "      fn:\n",
    "        label: the operation to perform\n",
    "        doc: the operation to perform\n",
    "        type: string\n",
    "      url:\n",
    "        label: the image to convert\n",
    "        doc: the image to convert\n",
    "        type: string\n",
    "      size:\n",
    "        label: the percentage for a resize operation\n",
    "        doc: the percentage for a resize operation\n",
    "        type: string\n",
    "    outputs:\n",
    "      - id: converted_image\n",
    "        type: Directory\n",
    "        outputSource:\n",
    "          - convert/results\n",
    "    steps:\n",
    "      convert:\n",
    "        run: \"#convert\"\n",
    "        in:\n",
    "          fn: fn\n",
    "          url: url\n",
    "          size: size\n",
    "        out:\n",
    "          - results\n",
    "  # convert.sh - takes input args `--url`\n",
    "  - class: CommandLineTool\n",
    "    id: convert\n",
    "    requirements:\n",
    "      ResourceRequirement:\n",
    "        coresMax: 1\n",
    "        ramMax: 512\n",
    "    hints:\n",
    "      DockerRequirement:\n",
    "        dockerPull: eoepca/convert:latest\n",
    "    baseCommand: convert.sh\n",
    "    inputs:\n",
    "      fn:\n",
    "        type: string\n",
    "        inputBinding:\n",
    "          position: 1\n",
    "      url:\n",
    "        type: string\n",
    "        inputBinding:\n",
    "          position: 2\n",
    "          prefix: --url\n",
    "      size:\n",
    "        type: string\n",
    "        inputBinding:\n",
    "          position: 3\n",
    "    outputs:\n",
    "      results:\n",
    "        type: Directory\n",
    "        outputBinding:\n",
    "          glob: .\n",
    "\"\"\"\n",
    "\n",
    "convert_url_proc.update(cwl_yaml=cwl_yaml)\n",
    "print(convert_url_proc.id, convert_url_proc.description)"
   ]
  },
  {
   "cell_type": "markdown",
   "metadata": {},
   "source": [
    "Let's execute our deployed process. We need to provide inputs as a dictionary in this format, see Process.inputs_schema property for inputs this particular workflow is expecting."
   ]
  },
  {
   "cell_type": "code",
   "execution_count": 6,
   "metadata": {},
   "outputs": [
    {
     "name": "stdout",
     "output_type": "stream",
     "text": [
      "672f0742-b6f5-11ef-a8b0-6a040e2afd6f running ZOO-Kernel accepted to run your service!\n"
     ]
    }
   ],
   "source": [
    "convert_url_job = convert_url_proc.execute(\n",
    "    {\n",
    "        \"fn\": \"resize\",\n",
    "        \"url\": \"https://eoepca.org/media_portal/images/logo6_med.original.png\",\n",
    "        \"size\": \"50%\",\n",
    "    }\n",
    ")\n",
    "\n",
    "print(convert_url_job.id, convert_url_job.status, convert_url_job.message)"
   ]
  },
  {
   "cell_type": "markdown",
   "metadata": {},
   "source": [
    "The job should now be running. Call Job.refresh() method to get the most up-to-date status and interrogate Job.status and Job.message properties. Note that these properties only hold the latest response from the API, and don't keep any historical records."
   ]
  },
  {
   "cell_type": "code",
   "execution_count": null,
   "metadata": {},
   "outputs": [],
   "source": [
    "convert_url_job.refresh()\n",
    "print(convert_url_job.id, convert_url_job.status, convert_url_job.message)"
   ]
  },
  {
   "cell_type": "code",
   "execution_count": null,
   "metadata": {},
   "outputs": [],
   "source": [
    "We can continually poll the job using a simple loop and print status and message udpates like so:\n",
    "\n",
    "from pyeodh.ades import AdesJobStatus\n",
    "import time\n",
    "\n",
    "\n",
    "old_status = \"\"\n",
    "old_message = \"\"\n",
    "while convert_url_job.status == AdesJobStatus.RUNNING.value:\n",
    "    time.sleep(2)\n",
    "    convert_url_job.refresh()\n",
    "    if convert_url_job.status != old_status:\n",
    "        print(\"\\n\")\n",
    "        print(f\"Status: {convert_url_job.status}\")\n",
    "    if convert_url_job.message != old_message:\n",
    "        print(f\"Message: {convert_url_job.message}\")\n",
    "\n",
    "    old_status = convert_url_job.status\n",
    "    old_message = convert_url_job.message"
   ]
  },
  {
   "cell_type": "code",
   "execution_count": null,
   "metadata": {},
   "outputs": [],
   "source": [
    "After the job has finished successfully, we can view the results, where the data files are referenced by assets\n",
    "\n",
    "results = convert_url_job.get_result_items()\n",
    "for res in results:\n",
    "    print(res.id, res.assets)"
   ]
  }
 ],
 "metadata": {
  "kernelspec": {
   "display_name": "eodh",
   "language": "python",
   "name": "python3"
  },
  "language_info": {
   "codemirror_mode": {
    "name": "ipython",
    "version": 3
   },
   "file_extension": ".py",
   "mimetype": "text/x-python",
   "name": "python",
   "nbconvert_exporter": "python",
   "pygments_lexer": "ipython3",
   "version": "3.12.2"
  }
 },
 "nbformat": 4,
 "nbformat_minor": 2
}
